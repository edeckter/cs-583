{
 "cells": [
  {
   "cell_type": "markdown",
   "metadata": {
    "colab_type": "text",
    "id": "Dhk8_56n54h9"
   },
   "source": [
    "# Home 4: Build a seq2seq model for machine translation.\n",
    "\n",
    "### Name: Erika Deckter\n",
    "\n",
    "### Task: Translate English to French and Spanish"
   ]
  },
  {
   "cell_type": "markdown",
   "metadata": {
    "colab_type": "text",
    "id": "s18k5tCH54iE"
   },
   "source": [
    "## 0. You will do the following:\n",
    "\n",
    "1. Read and run my code.\n",
    "2. Complete the code in Section 1.1 and Section 4.2.\n",
    "\n",
    "    * Translation English to **German** is not acceptable!!! Try another language.\n",
    "    \n",
    "3. **Make improvements.** Directly modify the code in Section 3. Do at least one of the followings. By doing more, you will get up to 2 bonus scores to the total.\n",
    "\n",
    "    * Bi-LSTM instead of LSTM\n",
    "    \n",
    "    * Multi-task learning (e.g., both English to French and English to Spanish)\n",
    "    \n",
    "    * Attention\n",
    "    \n",
    "4. Evaluate the translation using the BLEU score. \n",
    "\n",
    "    * Optional. Up to 1 bonus scores to the total.\n",
    "    \n",
    "5. Convert the notebook to .HTML file. \n",
    "\n",
    "    * The HTML file must contain the code and the output after execution.\n",
    "\n",
    "6. Put the .HTML file in your own Github repo. \n",
    "\n",
    "7. Submit the link to the HTML file to Canvas.    \n"
   ]
  },
  {
   "cell_type": "code",
   "execution_count": null,
   "metadata": {
    "colab": {
     "base_uri": "https://localhost:8080/",
     "height": 129
    },
    "colab_type": "code",
    "id": "aC85hwO-6BRn",
    "outputId": "ee50ca54-1999-470d-ab26-b7daf315dfd9"
   },
   "outputs": [],
   "source": [
    "from google.colab import drive\n",
    "drive.mount('/content/drive')"
   ]
  },
  {
   "cell_type": "markdown",
   "metadata": {
    "colab_type": "text",
    "id": "mEJx_qQN54iM"
   },
   "source": [
    "### Hint: \n",
    "\n",
    "To implement ```Bi-LSTM```, you will need the following code to build the encoder; the decoder won't be much different."
   ]
  },
  {
   "cell_type": "code",
   "execution_count": null,
   "metadata": {
    "colab": {
     "base_uri": "https://localhost:8080/",
     "height": 312
    },
    "colab_type": "code",
    "id": "FpQuEFGy54iQ",
    "outputId": "dff1dc01-6e32-4dcf-dc68-b679d1a44bb3"
   },
   "outputs": [],
   "source": [
    "from keras.layers import Bidirectional, Concatenate\n",
    "\n",
    "encoder_bilstm = Bidirectional(LSTM(latent_dim, return_state=True, \n",
    "                                  dropout=0.5, name='encoder_lstm'))\n",
    "_, forward_h, forward_c, backward_h, backward_c = encoder_bilstm(encoder_inputs)\n",
    "\n",
    "state_h = Concatenate()([forward_h, backward_h])\n",
    "state_c = Concatenate()([forward_c, backward_c])"
   ]
  },
  {
   "cell_type": "markdown",
   "metadata": {
    "colab_type": "text",
    "id": "6UwjRD7P54ic"
   },
   "source": [
    "### Hint: \n",
    "\n",
    "To implement multi-task training, you can refer to ```Section 7.1.3 Multi-output models``` of the textbook, ```Deep Learning with Python```."
   ]
  },
  {
   "cell_type": "markdown",
   "metadata": {
    "colab_type": "text",
    "id": "OVn2ROaF54ii"
   },
   "source": [
    "## 1. Data preparation\n",
    "\n",
    "1. Download data (e.g., \"deu-eng.zip\") from http://www.manythings.org/anki/\n",
    "2. Unzip the .ZIP file.\n",
    "3. Put the .TXT file (e.g., \"deu.txt\") in the directory \"./Data/\"."
   ]
  },
  {
   "cell_type": "markdown",
   "metadata": {
    "colab_type": "text",
    "id": "lSj9VRUQ54im"
   },
   "source": [
    "### 1.1. Load and clean text\n"
   ]
  },
  {
   "cell_type": "code",
   "execution_count": 0,
   "metadata": {
    "colab": {},
    "colab_type": "code",
    "id": "pISlJhlu54io"
   },
   "outputs": [],
   "source": [
    "import re\n",
    "import string\n",
    "from unicodedata import normalize\n",
    "import numpy\n",
    "\n",
    "# load doc into memory\n",
    "def load_doc(filename):\n",
    "    # open the file as read only\n",
    "    file = open(filename, mode='rt', encoding='utf-8')\n",
    "    # read all text\n",
    "    text = file.read()\n",
    "    # close the file\n",
    "    file.close()\n",
    "    return text\n",
    "\n",
    "\n",
    "# split a loaded document into sentences\n",
    "def to_pairs(doc):\n",
    "    lines = doc.strip().split('\\n')\n",
    "    pairs = [line.split('\\t') for line in  lines]\n",
    "    return pairs\n",
    "\n",
    "def clean_data(lines):\n",
    "    cleaned = list()\n",
    "    # prepare regex for char filtering\n",
    "    re_print = re.compile('[^%s]' % re.escape(string.printable))\n",
    "    # prepare translation table for removing punctuation\n",
    "    table = str.maketrans('', '', string.punctuation)\n",
    "    for pair in lines:\n",
    "        clean_pair = list()\n",
    "        for line in pair:\n",
    "            # normalize unicode characters\n",
    "            line = normalize('NFD', line).encode('ascii', 'ignore')\n",
    "            line = line.decode('UTF-8')\n",
    "            # tokenize on white space\n",
    "            line = line.split()\n",
    "            # convert to lowercase\n",
    "            line = [word.lower() for word in line]\n",
    "            # remove punctuation from each token\n",
    "            line = [word.translate(table) for word in line]\n",
    "            # remove non-printable chars form each token\n",
    "            line = [re_print.sub('', w) for w in line]\n",
    "            # remove tokens with numbers in them\n",
    "            line = [word for word in line if word.isalpha()]\n",
    "            # store as string\n",
    "            clean_pair.append(' '.join(line))\n",
    "        cleaned.append(clean_pair)\n",
    "    return numpy.array(cleaned)"
   ]
  },
  {
   "cell_type": "markdown",
   "metadata": {
    "colab_type": "text",
    "id": "Jogx43FJ54iy"
   },
   "source": [
    "#### Fill the following blanks:"
   ]
  },
  {
   "cell_type": "code",
   "execution_count": 0,
   "metadata": {
    "colab": {},
    "colab_type": "code",
    "id": "WnoNpQnE54i2"
   },
   "outputs": [],
   "source": [
    "# e.g., filename = 'Data/deu.txt'\n",
    "files = ['drive/My Drive/CS 583/data/fra.txt', 'drive/My Drive/CS 583/data/spa.txt']\n",
    "#files = ['data/fra.txt', 'data/spa.txt']\n",
    "\n",
    "# e.g., n_train = 20000\n",
    "n_train = 50000"
   ]
  },
  {
   "cell_type": "code",
   "execution_count": 0,
   "metadata": {
    "colab": {},
    "colab_type": "code",
    "id": "b-CpXbZ254jD"
   },
   "outputs": [],
   "source": [
    "def get_sentence_pairs(filename):\n",
    "    # load dataset\n",
    "    doc = load_doc(filename)\n",
    "    # split into Language1-Language2 pairs\n",
    "    pairs = to_pairs(doc)\n",
    "    # clean sentences\n",
    "    #clean_pairs = clean_data(pairs)[0:n_train, :]\n",
    "    clean_pairs = clean_data(pairs)\n",
    "    \n",
    "    return clean_pairs\n",
    "\n",
    "#Get French and Spanish pairs\n",
    "french_pairs = get_sentence_pairs(files[0])[:,0:2]\n",
    "spanish_pairs = get_sentence_pairs(files[1])[:,0:2]"
   ]
  },
  {
   "cell_type": "code",
   "execution_count": 0,
   "metadata": {
    "colab": {},
    "colab_type": "code",
    "id": "GpadNAuEfnpl"
   },
   "outputs": [],
   "source": [
    "#Join two datasets on English phrases\n",
    "import pandas as pd\n",
    "\n",
    "french = pd.DataFrame(french_pairs, columns=['English','French'])\n",
    "spanish = pd.DataFrame(spanish_pairs, columns=['English','Spanish'])\n",
    "spanish.set_index('English')\n",
    "\n",
    "#Combine on English words\n",
    "all_pairs = french.join(spanish.set_index('English'), on='English', how='inner').reset_index(drop=True)\n",
    "\n",
    "#Pick n_train random sentences to use for training data\n",
    "pairs = all_pairs.sample(n=n_train, random_state=42)\n",
    "#Designate remaining data as test dataset\n",
    "test_pairs = all_pairs.drop(pairs.index)\n",
    "\n",
    "#Convert training and test dataset to numpy arrays\n",
    "pairs = numpy.array(pairs)\n",
    "test_pairs = numpy.array(test_pairs)"
   ]
  },
  {
   "cell_type": "code",
   "execution_count": 5,
   "metadata": {
    "colab": {
     "base_uri": "https://localhost:8080/",
     "height": 439
    },
    "colab_type": "code",
    "id": "g-nGE5Xs54jM",
    "outputId": "d935ecb9-fbf6-4739-d78d-b396c304b080"
   },
   "outputs": [
    {
     "name": "stdout",
     "output_type": "stream",
     "text": [
      "English => French\n",
      "[why dont you come visit us] => [pourquoi ne venezvous pas nous voir]\n",
      "[i cant say] => [je ne peux le dire]\n",
      "[help me] => [aidemoi]\n",
      "[remain seated please] => [veuillez rester assises]\n",
      "[i spent a lot of my time studying french] => [jai passe beaucoup de mon temps a etudier le francais]\n",
      "[is it raining now] => [pleutil maintenant]\n",
      "[people can turn to the law if they want to correct an injustice] => [les gens peuvent se tourner vers la loi sils veulent corriger une injustice]\n",
      "[this time ill try it] => [cette fois je vais essayer ca]\n",
      "[write your full name] => [ecrivez votre nom complet]\n",
      "[youre very brave] => [vous etes tres courageuses]\n",
      "\n",
      "English => Spanish\n",
      "[why dont you come visit us] => [por que no vienen a visitarnos]\n",
      "[i cant say] => [no puedo decir]\n",
      "[help me] => [ayudame]\n",
      "[remain seated please] => [quedense sentados por favor]\n",
      "[i spent a lot of my time studying french] => [paso mucho tiempo estudiando frances]\n",
      "[is it raining now] => [ahora esta lloviendo]\n",
      "[people can turn to the law if they want to correct an injustice] => [la gente puede acudir a la ley si quiere corregir una injusticia]\n",
      "[this time ill try it] => [esta vez lo intentare]\n",
      "[write your full name] => [escriba su nombre y apellidos]\n",
      "[youre very brave] => [sois muy valientes]\n"
     ]
    }
   ],
   "source": [
    "#Print French pairs\n",
    "print('English => French')\n",
    "for i in range(3000, 3010):\n",
    "    print('[' + pairs[i, 0] + '] => [' + pairs[i, 1] + ']')\n",
    "#Print Spanish pairs\n",
    "print('\\nEnglish => Spanish')\n",
    "for i in range(3000, 3010):\n",
    "    print('[' + pairs[i, 0] + '] => [' + pairs[i, 2] + ']')"
   ]
  },
  {
   "cell_type": "code",
   "execution_count": 6,
   "metadata": {
    "colab": {
     "base_uri": "https://localhost:8080/",
     "height": 72
    },
    "colab_type": "code",
    "id": "LLiBflgh54jV",
    "outputId": "d1d3c5e7-b3ae-489f-e43b-982f2e51000b"
   },
   "outputs": [
    {
     "name": "stdout",
     "output_type": "stream",
     "text": [
      "Length of input_texts: 50000\n",
      "Length of french_target_texts: 50000\n",
      "Length of spanish_target_texts: 50000\n"
     ]
    }
   ],
   "source": [
    "input_texts = pairs[:, 0]\n",
    "french_target_texts = ['\\t' + text + '\\n' for text in pairs[:, 1]]\n",
    "spanish_target_texts = ['\\t' + text + '\\n' for text in pairs[:, 2]]\n",
    "\n",
    "print('Length of input_texts: ' + str(input_texts.shape[0]))\n",
    "print('Length of french_target_texts: ' + str(len(french_target_texts)))\n",
    "print('Length of spanish_target_texts: ' + str(len(spanish_target_texts)))"
   ]
  },
  {
   "cell_type": "code",
   "execution_count": 7,
   "metadata": {
    "colab": {
     "base_uri": "https://localhost:8080/",
     "height": 72
    },
    "colab_type": "code",
    "id": "7xBg68C-54jf",
    "outputId": "e19d5fb4-59b4-4cb0-e57b-00f0afa14020"
   },
   "outputs": [
    {
     "name": "stdout",
     "output_type": "stream",
     "text": [
      "max length of input sentences: 203\n",
      "max length of French target sentences: 226\n",
      "max length of Spanish target sentences: 240\n"
     ]
    }
   ],
   "source": [
    "max_encoder_seq_length = max(len(line) for line in input_texts)\n",
    "max_fr_decoder_seq_length = max(len(line) for line in french_target_texts)\n",
    "max_sp_decoder_seq_length = max(len(line) for line in spanish_target_texts)\n",
    "\n",
    "print('max length of input sentences: %d' % (max_encoder_seq_length))\n",
    "print('max length of French target sentences: %d' % (max_fr_decoder_seq_length))\n",
    "print('max length of Spanish target sentences: %d' % (max_sp_decoder_seq_length))"
   ]
  },
  {
   "cell_type": "markdown",
   "metadata": {
    "colab_type": "text",
    "id": "pyM50wbV54jm"
   },
   "source": [
    "**Remark:** To this end, you have two lists of sentences: input_texts and target_texts"
   ]
  },
  {
   "cell_type": "markdown",
   "metadata": {
    "colab_type": "text",
    "id": "2P_3IKfg54jp"
   },
   "source": [
    "## 2. Text processing\n",
    "\n",
    "### 2.1. Convert texts to sequences\n",
    "\n",
    "- Input: A list of $n$ sentences (with max length $t$).\n",
    "- It is represented by a $n\\times t$ matrix after the tokenization and zero-padding."
   ]
  },
  {
   "cell_type": "code",
   "execution_count": 8,
   "metadata": {
    "colab": {
     "base_uri": "https://localhost:8080/",
     "height": 193
    },
    "colab_type": "code",
    "id": "6dxXPuVp54jt",
    "outputId": "c9b3ee23-b36d-4789-cafb-7b30d71b2a8f"
   },
   "outputs": [
    {
     "name": "stderr",
     "output_type": "stream",
     "text": [
      "Using TensorFlow backend.\n"
     ]
    },
    {
     "data": {
      "text/html": [
       "<p style=\"color: red;\">\n",
       "The default version of TensorFlow in Colab will soon switch to TensorFlow 2.x.<br>\n",
       "We recommend you <a href=\"https://www.tensorflow.org/guide/migrate\" target=\"_blank\">upgrade</a> now \n",
       "or ensure your notebook will continue to use TensorFlow 1.x via the <code>%tensorflow_version 1.x</code> magic:\n",
       "<a href=\"https://colab.research.google.com/notebooks/tensorflow_version.ipynb\" target=\"_blank\">more info</a>.</p>\n"
      ],
      "text/plain": [
       "<IPython.core.display.HTML object>"
      ]
     },
     "metadata": {
      "tags": []
     },
     "output_type": "display_data"
    },
    {
     "name": "stdout",
     "output_type": "stream",
     "text": [
      "shape of encoder_input_seq: (50000, 203)\n",
      "shape of input_token_index: 27\n",
      "shape of fr_decoder_input_seq: (50000, 226)\n",
      "shape of fr_target_token_index: 29\n",
      "shape of sp_decoder_input_seq: (50000, 240)\n",
      "shape of sp_target_token_index: 29\n"
     ]
    }
   ],
   "source": [
    "from keras.preprocessing.text import Tokenizer\n",
    "from keras.preprocessing.sequence import pad_sequences\n",
    "\n",
    "# encode and pad sequences\n",
    "def text2sequences(max_len, lines):\n",
    "    tokenizer = Tokenizer(char_level=True, filters='')\n",
    "    tokenizer.fit_on_texts(lines)\n",
    "    seqs = tokenizer.texts_to_sequences(lines)\n",
    "    seqs_pad = pad_sequences(seqs, maxlen=max_len, padding='post')\n",
    "    return seqs_pad, tokenizer.word_index\n",
    "\n",
    "\n",
    "encoder_input_seq, input_token_index = text2sequences(max_encoder_seq_length, \n",
    "                                                      input_texts)\n",
    "fr_decoder_input_seq, fr_target_token_index = text2sequences(max_fr_decoder_seq_length, \n",
    "                                                             french_target_texts)\n",
    "sp_decoder_input_seq, sp_target_token_index = text2sequences(max_sp_decoder_seq_length, \n",
    "                                                             spanish_target_texts)\n",
    "\n",
    "print('shape of encoder_input_seq: ' + str(encoder_input_seq.shape))\n",
    "print('shape of input_token_index: ' + str(len(input_token_index)))\n",
    "print('shape of fr_decoder_input_seq: ' + str(fr_decoder_input_seq.shape))\n",
    "print('shape of fr_target_token_index: ' + str(len(fr_target_token_index)))\n",
    "print('shape of sp_decoder_input_seq: ' + str(sp_decoder_input_seq.shape))\n",
    "print('shape of sp_target_token_index: ' + str(len(sp_target_token_index)))"
   ]
  },
  {
   "cell_type": "code",
   "execution_count": 9,
   "metadata": {
    "colab": {
     "base_uri": "https://localhost:8080/",
     "height": 72
    },
    "colab_type": "code",
    "id": "5qfigRMD54j5",
    "outputId": "c4beff4e-7819-470d-9320-13131255847c"
   },
   "outputs": [
    {
     "name": "stdout",
     "output_type": "stream",
     "text": [
      "num_encoder_tokens: 28\n",
      "num_fr_decoder_tokens: 30\n",
      "num_sp_decoder_tokens: 30\n"
     ]
    }
   ],
   "source": [
    "num_encoder_tokens = len(input_token_index) + 1\n",
    "num_fr_decoder_tokens = len(fr_target_token_index) + 1\n",
    "num_sp_decoder_tokens = len(sp_target_token_index) + 1\n",
    "\n",
    "print('num_encoder_tokens: ' + str(num_encoder_tokens))\n",
    "print('num_fr_decoder_tokens: ' + str(num_fr_decoder_tokens))\n",
    "print('num_sp_decoder_tokens: ' + str(num_sp_decoder_tokens))"
   ]
  },
  {
   "cell_type": "markdown",
   "metadata": {
    "colab_type": "text",
    "id": "_JIZ58CV54j_"
   },
   "source": [
    "**Remark:** To this end, the input language and target language texts are converted to 2 matrices. \n",
    "\n",
    "- Their number of rows are both n_train.\n",
    "- Their number of columns are respective max_encoder_seq_length and max_decoder_seq_length."
   ]
  },
  {
   "cell_type": "markdown",
   "metadata": {
    "colab_type": "text",
    "id": "Lwg9j4G854kC"
   },
   "source": [
    "The followings print a sentence and its representation as a sequence."
   ]
  },
  {
   "cell_type": "code",
   "execution_count": 10,
   "metadata": {
    "colab": {
     "base_uri": "https://localhost:8080/",
     "height": 54
    },
    "colab_type": "code",
    "id": "0nKIIQWO54kD",
    "outputId": "c45a0b8d-30c1-464d-d797-37b3f1bb13c3"
   },
   "outputs": [
    {
     "name": "stdout",
     "output_type": "stream",
     "text": [
      "French Target Text:  '\\tveuxtu diner avec moi\\n'\n",
      "Spanish Target Text:  '\\tte gustaria cenar conmigo\\n'\n"
     ]
    }
   ],
   "source": [
    "print('French Target Text: ',repr(french_target_texts[100]))\n",
    "print('Spanish Target Text: ',repr(spanish_target_texts[100]))"
   ]
  },
  {
   "cell_type": "code",
   "execution_count": 11,
   "metadata": {
    "colab": {
     "base_uri": "https://localhost:8080/",
     "height": 421
    },
    "colab_type": "code",
    "id": "bbpSLAMl54kN",
    "outputId": "cf70377a-d423-4d03-e4c7-75afe88dd41b"
   },
   "outputs": [
    {
     "name": "stdout",
     "output_type": "stream",
     "text": [
      "French Decoder Sequence\n",
      "[12 18  2  6 26  7  6  1 16  5  8  2  9  1  4 18  2 17  1 15 10  5 13  0\n",
      "  0  0  0  0  0  0  0  0  0  0  0  0  0  0  0  0  0  0  0  0  0  0  0  0\n",
      "  0  0  0  0  0  0  0  0  0  0  0  0  0  0  0  0  0  0  0  0  0  0  0  0\n",
      "  0  0  0  0  0  0  0  0  0  0  0  0  0  0  0  0  0  0  0  0  0  0  0  0\n",
      "  0  0  0  0  0  0  0  0  0  0  0  0  0  0  0  0  0  0  0  0  0  0  0  0\n",
      "  0  0  0  0  0  0  0  0  0  0  0  0  0  0  0  0  0  0  0  0  0  0  0  0\n",
      "  0  0  0  0  0  0  0  0  0  0  0  0  0  0  0  0  0  0  0  0  0  0  0  0\n",
      "  0  0  0  0  0  0  0  0  0  0  0  0  0  0  0  0  0  0  0  0  0  0  0  0\n",
      "  0  0  0  0  0  0  0  0  0  0  0  0  0  0  0  0  0  0  0  0  0  0  0  0\n",
      "  0  0  0  0  0  0  0  0  0  0]\n",
      "Spanish Decoder Sequence\n",
      "[12  9  2  1 22 11  5  9  3  7  8  3  1 15  2  6  3  7  1 15  4  6 16  8\n",
      " 22  4 13  0  0  0  0  0  0  0  0  0  0  0  0  0  0  0  0  0  0  0  0  0\n",
      "  0  0  0  0  0  0  0  0  0  0  0  0  0  0  0  0  0  0  0  0  0  0  0  0\n",
      "  0  0  0  0  0  0  0  0  0  0  0  0  0  0  0  0  0  0  0  0  0  0  0  0\n",
      "  0  0  0  0  0  0  0  0  0  0  0  0  0  0  0  0  0  0  0  0  0  0  0  0\n",
      "  0  0  0  0  0  0  0  0  0  0  0  0  0  0  0  0  0  0  0  0  0  0  0  0\n",
      "  0  0  0  0  0  0  0  0  0  0  0  0  0  0  0  0  0  0  0  0  0  0  0  0\n",
      "  0  0  0  0  0  0  0  0  0  0  0  0  0  0  0  0  0  0  0  0  0  0  0  0\n",
      "  0  0  0  0  0  0  0  0  0  0  0  0  0  0  0  0  0  0  0  0  0  0  0  0\n",
      "  0  0  0  0  0  0  0  0  0  0  0  0  0  0  0  0  0  0  0  0  0  0  0  0]\n"
     ]
    }
   ],
   "source": [
    "print('French Decoder Sequence')\n",
    "print(fr_decoder_input_seq[100, :])\n",
    "print('Spanish Decoder Sequence')\n",
    "print(sp_decoder_input_seq[100, :])"
   ]
  },
  {
   "cell_type": "markdown",
   "metadata": {
    "colab_type": "text",
    "id": "UryinXJl54kV"
   },
   "source": [
    "## 2.2. One-hot encode\n",
    "\n",
    "- Input: A list of $n$ sentences (with max length $t$).\n",
    "- It is represented by a $n\\times t$ matrix after the tokenization and zero-padding.\n",
    "- It is represented by a $n\\times t \\times v$ tensor ($t$ is the number of unique chars) after the one-hot encoding."
   ]
  },
  {
   "cell_type": "code",
   "execution_count": 12,
   "metadata": {
    "colab": {
     "base_uri": "https://localhost:8080/",
     "height": 72
    },
    "colab_type": "code",
    "id": "GVOVLG_H54kY",
    "outputId": "6bd1f192-049e-44ba-86fe-7084a04e36ab"
   },
   "outputs": [
    {
     "name": "stdout",
     "output_type": "stream",
     "text": [
      "(50000, 203, 28)\n",
      "(50000, 226, 30)\n",
      "(50000, 240, 30)\n"
     ]
    }
   ],
   "source": [
    "from keras.utils import to_categorical\n",
    "\n",
    "# one hot encode target sequence\n",
    "def onehot_encode(sequences, max_len, vocab_size):\n",
    "    n = len(sequences)\n",
    "    data = numpy.zeros((n, max_len, vocab_size))\n",
    "    for i in range(n):\n",
    "        data[i, :, :] = to_categorical(sequences[i], num_classes=vocab_size)\n",
    "    return data\n",
    "\n",
    "encoder_input_data = onehot_encode(encoder_input_seq, max_encoder_seq_length, num_encoder_tokens)\n",
    "fr_decoder_input_data = onehot_encode(fr_decoder_input_seq, max_fr_decoder_seq_length, num_fr_decoder_tokens)\n",
    "sp_decoder_input_data = onehot_encode(sp_decoder_input_seq, max_sp_decoder_seq_length, num_sp_decoder_tokens)\n",
    "\n",
    "fr_decoder_target_seq = numpy.zeros(fr_decoder_input_seq.shape)\n",
    "fr_decoder_target_seq[:, 0:-1] = fr_decoder_input_seq[:, 1:]\n",
    "fr_decoder_target_data = onehot_encode(fr_decoder_target_seq, \n",
    "                                       max_fr_decoder_seq_length, \n",
    "                                       num_fr_decoder_tokens)\n",
    "sp_decoder_target_seq = numpy.zeros(sp_decoder_input_seq.shape)\n",
    "sp_decoder_target_seq[:, 0:-1] = sp_decoder_input_seq[:, 1:]\n",
    "sp_decoder_target_data = onehot_encode(sp_decoder_target_seq, \n",
    "                                       max_sp_decoder_seq_length, \n",
    "                                       num_sp_decoder_tokens)\n",
    "\n",
    "print(encoder_input_data.shape)\n",
    "print(fr_decoder_input_data.shape)\n",
    "print(sp_decoder_input_data.shape)"
   ]
  },
  {
   "cell_type": "markdown",
   "metadata": {
    "colab_type": "text",
    "id": "5ozLZZzV54kd"
   },
   "source": [
    "## 3. Build the networks (for training)\n",
    "\n",
    "- Build encoder, decoder, and connect the two modules to get \"model\". \n",
    "\n",
    "- Fit the model on the bilingual data to train the parameters in the encoder and decoder."
   ]
  },
  {
   "cell_type": "markdown",
   "metadata": {
    "colab_type": "text",
    "id": "ECHI92ri54kg"
   },
   "source": [
    "### 3.1. Encoder network\n",
    "\n",
    "- Input:  one-hot encode of the input language\n",
    "\n",
    "- Return: \n",
    "\n",
    "    -- output (all the hidden states   $h_1, \\cdots , h_t$) are always discarded\n",
    "    \n",
    "    -- the final hidden state  $h_t$\n",
    "    \n",
    "    -- the final conveyor belt $c_t$"
   ]
  },
  {
   "cell_type": "code",
   "execution_count": 13,
   "metadata": {
    "colab": {
     "base_uri": "https://localhost:8080/",
     "height": 257
    },
    "colab_type": "code",
    "id": "9mjH5cCq54kk",
    "outputId": "a757fe2e-22d5-4c6c-8e60-30c37ec44331"
   },
   "outputs": [
    {
     "name": "stdout",
     "output_type": "stream",
     "text": [
      "WARNING:tensorflow:From /usr/local/lib/python3.6/dist-packages/tensorflow_core/python/ops/init_ops.py:97: calling GlorotUniform.__init__ (from tensorflow.python.ops.init_ops) with dtype is deprecated and will be removed in a future version.\n",
      "Instructions for updating:\n",
      "Call initializer instance with the dtype argument instead of passing it to the constructor\n",
      "WARNING:tensorflow:From /usr/local/lib/python3.6/dist-packages/tensorflow_core/python/ops/init_ops.py:97: calling Orthogonal.__init__ (from tensorflow.python.ops.init_ops) with dtype is deprecated and will be removed in a future version.\n",
      "Instructions for updating:\n",
      "Call initializer instance with the dtype argument instead of passing it to the constructor\n",
      "WARNING:tensorflow:From /usr/local/lib/python3.6/dist-packages/tensorflow_core/python/ops/init_ops.py:97: calling Zeros.__init__ (from tensorflow.python.ops.init_ops) with dtype is deprecated and will be removed in a future version.\n",
      "Instructions for updating:\n",
      "Call initializer instance with the dtype argument instead of passing it to the constructor\n",
      "WARNING:tensorflow:From /usr/local/lib/python3.6/dist-packages/tensorflow_core/python/ops/resource_variable_ops.py:1630: calling BaseResourceVariable.__init__ (from tensorflow.python.ops.resource_variable_ops) with constraint is deprecated and will be removed in a future version.\n",
      "Instructions for updating:\n",
      "If using Keras pass *_constraint arguments to layers.\n"
     ]
    }
   ],
   "source": [
    "from tensorflow.keras.layers import Input, LSTM, Bidirectional, Concatenate\n",
    "from tensorflow.keras.models import Model\n",
    "\n",
    "latent_dim = 256\n",
    "\n",
    "# inputs of the encoder network\n",
    "encoder_inputs = Input(shape=(None, num_encoder_tokens), \n",
    "                       name='encoder_inputs')\n",
    "\n",
    "# set the LSTM layer\n",
    "encoder_bilstm = Bidirectional(LSTM(latent_dim, return_state=True, \n",
    "                    dropout=0.5, name='encoder_bilstm'))\n",
    "_, forward_h, forward_c, backward_h, backward_c = encoder_bilstm(encoder_inputs)\n",
    "\n",
    "#Concatenate forward and backward states\n",
    "state_h = Concatenate()([forward_h, backward_h])\n",
    "state_c = Concatenate()([forward_c, backward_c])\n",
    "\n",
    "# build the encoder network model\n",
    "encoder_model = Model(inputs=encoder_inputs, \n",
    "                      outputs=[state_h, state_c],\n",
    "                      name='encoder')"
   ]
  },
  {
   "cell_type": "markdown",
   "metadata": {
    "colab_type": "text",
    "id": "pf3azOVs54kq"
   },
   "source": [
    "Print a summary and save the encoder network structure to \"./encoder.jpg\"   \n",
    "Note: I changed file extension to .jpg (from .pdf) because the pdf was causing an error in Jupyter."
   ]
  },
  {
   "cell_type": "code",
   "execution_count": 14,
   "metadata": {
    "colab": {
     "base_uri": "https://localhost:8080/",
     "height": 348
    },
    "colab_type": "code",
    "id": "2R00s-sq54kt",
    "outputId": "d3332b37-cec7-45c9-e0ff-ddfd395e4ac3"
   },
   "outputs": [
    {
     "name": "stdout",
     "output_type": "stream",
     "text": [
      "Model: \"encoder\"\n",
      "__________________________________________________________________________________________________\n",
      "Layer (type)                    Output Shape         Param #     Connected to                     \n",
      "==================================================================================================\n",
      "encoder_inputs (InputLayer)     [(None, None, 28)]   0                                            \n",
      "__________________________________________________________________________________________________\n",
      "bidirectional (Bidirectional)   [(None, 512), (None, 583680      encoder_inputs[0][0]             \n",
      "__________________________________________________________________________________________________\n",
      "concatenate (Concatenate)       (None, 512)          0           bidirectional[0][1]              \n",
      "                                                                 bidirectional[0][3]              \n",
      "__________________________________________________________________________________________________\n",
      "concatenate_1 (Concatenate)     (None, 512)          0           bidirectional[0][2]              \n",
      "                                                                 bidirectional[0][4]              \n",
      "==================================================================================================\n",
      "Total params: 583,680\n",
      "Trainable params: 583,680\n",
      "Non-trainable params: 0\n",
      "__________________________________________________________________________________________________\n"
     ]
    }
   ],
   "source": [
    "from IPython.display import SVG\n",
    "#from keras.utils.vis_utils import model_to_dot, plot_model\n",
    "from tensorflow.keras.utils import model_to_dot, plot_model\n",
    "\n",
    "SVG(model_to_dot(encoder_model, show_shapes=False).create(prog='dot', format='svg'))\n",
    "\n",
    "plot_model(\n",
    "    model=encoder_model, show_shapes=False,\n",
    "    to_file='encoder.jpg' #Changed file extension to .jpg (from .pdf) because the pdf was causing an error in Jupyter\n",
    ")\n",
    "\n",
    "encoder_model.summary()"
   ]
  },
  {
   "cell_type": "markdown",
   "metadata": {
    "colab_type": "text",
    "id": "glHWBP-e54k0"
   },
   "source": [
    "### 3.2. Decoder network\n",
    "\n",
    "- Inputs:  \n",
    "\n",
    "    -- one-hot encode of the target language\n",
    "    \n",
    "    -- The initial hidden state $h_t$ \n",
    "    \n",
    "    -- The initial conveyor belt $c_t$ \n",
    "\n",
    "- Return: \n",
    "\n",
    "    -- output (all the hidden states) $h_1, \\cdots , h_t$\n",
    "\n",
    "    -- the final hidden state  $h_t$ (discarded in the training and used in the prediction)\n",
    "    \n",
    "    -- the final conveyor belt $c_t$ (discarded in the training and used in the prediction)"
   ]
  },
  {
   "cell_type": "code",
   "execution_count": 0,
   "metadata": {
    "colab": {},
    "colab_type": "code",
    "id": "ZvMITkMq54k1"
   },
   "outputs": [],
   "source": [
    "#French Decoder\n",
    "from tensorflow.keras.layers import Input, LSTM, Dense, Bidirectional, Concatenate\n",
    "from tensorflow.keras.models import Model\n",
    "\n",
    "# inputs of the decoder network\n",
    "decoder_input_h = Input(shape=(2*latent_dim,), name='decoder_input_h')\n",
    "decoder_input_c = Input(shape=(2*latent_dim,), name='decoder_input_c')\n",
    "decoder_input_fr = Input(shape=(None, num_fr_decoder_tokens), name='decoder_input_fr')\n",
    "\n",
    "# set the LSTM layer\n",
    "fr_decoder_lstm = LSTM(2*latent_dim, return_sequences=True, \n",
    "                                  return_state=True, dropout=0.5, name='fr_decoder_lstm')\n",
    "fr_decoder_lstm_outputs, state_h, state_c = fr_decoder_lstm(decoder_input_fr, \n",
    "                                                     initial_state=[decoder_input_h, decoder_input_c])\n",
    "\n",
    "# set the dense layer\n",
    "fr_decoder_dense = Dense(num_fr_decoder_tokens, activation='softmax', name='fr_decoder_dense')\n",
    "fr_decoder_outputs = fr_decoder_dense(fr_decoder_lstm_outputs)\n",
    "\n",
    "# build the decoder network model\n",
    "fr_decoder_model = Model(inputs=[decoder_input_fr, decoder_input_h, decoder_input_c],\n",
    "                      outputs=[fr_decoder_outputs, state_h, state_c],\n",
    "                      name='fr_decoder')"
   ]
  },
  {
   "cell_type": "markdown",
   "metadata": {
    "colab_type": "text",
    "id": "6ct641mw54k9"
   },
   "source": [
    "Print a summary and save the encoder network structure to \"./decoder.jpg\""
   ]
  },
  {
   "cell_type": "code",
   "execution_count": 16,
   "metadata": {
    "colab": {
     "base_uri": "https://localhost:8080/",
     "height": 384
    },
    "colab_type": "code",
    "id": "H89HdpXE54lA",
    "outputId": "0eb8ccc5-587d-48d6-8cc9-8cb2e1109bcf"
   },
   "outputs": [
    {
     "name": "stdout",
     "output_type": "stream",
     "text": [
      "Model: \"fr_decoder\"\n",
      "__________________________________________________________________________________________________\n",
      "Layer (type)                    Output Shape         Param #     Connected to                     \n",
      "==================================================================================================\n",
      "decoder_input_fr (InputLayer)   [(None, None, 30)]   0                                            \n",
      "__________________________________________________________________________________________________\n",
      "decoder_input_h (InputLayer)    [(None, 512)]        0                                            \n",
      "__________________________________________________________________________________________________\n",
      "decoder_input_c (InputLayer)    [(None, 512)]        0                                            \n",
      "__________________________________________________________________________________________________\n",
      "fr_decoder_lstm (LSTM)          [(None, None, 512),  1112064     decoder_input_fr[0][0]           \n",
      "                                                                 decoder_input_h[0][0]            \n",
      "                                                                 decoder_input_c[0][0]            \n",
      "__________________________________________________________________________________________________\n",
      "fr_decoder_dense (Dense)        (None, None, 30)     15390       fr_decoder_lstm[0][0]            \n",
      "==================================================================================================\n",
      "Total params: 1,127,454\n",
      "Trainable params: 1,127,454\n",
      "Non-trainable params: 0\n",
      "__________________________________________________________________________________________________\n"
     ]
    }
   ],
   "source": [
    "from IPython.display import SVG\n",
    "from tensorflow.keras.utils import model_to_dot, plot_model\n",
    "\n",
    "SVG(model_to_dot(fr_decoder_model, show_shapes=False).create(prog='dot', format='svg'))\n",
    "\n",
    "plot_model(\n",
    "    model=fr_decoder_model, show_shapes=False,\n",
    "    to_file='fr_decoder.jpg'\n",
    ")\n",
    "\n",
    "fr_decoder_model.summary()"
   ]
  },
  {
   "cell_type": "code",
   "execution_count": 0,
   "metadata": {
    "colab": {},
    "colab_type": "code",
    "id": "7UICdEn754lL"
   },
   "outputs": [],
   "source": [
    "#Spanish Decoder\n",
    "from tensorflow.keras.layers import Input, LSTM, Dense, Bidirectional, Concatenate\n",
    "from tensorflow.keras.models import Model\n",
    "\n",
    "# inputs of the decoder network\n",
    "decoder_input_h = Input(shape=(2*latent_dim,), name='decoder_input_h')\n",
    "decoder_input_c = Input(shape=(2*latent_dim,), name='decoder_input_c')\n",
    "decoder_input_sp = Input(shape=(None, num_sp_decoder_tokens), name='decoder_input_sp')\n",
    "\n",
    "# set the LSTM layer\n",
    "sp_decoder_lstm = LSTM(2*latent_dim, return_sequences=True, \n",
    "                    return_state=True, dropout=0.5, name='sp_decoder_lstm')\n",
    "sp_decoder_lstm_outputs, state_h, state_c = sp_decoder_lstm(decoder_input_sp, \n",
    "                                                      initial_state=[decoder_input_h, decoder_input_c])\n",
    "\n",
    "# set the dense layer\n",
    "sp_decoder_dense = Dense(num_sp_decoder_tokens, activation='softmax', name='sp_decoder_dense')\n",
    "sp_decoder_outputs = sp_decoder_dense(sp_decoder_lstm_outputs)\n",
    "\n",
    "# build the decoder network model\n",
    "sp_decoder_model = Model(inputs=[decoder_input_sp, decoder_input_h, decoder_input_c],\n",
    "                      outputs=[sp_decoder_outputs, state_h, state_c],\n",
    "                      name='sp_decoder')"
   ]
  },
  {
   "cell_type": "markdown",
   "metadata": {
    "colab_type": "text",
    "id": "StrIV-Bx54lR"
   },
   "source": [
    "Print a summary and save the encoder network structure to \"./decoder.jpg\""
   ]
  },
  {
   "cell_type": "code",
   "execution_count": 18,
   "metadata": {
    "colab": {
     "base_uri": "https://localhost:8080/",
     "height": 384
    },
    "colab_type": "code",
    "id": "kK6twmIM54lT",
    "outputId": "8dcfc501-006c-4ec3-d1ce-16376fa2b11f"
   },
   "outputs": [
    {
     "name": "stdout",
     "output_type": "stream",
     "text": [
      "Model: \"sp_decoder\"\n",
      "__________________________________________________________________________________________________\n",
      "Layer (type)                    Output Shape         Param #     Connected to                     \n",
      "==================================================================================================\n",
      "decoder_input_sp (InputLayer)   [(None, None, 30)]   0                                            \n",
      "__________________________________________________________________________________________________\n",
      "decoder_input_h (InputLayer)    [(None, 512)]        0                                            \n",
      "__________________________________________________________________________________________________\n",
      "decoder_input_c (InputLayer)    [(None, 512)]        0                                            \n",
      "__________________________________________________________________________________________________\n",
      "sp_decoder_lstm (LSTM)          [(None, None, 512),  1112064     decoder_input_sp[0][0]           \n",
      "                                                                 decoder_input_h[0][0]            \n",
      "                                                                 decoder_input_c[0][0]            \n",
      "__________________________________________________________________________________________________\n",
      "sp_decoder_dense (Dense)        (None, None, 30)     15390       sp_decoder_lstm[0][0]            \n",
      "==================================================================================================\n",
      "Total params: 1,127,454\n",
      "Trainable params: 1,127,454\n",
      "Non-trainable params: 0\n",
      "__________________________________________________________________________________________________\n"
     ]
    }
   ],
   "source": [
    "from IPython.display import SVG\n",
    "from tensorflow.keras.utils import model_to_dot, plot_model\n",
    "\n",
    "SVG(model_to_dot(sp_decoder_model, show_shapes=False).create(prog='dot', format='svg'))\n",
    "\n",
    "plot_model(\n",
    "    model=sp_decoder_model, show_shapes=False,\n",
    "    to_file='sp_decoder.jpg'\n",
    ")\n",
    "\n",
    "sp_decoder_model.summary()"
   ]
  },
  {
   "cell_type": "markdown",
   "metadata": {
    "colab_type": "text",
    "id": "6UNAi8XB54lZ"
   },
   "source": [
    "### 3.3. Connect the encoder and decoder"
   ]
  },
  {
   "cell_type": "code",
   "execution_count": 0,
   "metadata": {
    "colab": {},
    "colab_type": "code",
    "id": "Vj-7-QWk54la"
   },
   "outputs": [],
   "source": [
    "# input layers\n",
    "encoder_input_x = Input(shape=(None, num_encoder_tokens), name='encoder_input_x')\n",
    "decoder_input_fr = Input(shape=(None, num_fr_decoder_tokens), name='decoder_input_fr')\n",
    "decoder_input_sp = Input(shape=(None, num_sp_decoder_tokens), name='decoder_input_sp')\n",
    "\n",
    "# connect encoder to decoder\n",
    "encoder_final_states = encoder_model(encoder_input_x)\n",
    "fr_decoder_lstm_output, _, _ = fr_decoder_lstm(decoder_input_fr, initial_state=encoder_final_states)\n",
    "fr_decoder_pred = fr_decoder_dense(fr_decoder_lstm_output)\n",
    "sp_decoder_lstm_output, _, _ = sp_decoder_lstm(decoder_input_sp, initial_state=encoder_final_states)\n",
    "sp_decoder_pred = sp_decoder_dense(sp_decoder_lstm_output)\n",
    "\n",
    "model = Model(inputs=[encoder_input_x, decoder_input_fr, decoder_input_sp], \n",
    "              outputs=[fr_decoder_pred, sp_decoder_pred], \n",
    "              name='model_training')"
   ]
  },
  {
   "cell_type": "code",
   "execution_count": 20,
   "metadata": {
    "colab": {
     "base_uri": "https://localhost:8080/",
     "height": 54
    },
    "colab_type": "code",
    "id": "_D6dsS5_54le",
    "outputId": "e4d4f9d2-b344-413e-ccbf-a15b5e0a15ea"
   },
   "outputs": [
    {
     "name": "stdout",
     "output_type": "stream",
     "text": [
      "Tensor(\"sp_decoder_lstm/while/Exit_2:0\", shape=(?, 512), dtype=float32)\n",
      "Tensor(\"decoder_input_h_1:0\", shape=(?, 512), dtype=float32)\n"
     ]
    }
   ],
   "source": [
    "print(state_h)\n",
    "print(decoder_input_h)"
   ]
  },
  {
   "cell_type": "code",
   "execution_count": 21,
   "metadata": {
    "colab": {
     "base_uri": "https://localhost:8080/",
     "height": 531
    },
    "colab_type": "code",
    "id": "oNMEJEKZ54lj",
    "outputId": "86627bc3-3c9e-42c0-d33d-e740d4351e82"
   },
   "outputs": [
    {
     "name": "stdout",
     "output_type": "stream",
     "text": [
      "Model: \"model_training\"\n",
      "__________________________________________________________________________________________________\n",
      "Layer (type)                    Output Shape         Param #     Connected to                     \n",
      "==================================================================================================\n",
      "encoder_input_x (InputLayer)    [(None, None, 28)]   0                                            \n",
      "__________________________________________________________________________________________________\n",
      "decoder_input_fr (InputLayer)   [(None, None, 30)]   0                                            \n",
      "__________________________________________________________________________________________________\n",
      "encoder (Model)                 [(None, 512), (None, 583680      encoder_input_x[0][0]            \n",
      "__________________________________________________________________________________________________\n",
      "decoder_input_sp (InputLayer)   [(None, None, 30)]   0                                            \n",
      "__________________________________________________________________________________________________\n",
      "fr_decoder_lstm (LSTM)          [(None, None, 512),  1112064     decoder_input_fr[0][0]           \n",
      "                                                                 encoder[1][0]                    \n",
      "                                                                 encoder[1][1]                    \n",
      "__________________________________________________________________________________________________\n",
      "sp_decoder_lstm (LSTM)          [(None, None, 512),  1112064     decoder_input_sp[0][0]           \n",
      "                                                                 encoder[1][0]                    \n",
      "                                                                 encoder[1][1]                    \n",
      "__________________________________________________________________________________________________\n",
      "fr_decoder_dense (Dense)        (None, None, 30)     15390       fr_decoder_lstm[1][0]            \n",
      "__________________________________________________________________________________________________\n",
      "sp_decoder_dense (Dense)        (None, None, 30)     15390       sp_decoder_lstm[1][0]            \n",
      "==================================================================================================\n",
      "Total params: 2,838,588\n",
      "Trainable params: 2,838,588\n",
      "Non-trainable params: 0\n",
      "__________________________________________________________________________________________________\n"
     ]
    }
   ],
   "source": [
    "from IPython.display import SVG\n",
    "from tensorflow.keras.utils import model_to_dot, plot_model\n",
    "\n",
    "SVG(model_to_dot(model, show_shapes=False).create(prog='dot', format='svg'))\n",
    "\n",
    "plot_model(\n",
    "    model=model, show_shapes=False,\n",
    "    to_file='model_training.jpg'\n",
    ")\n",
    "\n",
    "model.summary()"
   ]
  },
  {
   "cell_type": "markdown",
   "metadata": {
    "colab_type": "text",
    "id": "fslh7olF54lr"
   },
   "source": [
    "### 3.5. Fit the model on the bilingual dataset\n",
    "\n",
    "- encoder_input_data: one-hot encode of the input language\n",
    "\n",
    "- decoder_input_data: one-hot encode of the input language\n",
    "\n",
    "- decoder_target_data: labels (left shift of decoder_input_data)\n",
    "\n",
    "- tune the hyper-parameters\n",
    "\n",
    "- stop when the validation loss stop decreasing."
   ]
  },
  {
   "cell_type": "code",
   "execution_count": 22,
   "metadata": {
    "colab": {
     "base_uri": "https://localhost:8080/",
     "height": 109
    },
    "colab_type": "code",
    "id": "O0I3lFQ254lv",
    "outputId": "9e9ae867-34c4-402a-f2a0-be140c93bbed"
   },
   "outputs": [
    {
     "name": "stdout",
     "output_type": "stream",
     "text": [
      "shape of encoder_input_data(50000, 203, 28)\n",
      "shape of fr_decoder_input_data(50000, 226, 30)\n",
      "shape of fr_decoder_target_data(50000, 226, 30)\n",
      "shape of sp_decoder_input_data(50000, 240, 30)\n",
      "shape of sp_decoder_target_data(50000, 240, 30)\n"
     ]
    }
   ],
   "source": [
    "print('shape of encoder_input_data' + str(encoder_input_data.shape))\n",
    "print('shape of fr_decoder_input_data' + str(fr_decoder_input_data.shape))\n",
    "print('shape of fr_decoder_target_data' + str(fr_decoder_target_data.shape))\n",
    "print('shape of sp_decoder_input_data' + str(sp_decoder_input_data.shape))\n",
    "print('shape of sp_decoder_target_data' + str(sp_decoder_target_data.shape))"
   ]
  },
  {
   "cell_type": "code",
   "execution_count": 0,
   "metadata": {
    "colab": {},
    "colab_type": "code",
    "id": "ER4Tc35i8-gu"
   },
   "outputs": [],
   "source": [
    "#Add model callbacks to allow for early stopping\n",
    "from keras import callbacks\n",
    "\n",
    "model_callbacks = [callbacks.EarlyStopping(monitor='loss', patience=1),\n",
    "                   callbacks.ModelCheckpoint(filepath='drive/My Drive/CS 583/seq2seq.h5',\n",
    "                                             monitor='val_loss',\n",
    "                                             save_best_only=True)]"
   ]
  },
  {
   "cell_type": "code",
   "execution_count": 24,
   "metadata": {
    "colab": {
     "base_uri": "https://localhost:8080/",
     "height": 515
    },
    "colab_type": "code",
    "id": "29nuA_g454l2",
    "outputId": "c92be065-fc66-410a-fb49-1f4a89bc4ee2"
   },
   "outputs": [
    {
     "name": "stdout",
     "output_type": "stream",
     "text": [
      "WARNING:tensorflow:From /usr/local/lib/python3.6/dist-packages/tensorflow_core/python/ops/math_grad.py:1424: where (from tensorflow.python.ops.array_ops) is deprecated and will be removed in a future version.\n",
      "Instructions for updating:\n",
      "Use tf.where in 2.0, which has the same broadcast rule as np.where\n",
      "Train on 40000 samples, validate on 10000 samples\n",
      "Epoch 1/50\n",
      "40000/40000 [==============================] - 969s 24ms/sample - loss: 0.8034 - fr_decoder_dense_loss: 0.4323 - sp_decoder_dense_loss: 0.3712 - fr_decoder_dense_acc: 0.8857 - sp_decoder_dense_acc: 0.9010 - val_loss: 0.5365 - val_fr_decoder_dense_loss: 0.2871 - val_sp_decoder_dense_loss: 0.2495 - val_fr_decoder_dense_acc: 0.9114 - val_sp_decoder_dense_acc: 0.9211\n",
      "Epoch 2/50\n",
      "40000/40000 [==============================] - 958s 24ms/sample - loss: 0.5392 - fr_decoder_dense_loss: 0.2885 - sp_decoder_dense_loss: 0.2506 - fr_decoder_dense_acc: 0.9118 - sp_decoder_dense_acc: 0.9218 - val_loss: 0.4554 - val_fr_decoder_dense_loss: 0.2415 - val_sp_decoder_dense_loss: 0.2136 - val_fr_decoder_dense_acc: 0.9246 - val_sp_decoder_dense_acc: 0.9312\n",
      "Epoch 3/50\n",
      "40000/40000 [==============================] - 962s 24ms/sample - loss: 0.4660 - fr_decoder_dense_loss: 0.2467 - sp_decoder_dense_loss: 0.2193 - fr_decoder_dense_acc: 0.9239 - sp_decoder_dense_acc: 0.9310 - val_loss: 0.4004 - val_fr_decoder_dense_loss: 0.2113 - val_sp_decoder_dense_loss: 0.1891 - val_fr_decoder_dense_acc: 0.9338 - val_sp_decoder_dense_acc: 0.9399\n",
      "Epoch 4/50\n",
      "40000/40000 [==============================] - 956s 24ms/sample - loss: 0.4220 - fr_decoder_dense_loss: 0.2216 - sp_decoder_dense_loss: 0.2004 - fr_decoder_dense_acc: 0.9314 - sp_decoder_dense_acc: 0.9371 - val_loss: 0.3632 - val_fr_decoder_dense_loss: 0.1901 - val_sp_decoder_dense_loss: 0.1730 - val_fr_decoder_dense_acc: 0.9401 - val_sp_decoder_dense_acc: 0.9452\n",
      "Epoch 5/50\n",
      "40000/40000 [==============================] - 958s 24ms/sample - loss: 0.3901 - fr_decoder_dense_loss: 0.2034 - sp_decoder_dense_loss: 0.1867 - fr_decoder_dense_acc: 0.9369 - sp_decoder_dense_acc: 0.9420 - val_loss: 0.3352 - val_fr_decoder_dense_loss: 0.1744 - val_sp_decoder_dense_loss: 0.1606 - val_fr_decoder_dense_acc: 0.9453 - val_sp_decoder_dense_acc: 0.9495\n",
      "Epoch 6/50\n",
      "40000/40000 [==============================] - 957s 24ms/sample - loss: 0.3684 - fr_decoder_dense_loss: 0.1931 - sp_decoder_dense_loss: 0.1753 - fr_decoder_dense_acc: 0.9399 - sp_decoder_dense_acc: 0.9451 - val_loss: 0.3142 - val_fr_decoder_dense_loss: 0.1638 - val_sp_decoder_dense_loss: 0.1500 - val_fr_decoder_dense_acc: 0.9486 - val_sp_decoder_dense_acc: 0.9529\n",
      "Epoch 7/50\n",
      "40000/40000 [==============================] - 960s 24ms/sample - loss: 0.3447 - fr_decoder_dense_loss: 0.1806 - sp_decoder_dense_loss: 0.1640 - fr_decoder_dense_acc: 0.9438 - sp_decoder_dense_acc: 0.9488 - val_loss: 0.2980 - val_fr_decoder_dense_loss: 0.1557 - val_sp_decoder_dense_loss: 0.1426 - val_fr_decoder_dense_acc: 0.9513 - val_sp_decoder_dense_acc: 0.9554\n",
      "Epoch 8/50\n",
      "40000/40000 [==============================] - 958s 24ms/sample - loss: 0.3278 - fr_decoder_dense_loss: 0.1720 - sp_decoder_dense_loss: 0.1558 - fr_decoder_dense_acc: 0.9464 - sp_decoder_dense_acc: 0.9514 - val_loss: 0.2832 - val_fr_decoder_dense_loss: 0.1482 - val_sp_decoder_dense_loss: 0.1347 - val_fr_decoder_dense_acc: 0.9535 - val_sp_decoder_dense_acc: 0.9578\n",
      "Epoch 9/50\n",
      "40000/40000 [==============================] - 957s 24ms/sample - loss: 0.3147 - fr_decoder_dense_loss: 0.1652 - sp_decoder_dense_loss: 0.1495 - fr_decoder_dense_acc: 0.9485 - sp_decoder_dense_acc: 0.9534 - val_loss: 0.2725 - val_fr_decoder_dense_loss: 0.1429 - val_sp_decoder_dense_loss: 0.1293 - val_fr_decoder_dense_acc: 0.9552 - val_sp_decoder_dense_acc: 0.9596\n",
      "Epoch 10/50\n",
      "40000/40000 [==============================] - 959s 24ms/sample - loss: 0.3031 - fr_decoder_dense_loss: 0.1593 - sp_decoder_dense_loss: 0.1438 - fr_decoder_dense_acc: 0.9503 - sp_decoder_dense_acc: 0.9552 - val_loss: 0.2629 - val_fr_decoder_dense_loss: 0.1381 - val_sp_decoder_dense_loss: 0.1247 - val_fr_decoder_dense_acc: 0.9568 - val_sp_decoder_dense_acc: 0.9612\n",
      "Epoch 11/50\n",
      "40000/40000 [==============================] - 958s 24ms/sample - loss: 0.3187 - fr_decoder_dense_loss: 0.1545 - sp_decoder_dense_loss: 0.1642 - fr_decoder_dense_acc: 0.9516 - sp_decoder_dense_acc: 0.9534 - val_loss: 0.2568 - val_fr_decoder_dense_loss: 0.1345 - val_sp_decoder_dense_loss: 0.1222 - val_fr_decoder_dense_acc: 0.9579 - val_sp_decoder_dense_acc: 0.9620\n"
     ]
    }
   ],
   "source": [
    "Compile and train model\n",
    "model.compile(optimizer='rmsprop', loss='categorical_crossentropy', metrics=['acc'])\n",
    "\n",
    "history = model.fit([encoder_input_data, fr_decoder_input_data, sp_decoder_input_data],  # training data\n",
    "                    [fr_decoder_target_data, sp_decoder_target_data],                    # labels (left shift of the target sequences)\n",
    "                    batch_size=64, callbacks = model_callbacks,\n",
    "                    epochs=50, validation_split=0.2)\n",
    "\n",
    "model.save('drive/My Drive/CS 583/seq2seq.h5')"
   ]
  },
  {
   "cell_type": "code",
   "execution_count": 25,
   "metadata": {
    "colab": {
     "base_uri": "https://localhost:8080/",
     "height": 404
    },
    "colab_type": "code",
    "id": "4aFYNLhD99tH",
    "outputId": "85026d65-8df1-427c-f24d-6fbff99aadbb"
   },
   "outputs": [
    {
     "data": {
      "image/png": "[encoded data removed]",
      "text/plain": [
       "<Figure size 1080x432 with 2 Axes>"
      ]
     },
     "metadata": {
      "tags": []
     },
     "output_type": "display_data"
    }
   ],
   "source": [
    "import matplotlib.pyplot as plt\n",
    "\n",
    "#Plot accuracy and loss for French decoder\n",
    "fr_acc = history.history['fr_decoder_dense_acc']\n",
    "fr_val_acc = history.history['val_fr_decoder_dense_acc']\n",
    "fr_loss = history.history['fr_decoder_dense_loss']\n",
    "fr_val_loss = history.history['val_fr_decoder_dense_loss']\n",
    "\n",
    "fr_epochs = range(1,len(fr_acc)+1)\n",
    "\n",
    "fig = plt.figure(figsize=(15,6))\n",
    "fig.add_subplot(1,2,1)\n",
    "plt.plot(fr_epochs, fr_acc, 'b:', label='Training Accuracy')\n",
    "plt.plot(fr_epochs, fr_val_acc, 'c-', label='Validation Accuracy')\n",
    "plt.xlabel('Epochs')\n",
    "plt.ylabel('Accuracy')\n",
    "plt.xticks(numpy.arange(0,len(fr_acc)+1,step=2))\n",
    "plt.title('French Decoder Training and Validation Accuracy')\n",
    "plt.legend()\n",
    "fig.add_subplot(1,2,2)            \n",
    "plt.plot(fr_epochs, fr_loss, 'b:', label='Training Loss')\n",
    "plt.plot(fr_epochs, fr_val_loss, 'c-', label='Validation Loss')\n",
    "plt.xlabel('Epochs')\n",
    "plt.ylabel('Loss')\n",
    "plt.xticks(numpy.arange(0,len(fr_acc)+1,step=2))\n",
    "plt.title('French Decoder Training and Validation Loss')\n",
    "plt.legend()\n",
    "plt.show()"
   ]
  },
  {
   "cell_type": "code",
   "execution_count": 34,
   "metadata": {
    "colab": {
     "base_uri": "https://localhost:8080/",
     "height": 404
    },
    "colab_type": "code",
    "id": "jDzcGa92AJk4",
    "outputId": "75c28d52-b641-4809-8b34-2cac7df5332e"
   },
   "outputs": [
    {
     "data": {
      "image/png": "[encoded data removed]",
      "text/plain": [
       "<Figure size 1080x432 with 2 Axes>"
      ]
     },
     "metadata": {
      "tags": []
     },
     "output_type": "display_data"
    }
   ],
   "source": [
    "#Plot accuracy and loss for Spanish decoder\n",
    "sp_acc = history.history['sp_decoder_dense_acc']\n",
    "sp_val_acc = history.history['val_sp_decoder_dense_acc']\n",
    "sp_loss = history.history['sp_decoder_dense_loss']\n",
    "sp_val_loss = history.history['val_sp_decoder_dense_loss']\n",
    "\n",
    "sp_epochs = range(1,len(sp_acc)+1)\n",
    "\n",
    "fig = plt.figure(figsize=(15,6))\n",
    "fig.add_subplot(1,2,1)\n",
    "plt.plot(sp_epochs, sp_acc, 'b:', label='Training Accuracy')\n",
    "plt.plot(sp_epochs, sp_val_acc, 'c-', label='Validation Accuracy')\n",
    "plt.xlabel('Epochs')\n",
    "plt.ylabel('Accuracy')\n",
    "plt.xticks(numpy.arange(0,len(sp_acc)+1,step=2))\n",
    "plt.title('French Decoder Training and Validation Accuracy')\n",
    "plt.legend()\n",
    "fig.add_subplot(1,2,2)            \n",
    "plt.plot(sp_epochs, sp_loss, 'b:', label='Training Loss')\n",
    "plt.plot(sp_epochs, sp_val_loss, 'c-', label='Validation Loss')\n",
    "plt.xlabel('Epochs')\n",
    "plt.ylabel('Loss')\n",
    "plt.xticks(numpy.arange(0,len(sp_acc)+1,step=2))\n",
    "plt.title('French Decoder Training and Validation Loss')\n",
    "plt.legend()\n",
    "plt.show()"
   ]
  },
  {
   "cell_type": "markdown",
   "metadata": {
    "colab_type": "text",
    "id": "PTD2utmB54l9"
   },
   "source": [
    "## 4. Make predictions\n",
    "\n",
    "\n",
    "### 4.1. Translate English to French and Spanish\n",
    "\n",
    "1. Encoder read a sentence (source language) and output its final states, $h_t$ and $c_t$.\n",
    "2. Take the [star] sign \"\\t\" and the final state $h_t$ and $c_t$ as input and run the decoder.\n",
    "3. Get the new states and predicted probability distribution.\n",
    "4. sample a char from the predicted probability distribution\n",
    "5. take the sampled char and the new states as input and repeat the process (stop if reach the [stop] sign \"\\n\")."
   ]
  },
  {
   "cell_type": "code",
   "execution_count": 0,
   "metadata": {
    "colab": {},
    "colab_type": "code",
    "id": "uLYL5EPS54l_"
   },
   "outputs": [],
   "source": [
    "# Reverse-lookup token index to decode sequences back to something readable.\n",
    "reverse_input_char_index = dict((i, char) for char, i in input_token_index.items())\n",
    "reverse_fr_target_char_index = dict((i, char) for char, i in fr_target_token_index.items())\n",
    "reverse_sp_target_char_index = dict((i, char) for char, i in sp_target_token_index.items())"
   ]
  },
  {
   "cell_type": "code",
   "execution_count": 0,
   "metadata": {
    "colab": {},
    "colab_type": "code",
    "id": "YSQqt1UE54mC"
   },
   "outputs": [],
   "source": [
    "def decode_french_sequence(input_seq, temp=1.0):\n",
    "    states_value = encoder_model.predict(input_seq)\n",
    "\n",
    "    target_seq = numpy.zeros((1, 1, num_fr_decoder_tokens))\n",
    "    target_seq[0, 0, fr_target_token_index['\\t']] = 1.\n",
    "\n",
    "    stop_condition = False\n",
    "    decoded_sentence = ''\n",
    "    while not stop_condition:\n",
    "        output_tokens, h, c = fr_decoder_model.predict([target_seq] + states_value)\n",
    "\n",
    "        # this line of code is greedy selection\n",
    "        # try to use multinomial sampling instead (with temperature)\n",
    "        #sampled_token_index = numpy.argmax(output_tokens[0, -1, :])\n",
    "                \n",
    "        #Choose next character using multinomial sampling with temperature\n",
    "        probabilities = output_tokens[0, -1, :]\n",
    "        probs = [p**(1/temp) for p in probabilities]\n",
    "        probs = probs/numpy.sum(probs)\n",
    "        probs = numpy.random.multinomial(1, probs, 1)\n",
    "        sampled_token_index = numpy.argmax(probs)\n",
    "        sampled_char = reverse_fr_target_char_index.get(sampled_token_index)\n",
    "        \n",
    "        decoded_sentence += sampled_char\n",
    "\n",
    "        if (sampled_char == '\\n' or\n",
    "           len(decoded_sentence) > max_fr_decoder_seq_length):\n",
    "            stop_condition = True\n",
    "\n",
    "        target_seq = numpy.zeros((1, 1, num_fr_decoder_tokens))\n",
    "        target_seq[0, 0, sampled_token_index] = 1.\n",
    "\n",
    "        states_value = [h, c]\n",
    "\n",
    "    return decoded_sentence"
   ]
  },
  {
   "cell_type": "code",
   "execution_count": 0,
   "metadata": {
    "colab": {},
    "colab_type": "code",
    "id": "tidIZA-y54mH"
   },
   "outputs": [],
   "source": [
    "def decode_spanish_sequence(input_seq, temp=1.0):\n",
    "    states_value = encoder_model.predict(input_seq)\n",
    "\n",
    "    target_seq = numpy.zeros((1, 1, num_sp_decoder_tokens))\n",
    "    target_seq[0, 0, fr_target_token_index['\\t']] = 1.\n",
    "\n",
    "    stop_condition = False\n",
    "    decoded_sentence = ''\n",
    "    while not stop_condition:\n",
    "        output_tokens, h, c = sp_decoder_model.predict([target_seq] + states_value)\n",
    "\n",
    "        # this line of code is greedy selection\n",
    "        # try to use multinomial sampling instead (with temperature)\n",
    "        #sampled_token_index = numpy.argmax(output_tokens[0, -1, :])\n",
    "\n",
    "        #Choose next character using multinomial sampling with temperature\n",
    "        probabilities = output_tokens[0, -1, :]\n",
    "        probs = [p**(1/temp) for p in probabilities]\n",
    "        probs = probs/numpy.sum(probs)\n",
    "        probs = numpy.random.multinomial(1, probs, 1)\n",
    "        sampled_token_index = numpy.argmax(probs)\n",
    "        sampled_char = reverse_sp_target_char_index.get(sampled_token_index)\n",
    "\n",
    "        decoded_sentence += sampled_char\n",
    "\n",
    "        if (sampled_char == '\\n' or\n",
    "          len(decoded_sentence) > max_sp_decoder_seq_length):\n",
    "          stop_condition = True\n",
    "\n",
    "        target_seq = numpy.zeros((1, 1, num_sp_decoder_tokens))\n",
    "        target_seq[0, 0, sampled_token_index] = 1.\n",
    "\n",
    "        states_value = [h, c]\n",
    "\n",
    "    return decoded_sentence"
   ]
  },
  {
   "cell_type": "code",
   "execution_count": 30,
   "metadata": {
    "colab": {
     "base_uri": "https://localhost:8080/",
     "height": 1000
    },
    "colab_type": "code",
    "id": "vkC1ZhEP54mL",
    "outputId": "2f78f1ad-e157-4bd2-bd98-895e7412119b"
   },
   "outputs": [
    {
     "name": "stdout",
     "output_type": "stream",
     "text": [
      "-\n",
      "English:        i was incredibly bored\n",
      "French (true):  je me suis incroyablement ennuye\n",
      "French (pred):  jetais presque tres fort\n",
      "Spanish (true):  estaba increiblemente aburrida\n",
      "Spanish (pred):  estaba abarrondendo a tiempo\n",
      "-\n",
      "English:        are you speaking to me\n",
      "French (true):  me parlezvous\n",
      "French (pred):  estu en train de te mentrer\n",
      "Spanish (true):  estas hablando conmigo\n",
      "Spanish (pred):  estas losotro de eso\n",
      "-\n",
      "English:        tom couldnt forget mary even if he wanted to\n",
      "French (true):  quil le veuille ou non tom ne pourrait pas oublier marie\n",
      "French (pred):  tom na pas vu de ce que le frord a la ssente par le main\n",
      "Spanish (true):  tom no podria olvidar a mary aunque quisiera\n",
      "Spanish (pred):  tom no se pade a visitar a mi padre\n",
      "-\n",
      "English:        he proceeded to the next question\n",
      "French (true):  il passa a la question suivante\n",
      "French (pred):  il a encore dans la vie est en train de prendre des cattes\n",
      "Spanish (true):  paso a la siguiente pregunta\n",
      "Spanish (pred):  el parece con la escuela por favor\n",
      "-\n",
      "English:        are you seriously thinking about buying a computer from that store\n",
      "French (true):  pensestu serieusement a acheter un ordinateur dans ce magasin\n",
      "French (pred):  etesvous partait mais je ne peux pas vous endendre ce que le faut\n",
      "Spanish (true):  estas pensando seriamente en comprar un computador de esa tienda\n",
      "Spanish (pred):  estas seguro de que esta es pasada con su padre muy buen contentarlo\n",
      "-\n",
      "English:        i am more beautiful than you\n",
      "French (true):  je suis plus belle que vous\n",
      "French (pred):  je suis plus grand que toi\n",
      "Spanish (true):  soy mas guapa que vosotras\n",
      "Spanish (pred):  estoy muy cansado en todo esto\n",
      "-\n",
      "English:        if blaming me makes you feel better go right ahead\n",
      "French (true):  si me blamer te fait te sentir mieux vasy\n",
      "French (pred):  si je peux te marcher pour vous avoir en premier homme avec moi\n",
      "Spanish (true):  si culparme te hace sentir mejor adelante\n",
      "Spanish (pred):  preparara que te ha a despedir en la cama\n",
      "-\n",
      "English:        im leaving you tomorrow\n",
      "French (true):  je te quitte demain\n",
      "French (pred):  je suis desole de vous repondre\n",
      "Spanish (true):  manana me despido de ti\n",
      "Spanish (pred):  estoy de acuerdo contigo\n",
      "-\n",
      "English:        i prefer walking to driving in a big city like tokyo\n",
      "French (true):  je prefere marcher plutot que de conduire dans une grande ville comme tokyo\n",
      "French (pred):  je prefere pour largent de ce quil a peuvent une miture du galeau\n",
      "Spanish (true):  prefiero caminar antes que manejar en una gran ciudad como tokio\n",
      "Spanish (pred):  prefiero si puede hablar donde esta en jazon por favor\n",
      "-\n",
      "English:        i dont want to hear any more of your complaining\n",
      "French (true):  je ne veux plus tentendre te plaindre\n",
      "French (pred):  je ne veux pas vous revoir sur partir de vous entendre\n",
      "Spanish (true):  no quiero escuchar tus quejas nunca mas\n",
      "Spanish (pred):  no quiero ser tu abuelo para mi especa\n",
      "-\n",
      "English:        the soldier aimed his gun at the man\n",
      "French (true):  le soldat dirigea son fusil vers lhomme\n",
      "French (pred):  la police se termine a la reunion\n",
      "Spanish (true):  el soldado apunto con su arma al hombre\n",
      "Spanish (pred):  la llave del corron esta leche de esta manana\n",
      "-\n",
      "English:        yours is better\n",
      "French (true):  le votre est meilleur\n",
      "French (pred):  le tempe est previs\n",
      "Spanish (true):  la vuestra es mejor\n",
      "Spanish (pred):  el vano es estupido\n",
      "-\n",
      "English:        shes smart and beautiful\n",
      "French (true):  elle est belle et intelligente\n",
      "French (pred):  elle est en personne de reveller\n",
      "Spanish (true):  ella es inteligente y guapa\n",
      "Spanish (pred):  ella esta continuro de que su disculpe\n",
      "-\n",
      "English:        i cannot follow you\n",
      "French (true):  je narrive pas a te suivre\n",
      "French (pred):  je ne peux pas vous aider\n",
      "Spanish (true):  no puedo seguirte\n",
      "Spanish (pred):  no puedo ir solo\n",
      "-\n",
      "English:        you dont have to answer this question\n",
      "French (true):  vous navez pas a repondre a cette question\n",
      "French (pred):  vous netes pas obligee de repondre a tom\n",
      "Spanish (true):  no tienes que responder a esta pregunta\n",
      "Spanish (pred):  no tienes que hablar de esto por favor\n",
      "-\n",
      "English:        tom hurt himself\n",
      "French (true):  tom sest fait mal\n",
      "French (pred):  tom vit la pluie\n",
      "Spanish (true):  tom se hizo dano\n",
      "Spanish (pred):  tom tiene la musica\n",
      "-\n",
      "English:        at first i didnt know what to do\n",
      "French (true):  au debut je ne savais pas quoi faire\n",
      "French (pred):  il est crois que je ne peux pas faire ca\n",
      "Spanish (true):  al principio no sabia que hacer\n",
      "Spanish (pred):  en ingles no le pidio que viene cantar\n",
      "-\n",
      "English:        whos your teacher\n",
      "French (true):  qui est ton institutrice\n",
      "French (pred):  qui est ton orgloi\n",
      "Spanish (true):  quien es vuestro profesor\n",
      "Spanish (pred):  quien es tu tiempo\n",
      "-\n",
      "English:        you cant use this\n",
      "French (true):  tu ne peux pas utiliser ca\n",
      "French (pred):  tu ne peux pas vous contairer\n",
      "Spanish (true):  no puedes usar esto\n",
      "Spanish (pred):  no puedes aguar esto\n",
      "-\n",
      "English:        i heard a strange noise coming from the kitchen\n",
      "French (true):  jentendis un bruit etrange en provenance de la cuisine\n",
      "French (pred):  jai entendu de la ville dans le tableau de tom\n",
      "Spanish (true):  oi un sonido extrano venir de la cocina\n",
      "Spanish (pred):  tengo un poco para profesir en la sitancia para la tierra\n"
     ]
    }
   ],
   "source": [
    "for seq_index in range(2100, 2120):\n",
    "    # Take one sequence (part of the training set)\n",
    "    # for trying out decoding.\n",
    "    input_seq = encoder_input_data[seq_index: seq_index + 1]\n",
    "    \n",
    "    french_decoded_sentence = decode_french_sequence(input_seq, temp=0.5)\n",
    "    spanish_decoded_sentence = decode_spanish_sequence(input_seq, temp=0.5)\n",
    "    print('-')\n",
    "    print('English:       ', input_texts[seq_index])\n",
    "    print('French (true): ', french_target_texts[seq_index][1:-1])\n",
    "    print('French (pred): ', french_decoded_sentence[0:-1])\n",
    "    print('Spanish (true): ', spanish_target_texts[seq_index][1:-1])\n",
    "    print('Spanish (pred): ', spanish_decoded_sentence[0:-1])"
   ]
  },
  {
   "cell_type": "markdown",
   "metadata": {
    "colab_type": "text",
    "id": "lxgaBFux54mP"
   },
   "source": [
    "### 4.2. Translate an English sentence to the target language\n",
    "\n",
    "1. Tokenization\n",
    "2. One-hot encode\n",
    "3. Translate"
   ]
  },
  {
   "cell_type": "code",
   "execution_count": 31,
   "metadata": {
    "colab": {
     "base_uri": "https://localhost:8080/",
     "height": 72
    },
    "colab_type": "code",
    "id": "_qyP9YSD54mQ",
    "outputId": "63835134-c1e1-4657-ecbb-4c7a5ffee392"
   },
   "outputs": [
    {
     "name": "stdout",
     "output_type": "stream",
     "text": [
      "source sentence is: why is that\n",
      "French translated sentence is: pourquoi cette haute\n",
      "Spanish translated sentence is: por que esta tom\n"
     ]
    }
   ],
   "source": [
    "input_sentence = 'why is that'\n",
    "\n",
    "#Tokenize to individual characters\n",
    "tokens = [char for char in input_sentence]\n",
    "#Convert tokens to integer indices based on input (English) word_index dictionary\n",
    "input_sequence = [input_token_index.get(token) for token in tokens]\n",
    "#Convert to numpy array and reshape\n",
    "input_sequence = numpy.array(input_sequence).reshape((1,len(input_sequence)))\n",
    "#Pad sequence with zeroes\n",
    "seqs_pad = pad_sequences(input_sequence, maxlen=max_encoder_seq_length, padding='post')\n",
    "#Do one-hot encoding\n",
    "input_x = onehot_encode(seqs_pad, max_encoder_seq_length, num_encoder_tokens)\n",
    "\n",
    "#Translate English sentence\n",
    "fr_translated_sentence = decode_french_sequence(input_x, temp=0.5)\n",
    "sp_translated_sentence = decode_spanish_sequence(input_x, temp=0.5)\n",
    "\n",
    "#Print original sentence and translations\n",
    "print('source sentence is: ' + input_sentence)\n",
    "print('French translated sentence is: ' + fr_translated_sentence[:-1])\n",
    "print('Spanish translated sentence is: ' + sp_translated_sentence[:-1])"
   ]
  },
  {
   "cell_type": "markdown",
   "metadata": {
    "colab_type": "text",
    "id": "SsxW0hww54mU"
   },
   "source": [
    "## 5. Evaluate the translation using BLEU score\n",
    "\n",
    "Reference: \n",
    "- https://machinelearningmastery.com/calculate-bleu-score-for-text-python/\n",
    "- https://en.wikipedia.org/wiki/BLEU\n",
    "\n",
    "\n",
    "**Hint:** \n",
    "\n",
    "- Randomly partition the dataset to training, validation, and test. \n",
    "\n",
    "- Evaluate the BLEU score using the test set. Report the average.\n",
    "\n",
    "- A reasonable BLEU score should be 0.1 ~ 0.3."
   ]
  },
  {
   "cell_type": "code",
   "execution_count": 59,
   "metadata": {
    "colab": {
     "base_uri": "https://localhost:8080/",
     "height": 1000
    },
    "colab_type": "code",
    "id": "KLYa_b3054mV",
    "outputId": "cd683084-fb41-4515-aa3d-d4108b0ffa24"
   },
   "outputs": [
    {
     "name": "stdout",
     "output_type": "stream",
     "text": [
      "Show Translations and BLEU Scores Every 200 Sentence Pairs\n",
      "English Sentence: please send me your latest catalogue\n",
      "French Reference: sil vous plait pouvezvous menvoyer votre dernier catalogue; French Translation: veuillez rester ton pere est le plus grand\n",
      "Spanish Reference: por favor envieme su ultimo catalogo; Spanish Translation: por favor deja que esta es mi pasable\n",
      "French BLEU Score: 0.00; Spanish BLEU Score: 0.00\n",
      "\n"
     ]
    },
    {
     "name": "stderr",
     "output_type": "stream",
     "text": [
      "/usr/local/lib/python3.6/dist-packages/nltk/translate/bleu_score.py:490: UserWarning: \n",
      "Corpus/Sentence contains 0 counts of 2-gram overlaps.\n",
      "BLEU scores might be undesirable; use SmoothingFunction().\n",
      "  warnings.warn(_msg)\n"
     ]
    },
    {
     "name": "stdout",
     "output_type": "stream",
     "text": [
      "English Sentence: she went with him to the zoo\n",
      "French Reference: elle est allee au zoo avec lui; French Translation: elle le sert dans la porte\n",
      "Spanish Reference: ella se fue con el al zoologico; Spanish Translation: ella no le dijo que el se lo ayudo\n",
      "French BLEU Score: 0.00; Spanish BLEU Score: 0.00\n",
      "\n",
      "English Sentence: bring it here\n",
      "French Reference: apportele ici; French Translation: essayez ce\n",
      "Spanish Reference: traelo aqui; Spanish Translation: creerla esto\n",
      "French BLEU Score: 0.00; Spanish BLEU Score: 0.00\n",
      "\n",
      "English Sentence: youd better start now\n",
      "French Reference: tu ferais mieux de commencer maintenant; French Translation: tu me reppelles tout ce que je te connaisse\n",
      "Spanish Reference: mejor empiezas ya; Spanish Translation: me pasaste esto en la casa\n",
      "French BLEU Score: 0.00; Spanish BLEU Score: 0.00\n",
      "\n",
      "English Sentence: youre my enemy\n",
      "French Reference: vous etes mon ennemi; French Translation: vous etes mon ennemi\n",
      "Spanish Reference: tu eres mi enemiga; Spanish Translation: eres mi masiento\n",
      "French BLEU Score: 0.00; Spanish BLEU Score: 0.00\n",
      "\n",
      "English Sentence: whats in this box\n",
      "French Reference: questce quil y a dans cette boite; French Translation: quel est le part\n",
      "Spanish Reference: que hay en esta caja; Spanish Translation: cual es el profesor\n",
      "French BLEU Score: 0.00; Spanish BLEU Score: 0.00\n",
      "\n",
      "English Sentence: tom needs to know the truth\n",
      "French Reference: tom a besoin de connaitre la verite; French Translation: tom vit de la plage de temps\n",
      "Spanish Reference: tomas necesita saber la verdad; Spanish Translation: tom se le ayudo a la estacion\n",
      "French BLEU Score: 0.00; Spanish BLEU Score: 0.61\n",
      "\n",
      "English Sentence: my father was busy\n",
      "French Reference: mon pere etait occupe; French Translation: ma mere est pret\n",
      "Spanish Reference: mi padre estaba ocupado; Spanish Translation: mi padre esta a mary\n",
      "French BLEU Score: 0.00; Spanish BLEU Score: 0.67\n",
      "\n",
      "English Sentence: i let him sleep at my house for the night\n",
      "French Reference: je lai fait dormir chez moi pour la nuit; French Translation: jai detende le monde de ma vie est en train de dire cela\n",
      "Spanish Reference: le deje dormir en mi casa esa noche; Spanish Translation: me gusta estar a la pieza de la estacion de comprar esta noche\n",
      "French BLEU Score: 0.00; Spanish BLEU Score: 0.53\n",
      "\n",
      "English Sentence: the reason is clear\n",
      "French Reference: la raison est claire; French Translation: le probleme est pret\n",
      "Spanish Reference: el motivo es claro; Spanish Translation: el coche esta en la casa\n",
      "French BLEU Score: 0.00; Spanish BLEU Score: 0.00\n",
      "\n",
      "Average French  Translation BLEU Score: 0.15\n",
      "Average Spanish Translation BLEU Score: 0.10\n"
     ]
    }
   ],
   "source": [
    "##Calculate average BLEU score on test pairs\n",
    "from nltk.translate.bleu_score import sentence_bleu\n",
    "#BLEU score for French and Spanish translations\n",
    "\n",
    "#Format English sentences to be used to predict translations\n",
    "#Select random 2000 sentence pairs from test set (so this code will run in a reasonable amount of time)\n",
    "num_sentences = 2000\n",
    "random_indices = numpy.random.choice(test_pairs.shape[0], num_sentences, replace=False)\n",
    "input_sentence = test_pairs[random_indices,0]\n",
    "#Tokenize to individual characters\n",
    "tokens = [[char for char in sentence] for sentence in input_sentence]\n",
    "#Convert tokens to integer indices based on input (English) word_index dictionary\n",
    "input_sequence = numpy.array([[input_token_index.get(t) for t in token] for token in tokens])\n",
    "#Pad sequence with zeroes\n",
    "seqs_pad = pad_sequences(input_sequence, maxlen=max_encoder_seq_length, padding='post')\n",
    "#Do one-hot encoding\n",
    "input_x = onehot_encode(seqs_pad, max_encoder_seq_length, num_encoder_tokens)\n",
    "\n",
    "#Tokenize French and Spanish reference sentences\n",
    "french_references = test_pairs[random_indices,1]\n",
    "french_tokens = [french.split(' ') for french in french_references]\n",
    "spanish_references = test_pairs[random_indices,2]\n",
    "spanish_tokens = [spanish.split(' ') for spanish in spanish_references]\n",
    "\n",
    "#Predict translation from English sentence\n",
    "scores = numpy.zeros((num_sentences,2))\n",
    "print('Show Translations and BLEU Scores Every 200 Sentence Pairs')\n",
    "for i, english in enumerate(input_x):\n",
    "  english = english.reshape(1,*english.shape)\n",
    "  #Get reference sentence from test set\n",
    "  french_reference = french_references[i] #Actual French sentence\n",
    "  spanish_reference = spanish_references[i] #Actual Spanish sentence\n",
    "\n",
    "  #Predict translation from English sentence\n",
    "  #Translate to French and Spanish\n",
    "  french_translation = decode_french_sequence(english, temp=0.2)[:-1]\n",
    "  french_candidate = french_translation.split(' ') \n",
    "  spanish_translation = decode_spanish_sequence(english, temp=0.2)[:-1]\n",
    "  spanish_candidate = spanish_translation.split(' ') \n",
    "\n",
    "  #Calculate BLEU scores\n",
    "  french_bleu = sentence_bleu(french_tokens[i], french_candidate)\n",
    "  spanish_bleu = sentence_bleu(spanish_tokens[i], spanish_candidate)\n",
    "  \n",
    "  #Print every 200th sentence and BLEU score\n",
    "  if i%200==0:\n",
    "    print('English Sentence: {}'.format(input_sentence[i]))\n",
    "    print('French Reference: {}; French Translation: {}'.format(french_reference, french_translation))\n",
    "    print('Spanish Reference: {}; Spanish Translation: {}'.format(spanish_reference, spanish_translation))\n",
    "    print('French BLEU Score: {:.2f}; Spanish BLEU Score: {:.2f}\\n'.format(french_bleu, spanish_bleu))\n",
    "  \n",
    "  scores[i,:] = [french_bleu, spanish_bleu]\n",
    "\n",
    "#Calculate average BLEU score by language\n",
    "mean_scores = numpy.mean(scores, axis=0)\n",
    "print('Average French  Translation BLEU Score: {:.2f}'.format(mean_scores[0]))\n",
    "print('Average Spanish Translation BLEU Score: {:.2f}'.format(mean_scores[1]))"
   ]
  }
 ],
 "metadata": {
  "accelerator": "GPU",
  "colab": {
   "machine_shape": "hm",
   "name": "HM4.ipynb",
   "provenance": [],
   "toc_visible": true
  },
  "kernelspec": {
   "display_name": "Python 3",
   "language": "python",
   "name": "python3"
  },
  "language_info": {
   "codemirror_mode": {
    "name": "ipython",
    "version": 3
   },
   "file_extension": ".py",
   "mimetype": "text/x-python",
   "name": "python",
   "nbconvert_exporter": "python",
   "pygments_lexer": "ipython3",
   "version": "3.6.8"
  }
 },
 "nbformat": 4,
 "nbformat_minor": 1
}
