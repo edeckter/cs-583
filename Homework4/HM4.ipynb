{
  "nbformat": 4,
  "nbformat_minor": 0,
  "metadata": {
    "kernelspec": {
      "name": "python3",
      "display_name": "Python 3"
    },
    "language_info": {
      "codemirror_mode": {
        "name": "ipython",
        "version": 3
      },
      "file_extension": ".py",
      "mimetype": "text/x-python",
      "name": "python",
      "nbconvert_exporter": "python",
      "pygments_lexer": "ipython3",
      "version": "3.6.8"
    },
    "colab": {
      "name": "HM4.ipynb",
      "provenance": [],
      "toc_visible": true
    },
    "accelerator": "GPU"
  },
  "cells": [
    {
      "cell_type": "markdown",
      "metadata": {
        "id": "Dhk8_56n54h9",
        "colab_type": "text"
      },
      "source": [
        "# Home 4: Build a seq2seq model for machine translation.\n",
        "\n",
        "### Name: Erika Deckter\n",
        "\n",
        "### Task: Translate English to French and Spanish"
      ]
    },
    {
      "cell_type": "markdown",
      "metadata": {
        "id": "s18k5tCH54iE",
        "colab_type": "text"
      },
      "source": [
        "## 0. You will do the following:\n",
        "\n",
        "1. Read and run my code.\n",
        "2. Complete the code in Section 1.1 and Section 4.2.\n",
        "\n",
        "    * Translation English to **German** is not acceptable!!! Try another language.\n",
        "    \n",
        "3. **Make improvements.** Directly modify the code in Section 3. Do at least one of the followings. By doing more, you will get up to 2 bonus scores to the total.\n",
        "\n",
        "    * Bi-LSTM instead of LSTM\n",
        "    \n",
        "    * Multi-task learning (e.g., both English to French and English to Spanish)\n",
        "    \n",
        "    * Attention\n",
        "    \n",
        "4. Evaluate the translation using the BLEU score. \n",
        "\n",
        "    * Optional. Up to 1 bonus scores to the total.\n",
        "    \n",
        "5. Convert the notebook to .HTML file. \n",
        "\n",
        "    * The HTML file must contain the code and the output after execution.\n",
        "\n",
        "6. Put the .HTML file in your own Github repo. \n",
        "\n",
        "7. Submit the link to the HTML file to Canvas.    \n"
      ]
    },
    {
      "cell_type": "code",
      "metadata": {
        "id": "aC85hwO-6BRn",
        "colab_type": "code",
        "colab": {
          "base_uri": "https://localhost:8080/",
          "height": 129
        },
        "outputId": "76b2ff5b-9837-4a48-dd3e-6f90c0d97098"
      },
      "source": [
        "from google.colab import drive\n",
        "drive.mount('/content/drive')"
      ],
      "execution_count": 1,
      "outputs": [
        {
          "output_type": "stream",
          "text": [
            "Go to this URL in a browser: https://accounts.google.com/o/oauth2/auth?client_id=947318989803-6bn6qk8qdgf4n4g3pfee6491hc0brc4i.apps.googleusercontent.com&redirect_uri=urn%3Aietf%3Awg%3Aoauth%3A2.0%3Aoob&scope=email%20https%3A%2F%2Fwww.googleapis.com%2Fauth%2Fdocs.test%20https%3A%2F%2Fwww.googleapis.com%2Fauth%2Fdrive%20https%3A%2F%2Fwww.googleapis.com%2Fauth%2Fdrive.photos.readonly%20https%3A%2F%2Fwww.googleapis.com%2Fauth%2Fpeopleapi.readonly&response_type=code\n",
            "\n",
            "Enter your authorization code:\n",
            "··········\n",
            "Mounted at /content/drive\n"
          ],
          "name": "stdout"
        }
      ]
    },
    {
      "cell_type": "markdown",
      "metadata": {
        "id": "mEJx_qQN54iM",
        "colab_type": "text"
      },
      "source": [
        "### Hint: \n",
        "\n",
        "To implement ```Bi-LSTM```, you will need the following code to build the encoder; the decoder won't be much different."
      ]
    },
    {
      "cell_type": "code",
      "metadata": {
        "id": "FpQuEFGy54iQ",
        "colab_type": "code",
        "colab": {}
      },
      "source": [
        "from keras.layers import Bidirectional, Concatenate\n",
        "\n",
        "encoder_bilstm = Bidirectional(LSTM(latent_dim, return_state=True, \n",
        "                                  dropout=0.5, name='encoder_lstm'))\n",
        "_, forward_h, forward_c, backward_h, backward_c = encoder_bilstm(encoder_inputs)\n",
        "\n",
        "state_h = Concatenate()([forward_h, backward_h])\n",
        "state_c = Concatenate()([forward_c, backward_c])"
      ],
      "execution_count": 0,
      "outputs": []
    },
    {
      "cell_type": "markdown",
      "metadata": {
        "id": "6UwjRD7P54ic",
        "colab_type": "text"
      },
      "source": [
        "### Hint: \n",
        "\n",
        "To implement multi-task training, you can refer to ```Section 7.1.3 Multi-output models``` of the textbook, ```Deep Learning with Python```."
      ]
    },
    {
      "cell_type": "markdown",
      "metadata": {
        "id": "OVn2ROaF54ii",
        "colab_type": "text"
      },
      "source": [
        "## 1. Data preparation\n",
        "\n",
        "1. Download data (e.g., \"deu-eng.zip\") from http://www.manythings.org/anki/\n",
        "2. Unzip the .ZIP file.\n",
        "3. Put the .TXT file (e.g., \"deu.txt\") in the directory \"./Data/\"."
      ]
    },
    {
      "cell_type": "markdown",
      "metadata": {
        "id": "lSj9VRUQ54im",
        "colab_type": "text"
      },
      "source": [
        "### 1.1. Load and clean text\n"
      ]
    },
    {
      "cell_type": "code",
      "metadata": {
        "id": "pISlJhlu54io",
        "colab_type": "code",
        "colab": {}
      },
      "source": [
        "import re\n",
        "import string\n",
        "from unicodedata import normalize\n",
        "import numpy\n",
        "\n",
        "# load doc into memory\n",
        "def load_doc(filename):\n",
        "    # open the file as read only\n",
        "    file = open(filename, mode='rt', encoding='utf-8')\n",
        "    # read all text\n",
        "    text = file.read()\n",
        "    # close the file\n",
        "    file.close()\n",
        "    return text\n",
        "\n",
        "\n",
        "# split a loaded document into sentences\n",
        "def to_pairs(doc):\n",
        "    lines = doc.strip().split('\\n')\n",
        "    pairs = [line.split('\\t') for line in  lines]\n",
        "    return pairs\n",
        "\n",
        "def clean_data(lines):\n",
        "    cleaned = list()\n",
        "    # prepare regex for char filtering\n",
        "    re_print = re.compile('[^%s]' % re.escape(string.printable))\n",
        "    # prepare translation table for removing punctuation\n",
        "    table = str.maketrans('', '', string.punctuation)\n",
        "    for pair in lines:\n",
        "        clean_pair = list()\n",
        "        for line in pair:\n",
        "            # normalize unicode characters\n",
        "            line = normalize('NFD', line).encode('ascii', 'ignore')\n",
        "            line = line.decode('UTF-8')\n",
        "            # tokenize on white space\n",
        "            line = line.split()\n",
        "            # convert to lowercase\n",
        "            line = [word.lower() for word in line]\n",
        "            # remove punctuation from each token\n",
        "            line = [word.translate(table) for word in line]\n",
        "            # remove non-printable chars form each token\n",
        "            line = [re_print.sub('', w) for w in line]\n",
        "            # remove tokens with numbers in them\n",
        "            line = [word for word in line if word.isalpha()]\n",
        "            # store as string\n",
        "            clean_pair.append(' '.join(line))\n",
        "        cleaned.append(clean_pair)\n",
        "    return numpy.array(cleaned)"
      ],
      "execution_count": 0,
      "outputs": []
    },
    {
      "cell_type": "markdown",
      "metadata": {
        "id": "Jogx43FJ54iy",
        "colab_type": "text"
      },
      "source": [
        "#### Fill the following blanks:"
      ]
    },
    {
      "cell_type": "code",
      "metadata": {
        "id": "WnoNpQnE54i2",
        "colab_type": "code",
        "colab": {}
      },
      "source": [
        "# e.g., filename = 'Data/deu.txt'\n",
        "files = ['drive/My Drive/CS 583/data/fra.txt', 'drive/My Drive/CS 583/data/spa.txt']\n",
        "\n",
        "# e.g., n_train = 20000\n",
        "n_train = 100000"
      ],
      "execution_count": 0,
      "outputs": []
    },
    {
      "cell_type": "code",
      "metadata": {
        "id": "b-CpXbZ254jD",
        "colab_type": "code",
        "colab": {}
      },
      "source": [
        "def get_sentence_pairs(filename):\n",
        "    # load dataset\n",
        "    doc = load_doc(filename)\n",
        "    # split into Language1-Language2 pairs\n",
        "    pairs = to_pairs(doc)\n",
        "    # clean sentences\n",
        "    clean_pairs = clean_data(pairs)[0:n_train, :]\n",
        "    \n",
        "    return clean_pairs\n",
        "\n",
        "#Get French and Spanish pairs\n",
        "french_pairs = get_sentence_pairs(files[0])\n",
        "spanish_pairs = get_sentence_pairs(files[1])"
      ],
      "execution_count": 0,
      "outputs": []
    },
    {
      "cell_type": "code",
      "metadata": {
        "id": "g-nGE5Xs54jM",
        "colab_type": "code",
        "colab": {
          "base_uri": "https://localhost:8080/",
          "height": 421
        },
        "outputId": "e12c9f37-ed75-432e-a84a-18b47ef36331"
      },
      "source": [
        "#Print French pairs\n",
        "print('English -> French')\n",
        "for i in range(3000, 3010):\n",
        "    print('[' + french_pairs[i, 0] + '] => [' + french_pairs[i, 1] + ']')\n",
        "#Print Spanish pairs\n",
        "print('English -> Spanish')\n",
        "for i in range(3000, 3010):\n",
        "    print('[' + spanish_pairs[i, 0] + '] => [' + spanish_pairs[i, 1] + ']')"
      ],
      "execution_count": 5,
      "outputs": [
        {
          "output_type": "stream",
          "text": [
            "English -> French\n",
            "[whats that] => [quest cela]\n",
            "[whats this] => [questce que cest]\n",
            "[whats this] => [cest quoi]\n",
            "[whats this] => [cest quoi ca]\n",
            "[where is he] => [ou estil]\n",
            "[where is it] => [ou estil]\n",
            "[where is it] => [ou estelle]\n",
            "[where was i] => [ou en etaisje]\n",
            "[where was i] => [ou etaisje]\n",
            "[wheres tom] => [ou est tom]\n",
            "English -> Spanish\n",
            "[i loved that] => [eso me gusto]\n",
            "[i loved that] => [eso me gustaba]\n",
            "[i loved that] => [a mi me gustaba eso]\n",
            "[i made a bet] => [hice una apuesta]\n",
            "[i made these] => [yo hice estos]\n",
            "[i made these] => [estos los hice yo]\n",
            "[i misled tom] => [yo engane a tom]\n",
            "[i missed you] => [te eche de menos]\n",
            "[i missed you] => [te extrane]\n",
            "[i need a cab] => [necesito un taxi]\n"
          ],
          "name": "stdout"
        }
      ]
    },
    {
      "cell_type": "code",
      "metadata": {
        "id": "LLiBflgh54jV",
        "colab_type": "code",
        "colab": {
          "base_uri": "https://localhost:8080/",
          "height": 72
        },
        "outputId": "03aaf0e3-c234-4c7b-8924-7b362111e48c"
      },
      "source": [
        "input_texts = numpy.concatenate((french_pairs[:, 0],spanish_pairs[:, 0]), axis=0)\n",
        "french_target_texts = ['\\t' + text + '\\n' for text in french_pairs[:, 1]]\n",
        "spanish_target_texts = ['\\t' + text + '\\n' for text in spanish_pairs[:, 1]]\n",
        "\n",
        "print('Length of input_texts: ' + str(input_texts.shape[0]))\n",
        "print('Length of french_target_texts: ' + str(len(french_target_texts)))\n",
        "print('Length of spanish_target_texts: ' + str(len(spanish_target_texts)))"
      ],
      "execution_count": 6,
      "outputs": [
        {
          "output_type": "stream",
          "text": [
            "Length of input_texts: 200000\n",
            "Length of french_target_texts: 100000\n",
            "Length of spanish_target_texts: 100000\n"
          ],
          "name": "stdout"
        }
      ]
    },
    {
      "cell_type": "code",
      "metadata": {
        "id": "7xBg68C-54jf",
        "colab_type": "code",
        "colab": {
          "base_uri": "https://localhost:8080/",
          "height": 72
        },
        "outputId": "721d72f8-36c4-4e34-8de9-602ec964cffd"
      },
      "source": [
        "max_encoder_seq_length = max(len(line) for line in input_texts)\n",
        "max_fr_decoder_seq_length = max(len(line) for line in french_target_texts)\n",
        "max_sp_decoder_seq_length = max(len(line) for line in spanish_target_texts)\n",
        "\n",
        "print('max length of input sentences: %d' % (max_encoder_seq_length))\n",
        "print('max length of French target sentences: %d' % (max_fr_decoder_seq_length))\n",
        "print('max length of Spanish target sentences: %d' % (max_sp_decoder_seq_length))"
      ],
      "execution_count": 7,
      "outputs": [
        {
          "output_type": "stream",
          "text": [
            "max length of input sentences: 41\n",
            "max length of French target sentences: 72\n",
            "max length of Spanish target sentences: 75\n"
          ],
          "name": "stdout"
        }
      ]
    },
    {
      "cell_type": "markdown",
      "metadata": {
        "id": "pyM50wbV54jm",
        "colab_type": "text"
      },
      "source": [
        "**Remark:** To this end, you have two lists of sentences: input_texts and target_texts"
      ]
    },
    {
      "cell_type": "markdown",
      "metadata": {
        "id": "2P_3IKfg54jp",
        "colab_type": "text"
      },
      "source": [
        "## 2. Text processing\n",
        "\n",
        "### 2.1. Convert texts to sequences\n",
        "\n",
        "- Input: A list of $n$ sentences (with max length $t$).\n",
        "- It is represented by a $n\\times t$ matrix after the tokenization and zero-padding."
      ]
    },
    {
      "cell_type": "code",
      "metadata": {
        "id": "6dxXPuVp54jt",
        "colab_type": "code",
        "colab": {
          "base_uri": "https://localhost:8080/",
          "height": 193
        },
        "outputId": "0b08ffe1-c95a-42ca-a829-607ef37bd696"
      },
      "source": [
        "from keras.preprocessing.text import Tokenizer\n",
        "from keras.preprocessing.sequence import pad_sequences\n",
        "\n",
        "# encode and pad sequences\n",
        "def text2sequences(max_len, lines):\n",
        "    tokenizer = Tokenizer(char_level=True, filters='')\n",
        "    tokenizer.fit_on_texts(lines)\n",
        "    seqs = tokenizer.texts_to_sequences(lines)\n",
        "    seqs_pad = pad_sequences(seqs, maxlen=max_len, padding='post')\n",
        "    return seqs_pad, tokenizer.word_index\n",
        "\n",
        "\n",
        "encoder_input_seq, input_token_index = text2sequences(max_encoder_seq_length, \n",
        "                                                      input_texts)\n",
        "fr_decoder_input_seq, fr_target_token_index = text2sequences(max_fr_decoder_seq_length, \n",
        "                                                             french_target_texts)\n",
        "sp_decoder_input_seq, sp_target_token_index = text2sequences(max_sp_decoder_seq_length, \n",
        "                                                             spanish_target_texts)\n",
        "\n",
        "print('shape of encoder_input_seq: ' + str(encoder_input_seq.shape))\n",
        "print('shape of input_token_index: ' + str(len(input_token_index)))\n",
        "print('shape of fr_decoder_input_seq: ' + str(fr_decoder_input_seq.shape))\n",
        "print('shape of fr_target_token_index: ' + str(len(fr_target_token_index)))\n",
        "print('shape of sp_decoder_input_seq: ' + str(sp_decoder_input_seq.shape))\n",
        "print('shape of sp_target_token_index: ' + str(len(sp_target_token_index)))"
      ],
      "execution_count": 8,
      "outputs": [
        {
          "output_type": "stream",
          "text": [
            "Using TensorFlow backend.\n"
          ],
          "name": "stderr"
        },
        {
          "output_type": "display_data",
          "data": {
            "text/html": [
              "<p style=\"color: red;\">\n",
              "The default version of TensorFlow in Colab will soon switch to TensorFlow 2.x.<br>\n",
              "We recommend you <a href=\"https://www.tensorflow.org/guide/migrate\" target=\"_blank\">upgrade</a> now \n",
              "or ensure your notebook will continue to use TensorFlow 1.x via the <code>%tensorflow_version 1.x</code> magic:\n",
              "<a href=\"https://colab.research.google.com/notebooks/tensorflow_version.ipynb\" target=\"_blank\">more info</a>.</p>\n"
            ],
            "text/plain": [
              "<IPython.core.display.HTML object>"
            ]
          },
          "metadata": {
            "tags": []
          }
        },
        {
          "output_type": "stream",
          "text": [
            "shape of encoder_input_seq: (200000, 41)\n",
            "shape of input_token_index: 27\n",
            "shape of fr_decoder_input_seq: (100000, 72)\n",
            "shape of fr_target_token_index: 29\n",
            "shape of sp_decoder_input_seq: (100000, 75)\n",
            "shape of sp_target_token_index: 29\n"
          ],
          "name": "stdout"
        }
      ]
    },
    {
      "cell_type": "code",
      "metadata": {
        "id": "5qfigRMD54j5",
        "colab_type": "code",
        "colab": {
          "base_uri": "https://localhost:8080/",
          "height": 72
        },
        "outputId": "6f502dbd-076e-4292-f56f-a1e43245588f"
      },
      "source": [
        "num_encoder_tokens = len(input_token_index) + 1\n",
        "num_fr_decoder_tokens = len(fr_target_token_index) + 1\n",
        "num_sp_decoder_tokens = len(sp_target_token_index) + 1\n",
        "\n",
        "print('num_encoder_tokens: ' + str(num_encoder_tokens))\n",
        "print('num_fr_decoder_tokens: ' + str(num_fr_decoder_tokens))\n",
        "print('num_sp_decoder_tokens: ' + str(num_sp_decoder_tokens))"
      ],
      "execution_count": 9,
      "outputs": [
        {
          "output_type": "stream",
          "text": [
            "num_encoder_tokens: 28\n",
            "num_fr_decoder_tokens: 30\n",
            "num_sp_decoder_tokens: 30\n"
          ],
          "name": "stdout"
        }
      ]
    },
    {
      "cell_type": "markdown",
      "metadata": {
        "id": "_JIZ58CV54j_",
        "colab_type": "text"
      },
      "source": [
        "**Remark:** To this end, the input language and target language texts are converted to 2 matrices. \n",
        "\n",
        "- Their number of rows are both n_train.\n",
        "- Their number of columns are respective max_encoder_seq_length and max_decoder_seq_length."
      ]
    },
    {
      "cell_type": "markdown",
      "metadata": {
        "id": "Lwg9j4G854kC",
        "colab_type": "text"
      },
      "source": [
        "The followings print a sentence and its representation as a sequence."
      ]
    },
    {
      "cell_type": "code",
      "metadata": {
        "id": "0nKIIQWO54kD",
        "colab_type": "code",
        "colab": {
          "base_uri": "https://localhost:8080/",
          "height": 54
        },
        "outputId": "7c322f9b-7a84-4d2d-81e4-39e5e2f84d7e"
      },
      "source": [
        "print('French Target Text: ',repr(french_target_texts[100]))\n",
        "print('Spanish Target Text: ',repr(spanish_target_texts[100]))"
      ],
      "execution_count": 10,
      "outputs": [
        {
          "output_type": "stream",
          "text": [
            "French Target Text:  '\\tentre\\n'\n",
            "Spanish Target Text:  '\\tsed buenas\\n'\n"
          ],
          "name": "stdout"
        }
      ]
    },
    {
      "cell_type": "code",
      "metadata": {
        "id": "bbpSLAMl54kN",
        "colab_type": "code",
        "colab": {
          "base_uri": "https://localhost:8080/",
          "height": 182
        },
        "outputId": "67715fd0-dc22-43a6-bd19-3785e987116d"
      },
      "source": [
        "print('French Decoder Sequence')\n",
        "print(fr_decoder_input_seq[100, :])\n",
        "print('Spanish Decoder Sequence')\n",
        "print(sp_decoder_input_seq[100, :])"
      ],
      "execution_count": 11,
      "outputs": [
        {
          "output_type": "stream",
          "text": [
            "French Decoder Sequence\n",
            "[12  2  8  6 10  2 13  0  0  0  0  0  0  0  0  0  0  0  0  0  0  0  0  0\n",
            "  0  0  0  0  0  0  0  0  0  0  0  0  0  0  0  0  0  0  0  0  0  0  0  0\n",
            "  0  0  0  0  0  0  0  0  0  0  0  0  0  0  0  0  0  0  0  0  0  0  0  0]\n",
            "Spanish Decoder Sequence\n",
            "[12  5  2 14  1 18 11  2  6  3  5 13  0  0  0  0  0  0  0  0  0  0  0  0\n",
            "  0  0  0  0  0  0  0  0  0  0  0  0  0  0  0  0  0  0  0  0  0  0  0  0\n",
            "  0  0  0  0  0  0  0  0  0  0  0  0  0  0  0  0  0  0  0  0  0  0  0  0\n",
            "  0  0  0]\n"
          ],
          "name": "stdout"
        }
      ]
    },
    {
      "cell_type": "markdown",
      "metadata": {
        "id": "UryinXJl54kV",
        "colab_type": "text"
      },
      "source": [
        "## 2.2. One-hot encode\n",
        "\n",
        "- Input: A list of $n$ sentences (with max length $t$).\n",
        "- It is represented by a $n\\times t$ matrix after the tokenization and zero-padding.\n",
        "- It is represented by a $n\\times t \\times v$ tensor ($t$ is the number of unique chars) after the one-hot encoding."
      ]
    },
    {
      "cell_type": "code",
      "metadata": {
        "id": "GVOVLG_H54kY",
        "colab_type": "code",
        "colab": {
          "base_uri": "https://localhost:8080/",
          "height": 72
        },
        "outputId": "e954293e-04fc-4719-8159-a3ad99d8d2d2"
      },
      "source": [
        "from keras.utils import to_categorical\n",
        "\n",
        "# one hot encode target sequence\n",
        "def onehot_encode(sequences, max_len, vocab_size):\n",
        "    n = len(sequences)\n",
        "    data = numpy.zeros((n, max_len, vocab_size))\n",
        "    for i in range(n):\n",
        "        data[i, :, :] = to_categorical(sequences[i], num_classes=vocab_size)\n",
        "    return data\n",
        "\n",
        "encoder_input_data = onehot_encode(encoder_input_seq, max_encoder_seq_length, num_encoder_tokens)\n",
        "fr_decoder_input_data = onehot_encode(fr_decoder_input_seq, max_fr_decoder_seq_length, num_fr_decoder_tokens)\n",
        "sp_decoder_input_data = onehot_encode(sp_decoder_input_seq, max_sp_decoder_seq_length, num_sp_decoder_tokens)\n",
        "\n",
        "fr_decoder_target_seq = numpy.zeros(fr_decoder_input_seq.shape)\n",
        "fr_decoder_target_seq[:, 0:-1] = fr_decoder_input_seq[:, 1:]\n",
        "fr_decoder_target_data = onehot_encode(fr_decoder_target_seq, \n",
        "                                       max_fr_decoder_seq_length, \n",
        "                                       num_fr_decoder_tokens)\n",
        "sp_decoder_target_seq = numpy.zeros(sp_decoder_input_seq.shape)\n",
        "sp_decoder_target_seq[:, 0:-1] = sp_decoder_input_seq[:, 1:]\n",
        "sp_decoder_target_data = onehot_encode(sp_decoder_target_seq, \n",
        "                                       max_sp_decoder_seq_length, \n",
        "                                       num_sp_decoder_tokens)\n",
        "\n",
        "print(encoder_input_data.shape)\n",
        "print(fr_decoder_input_data.shape)\n",
        "print(sp_decoder_input_data.shape)"
      ],
      "execution_count": 12,
      "outputs": [
        {
          "output_type": "stream",
          "text": [
            "(200000, 41, 28)\n",
            "(100000, 72, 30)\n",
            "(100000, 75, 30)\n"
          ],
          "name": "stdout"
        }
      ]
    },
    {
      "cell_type": "markdown",
      "metadata": {
        "id": "5ozLZZzV54kd",
        "colab_type": "text"
      },
      "source": [
        "## 3. Build the networks (for training)\n",
        "\n",
        "- Build encoder, decoder, and connect the two modules to get \"model\". \n",
        "\n",
        "- Fit the model on the bilingual data to train the parameters in the encoder and decoder."
      ]
    },
    {
      "cell_type": "markdown",
      "metadata": {
        "id": "ECHI92ri54kg",
        "colab_type": "text"
      },
      "source": [
        "### 3.1. Encoder network\n",
        "\n",
        "- Input:  one-hot encode of the input language\n",
        "\n",
        "- Return: \n",
        "\n",
        "    -- output (all the hidden states   $h_1, \\cdots , h_t$) are always discarded\n",
        "    \n",
        "    -- the final hidden state  $h_t$\n",
        "    \n",
        "    -- the final conveyor belt $c_t$"
      ]
    },
    {
      "cell_type": "code",
      "metadata": {
        "id": "9mjH5cCq54kk",
        "colab_type": "code",
        "colab": {
          "base_uri": "https://localhost:8080/",
          "height": 257
        },
        "outputId": "1de8dc85-af4c-473c-f3db-dd888ee5e071"
      },
      "source": [
        "from tensorflow.keras.layers import Input, LSTM, Bidirectional, Concatenate\n",
        "from tensorflow.keras.models import Model\n",
        "\n",
        "latent_dim = 256\n",
        "\n",
        "# inputs of the encoder network\n",
        "encoder_inputs = Input(shape=(None, num_encoder_tokens), \n",
        "                       name='encoder_inputs')\n",
        "\n",
        "# set the LSTM layer\n",
        "encoder_bilstm = Bidirectional(LSTM(latent_dim, return_state=True, \n",
        "                    dropout=0.5, name='encoder_bilstm'))\n",
        "_, forward_h, forward_c, backward_h, backward_c = encoder_bilstm(encoder_inputs)\n",
        "\n",
        "#Concatenate forward and backward states\n",
        "state_h = Concatenate()([forward_h, backward_h])\n",
        "state_c = Concatenate()([forward_c, backward_c])\n",
        "\n",
        "# build the encoder network model\n",
        "encoder_model = Model(inputs=encoder_inputs, \n",
        "                      outputs=[state_h, state_c],\n",
        "                      name='encoder')"
      ],
      "execution_count": 13,
      "outputs": [
        {
          "output_type": "stream",
          "text": [
            "WARNING:tensorflow:From /usr/local/lib/python3.6/dist-packages/tensorflow_core/python/ops/init_ops.py:97: calling GlorotUniform.__init__ (from tensorflow.python.ops.init_ops) with dtype is deprecated and will be removed in a future version.\n",
            "Instructions for updating:\n",
            "Call initializer instance with the dtype argument instead of passing it to the constructor\n",
            "WARNING:tensorflow:From /usr/local/lib/python3.6/dist-packages/tensorflow_core/python/ops/init_ops.py:97: calling Orthogonal.__init__ (from tensorflow.python.ops.init_ops) with dtype is deprecated and will be removed in a future version.\n",
            "Instructions for updating:\n",
            "Call initializer instance with the dtype argument instead of passing it to the constructor\n",
            "WARNING:tensorflow:From /usr/local/lib/python3.6/dist-packages/tensorflow_core/python/ops/init_ops.py:97: calling Zeros.__init__ (from tensorflow.python.ops.init_ops) with dtype is deprecated and will be removed in a future version.\n",
            "Instructions for updating:\n",
            "Call initializer instance with the dtype argument instead of passing it to the constructor\n",
            "WARNING:tensorflow:From /usr/local/lib/python3.6/dist-packages/tensorflow_core/python/ops/resource_variable_ops.py:1630: calling BaseResourceVariable.__init__ (from tensorflow.python.ops.resource_variable_ops) with constraint is deprecated and will be removed in a future version.\n",
            "Instructions for updating:\n",
            "If using Keras pass *_constraint arguments to layers.\n"
          ],
          "name": "stdout"
        }
      ]
    },
    {
      "cell_type": "markdown",
      "metadata": {
        "id": "pf3azOVs54kq",
        "colab_type": "text"
      },
      "source": [
        "Print a summary and save the encoder network structure to \"./encoder.jpg\"   \n",
        "Note: I changed file extension to .jpg (from .pdf) because the pdf was causing an error in Jupyter."
      ]
    },
    {
      "cell_type": "code",
      "metadata": {
        "id": "2R00s-sq54kt",
        "colab_type": "code",
        "colab": {
          "base_uri": "https://localhost:8080/",
          "height": 348
        },
        "outputId": "60f50a93-4453-4f35-ae72-2a854a315f3b"
      },
      "source": [
        "from IPython.display import SVG\n",
        "#from keras.utils.vis_utils import model_to_dot, plot_model\n",
        "from tensorflow.keras.utils import model_to_dot, plot_model\n",
        "\n",
        "SVG(model_to_dot(encoder_model, show_shapes=False).create(prog='dot', format='svg'))\n",
        "\n",
        "plot_model(\n",
        "    model=encoder_model, show_shapes=False,\n",
        "    to_file='encoder.jpg' #Changed file extension to .jpg (from .pdf) because the pdf was causing an error in Jupyter\n",
        ")\n",
        "\n",
        "encoder_model.summary()"
      ],
      "execution_count": 14,
      "outputs": [
        {
          "output_type": "stream",
          "text": [
            "Model: \"encoder\"\n",
            "__________________________________________________________________________________________________\n",
            "Layer (type)                    Output Shape         Param #     Connected to                     \n",
            "==================================================================================================\n",
            "encoder_inputs (InputLayer)     [(None, None, 28)]   0                                            \n",
            "__________________________________________________________________________________________________\n",
            "bidirectional (Bidirectional)   [(None, 512), (None, 583680      encoder_inputs[0][0]             \n",
            "__________________________________________________________________________________________________\n",
            "concatenate (Concatenate)       (None, 512)          0           bidirectional[0][1]              \n",
            "                                                                 bidirectional[0][3]              \n",
            "__________________________________________________________________________________________________\n",
            "concatenate_1 (Concatenate)     (None, 512)          0           bidirectional[0][2]              \n",
            "                                                                 bidirectional[0][4]              \n",
            "==================================================================================================\n",
            "Total params: 583,680\n",
            "Trainable params: 583,680\n",
            "Non-trainable params: 0\n",
            "__________________________________________________________________________________________________\n"
          ],
          "name": "stdout"
        }
      ]
    },
    {
      "cell_type": "markdown",
      "metadata": {
        "id": "glHWBP-e54k0",
        "colab_type": "text"
      },
      "source": [
        "### 3.2. Decoder network\n",
        "\n",
        "- Inputs:  \n",
        "\n",
        "    -- one-hot encode of the target language\n",
        "    \n",
        "    -- The initial hidden state $h_t$ \n",
        "    \n",
        "    -- The initial conveyor belt $c_t$ \n",
        "\n",
        "- Return: \n",
        "\n",
        "    -- output (all the hidden states) $h_1, \\cdots , h_t$\n",
        "\n",
        "    -- the final hidden state  $h_t$ (discarded in the training and used in the prediction)\n",
        "    \n",
        "    -- the final conveyor belt $c_t$ (discarded in the training and used in the prediction)"
      ]
    },
    {
      "cell_type": "code",
      "metadata": {
        "id": "ZvMITkMq54k1",
        "colab_type": "code",
        "colab": {}
      },
      "source": [
        "#French Decoder\n",
        "from tensorflow.keras.layers import Input, LSTM, Dense, Bidirectional, Concatenate\n",
        "from tensorflow.keras.models import Model\n",
        "\n",
        "# inputs of the decoder network\n",
        "decoder_input_h = Input(shape=(2*latent_dim,), name='decoder_input_h')\n",
        "decoder_input_c = Input(shape=(2*latent_dim,), name='decoder_input_c')\n",
        "decoder_input_fr = Input(shape=(None, num_fr_decoder_tokens), name='decoder_input_fr')\n",
        "\n",
        "# set the LSTM layer\n",
        "fr_decoder_lstm = LSTM(2*latent_dim, return_sequences=True, \n",
        "                    return_state=True, dropout=0.5, name='fr_decoder_lstm')\n",
        "fr_decoder_lstm_outputs, state_h, state_c = fr_decoder_lstm(decoder_input_fr, \n",
        "                                                      initial_state=[decoder_input_h, decoder_input_c])\n",
        "#decoder_bilstm = Bidirectional(LSTM(latent_dim, return_sequences=True, \n",
        "#                    return_state=True, dropout=0.5, name='decoder_bilstm'))\n",
        "#decoder_bilstm_outputs, forward_h, forward_c, backward_h, backward_c = decoder_bilstm(decoder_input_x, \n",
        "#                                                      initial_state=[decoder_input_h, decoder_input_c])\n",
        "\n",
        "#Concatenate forward and backward states\n",
        "#state_h = Concatenate()([forward_h, backward_h])\n",
        "#state_c = Concatenate()([forward_c, backward_c])\n",
        "\n",
        "# set the dense layer\n",
        "fr_decoder_dense = Dense(num_fr_decoder_tokens, activation='softmax', name='fr_decoder_dense')\n",
        "fr_decoder_outputs = fr_decoder_dense(fr_decoder_lstm_outputs)\n",
        "\n",
        "# build the decoder network model\n",
        "fr_decoder_model = Model(inputs=[decoder_input_fr, decoder_input_h, decoder_input_c],\n",
        "                      outputs=[fr_decoder_outputs, state_h, state_c],\n",
        "                      name='fr_decoder')"
      ],
      "execution_count": 0,
      "outputs": []
    },
    {
      "cell_type": "markdown",
      "metadata": {
        "id": "6ct641mw54k9",
        "colab_type": "text"
      },
      "source": [
        "Print a summary and save the encoder network structure to \"./decoder.jpg\""
      ]
    },
    {
      "cell_type": "code",
      "metadata": {
        "id": "H89HdpXE54lA",
        "colab_type": "code",
        "colab": {
          "base_uri": "https://localhost:8080/",
          "height": 384
        },
        "outputId": "838aa1f2-9819-444d-9726-f5ead179e215"
      },
      "source": [
        "from IPython.display import SVG\n",
        "from tensorflow.keras.utils import model_to_dot, plot_model\n",
        "\n",
        "SVG(model_to_dot(fr_decoder_model, show_shapes=False).create(prog='dot', format='svg'))\n",
        "\n",
        "plot_model(\n",
        "    model=fr_decoder_model, show_shapes=False,\n",
        "    to_file='fr_decoder.jpg'\n",
        ")\n",
        "\n",
        "fr_decoder_model.summary()"
      ],
      "execution_count": 16,
      "outputs": [
        {
          "output_type": "stream",
          "text": [
            "Model: \"fr_decoder\"\n",
            "__________________________________________________________________________________________________\n",
            "Layer (type)                    Output Shape         Param #     Connected to                     \n",
            "==================================================================================================\n",
            "decoder_input_fr (InputLayer)   [(None, None, 30)]   0                                            \n",
            "__________________________________________________________________________________________________\n",
            "decoder_input_h (InputLayer)    [(None, 512)]        0                                            \n",
            "__________________________________________________________________________________________________\n",
            "decoder_input_c (InputLayer)    [(None, 512)]        0                                            \n",
            "__________________________________________________________________________________________________\n",
            "fr_decoder_lstm (LSTM)          [(None, None, 512),  1112064     decoder_input_fr[0][0]           \n",
            "                                                                 decoder_input_h[0][0]            \n",
            "                                                                 decoder_input_c[0][0]            \n",
            "__________________________________________________________________________________________________\n",
            "fr_decoder_dense (Dense)        (None, None, 30)     15390       fr_decoder_lstm[0][0]            \n",
            "==================================================================================================\n",
            "Total params: 1,127,454\n",
            "Trainable params: 1,127,454\n",
            "Non-trainable params: 0\n",
            "__________________________________________________________________________________________________\n"
          ],
          "name": "stdout"
        }
      ]
    },
    {
      "cell_type": "code",
      "metadata": {
        "id": "7UICdEn754lL",
        "colab_type": "code",
        "colab": {}
      },
      "source": [
        "#Spanish Decoder\n",
        "from tensorflow.keras.layers import Input, LSTM, Dense, Bidirectional, Concatenate\n",
        "from tensorflow.keras.models import Model\n",
        "\n",
        "# inputs of the decoder network\n",
        "decoder_input_h = Input(shape=(2*latent_dim,), name='decoder_input_h')\n",
        "decoder_input_c = Input(shape=(2*latent_dim,), name='decoder_input_c')\n",
        "decoder_input_sp = Input(shape=(None, num_sp_decoder_tokens), name='decoder_input_sp')\n",
        "\n",
        "# set the LSTM layer\n",
        "sp_decoder_lstm = LSTM(2*latent_dim, return_sequences=True, \n",
        "                    return_state=True, dropout=0.5, name='sp_decoder_lstm')\n",
        "sp_decoder_lstm_outputs, state_h, state_c = sp_decoder_lstm(decoder_input_sp, \n",
        "                                                      initial_state=[decoder_input_h, decoder_input_c])\n",
        "#decoder_bilstm = Bidirectional(LSTM(latent_dim, return_sequences=True, \n",
        "#                    return_state=True, dropout=0.5, name='decoder_bilstm'))\n",
        "#decoder_bilstm_outputs, forward_h, forward_c, backward_h, backward_c = decoder_bilstm(decoder_input_x, \n",
        "#                                                      initial_state=[decoder_input_h, decoder_input_c])\n",
        "\n",
        "#Concatenate forward and backward states\n",
        "#state_h = Concatenate()([forward_h, backward_h])\n",
        "#state_c = Concatenate()([forward_c, backward_c])\n",
        "\n",
        "# set the dense layer\n",
        "sp_decoder_dense = Dense(num_sp_decoder_tokens, activation='softmax', name='sp_decoder_dense')\n",
        "sp_decoder_outputs = fr_decoder_dense(sp_decoder_lstm_outputs)\n",
        "\n",
        "# build the decoder network model\n",
        "sp_decoder_model = Model(inputs=[decoder_input_sp, decoder_input_h, decoder_input_c],\n",
        "                      outputs=[sp_decoder_outputs, state_h, state_c],\n",
        "                      name='sp_decoder')"
      ],
      "execution_count": 0,
      "outputs": []
    },
    {
      "cell_type": "markdown",
      "metadata": {
        "id": "StrIV-Bx54lR",
        "colab_type": "text"
      },
      "source": [
        "Print a summary and save the encoder network structure to \"./decoder.jpg\""
      ]
    },
    {
      "cell_type": "code",
      "metadata": {
        "id": "kK6twmIM54lT",
        "colab_type": "code",
        "colab": {
          "base_uri": "https://localhost:8080/",
          "height": 384
        },
        "outputId": "ceff192a-ba15-4595-d9dd-9c5c823d303b"
      },
      "source": [
        "from IPython.display import SVG\n",
        "from tensorflow.keras.utils import model_to_dot, plot_model\n",
        "\n",
        "SVG(model_to_dot(sp_decoder_model, show_shapes=False).create(prog='dot', format='svg'))\n",
        "\n",
        "plot_model(\n",
        "    model=sp_decoder_model, show_shapes=False,\n",
        "    to_file='sp_decoder.jpg'\n",
        ")\n",
        "\n",
        "sp_decoder_model.summary()"
      ],
      "execution_count": 18,
      "outputs": [
        {
          "output_type": "stream",
          "text": [
            "Model: \"sp_decoder\"\n",
            "__________________________________________________________________________________________________\n",
            "Layer (type)                    Output Shape         Param #     Connected to                     \n",
            "==================================================================================================\n",
            "decoder_input_sp (InputLayer)   [(None, None, 30)]   0                                            \n",
            "__________________________________________________________________________________________________\n",
            "decoder_input_h (InputLayer)    [(None, 512)]        0                                            \n",
            "__________________________________________________________________________________________________\n",
            "decoder_input_c (InputLayer)    [(None, 512)]        0                                            \n",
            "__________________________________________________________________________________________________\n",
            "sp_decoder_lstm (LSTM)          [(None, None, 512),  1112064     decoder_input_sp[0][0]           \n",
            "                                                                 decoder_input_h[0][0]            \n",
            "                                                                 decoder_input_c[0][0]            \n",
            "__________________________________________________________________________________________________\n",
            "fr_decoder_dense (Dense)        (None, None, 30)     15390       sp_decoder_lstm[0][0]            \n",
            "==================================================================================================\n",
            "Total params: 1,127,454\n",
            "Trainable params: 1,127,454\n",
            "Non-trainable params: 0\n",
            "__________________________________________________________________________________________________\n"
          ],
          "name": "stdout"
        }
      ]
    },
    {
      "cell_type": "markdown",
      "metadata": {
        "id": "6UNAi8XB54lZ",
        "colab_type": "text"
      },
      "source": [
        "### 3.3. Connect the encoder and decoder"
      ]
    },
    {
      "cell_type": "code",
      "metadata": {
        "id": "Vj-7-QWk54la",
        "colab_type": "code",
        "colab": {}
      },
      "source": [
        "# input layers\n",
        "encoder_input_fr = Input(shape=(None, num_encoder_tokens), name='encoder_input_fr')\n",
        "encoder_input_sp = Input(shape=(None, num_encoder_tokens), name='encoder_input_sp')\n",
        "decoder_input_fr = Input(shape=(None, num_fr_decoder_tokens), name='decoder_input_fr')\n",
        "decoder_input_sp = Input(shape=(None, num_sp_decoder_tokens), name='decoder_input_sp')\n",
        "\n",
        "# connect encoder to decoder\n",
        "encoder_final_states = encoder_model([encoder_input_fr, encoder_input_sp])\n",
        "fr_decoder_lstm_output, _, _ = fr_decoder_lstm(decoder_input_fr, initial_state=encoder_final_states)\n",
        "fr_decoder_pred = fr_decoder_dense(fr_decoder_lstm_output)\n",
        "sp_decoder_lstm_output, _, _ = sp_decoder_lstm(decoder_input_sp, initial_state=encoder_final_states)\n",
        "sp_decoder_pred = sp_decoder_dense(sp_decoder_lstm_output)\n",
        "\n",
        "model = Model(inputs=[encoder_input_fr, encoder_input_sp, decoder_input_fr, decoder_input_sp], \n",
        "              outputs=[fr_decoder_pred, sp_decoder_pred], \n",
        "              name='model_training')"
      ],
      "execution_count": 0,
      "outputs": []
    },
    {
      "cell_type": "code",
      "metadata": {
        "id": "_D6dsS5_54le",
        "colab_type": "code",
        "colab": {
          "base_uri": "https://localhost:8080/",
          "height": 54
        },
        "outputId": "48cb649d-e7f3-4688-bffe-f327f5089481"
      },
      "source": [
        "print(state_h)\n",
        "print(decoder_input_h)"
      ],
      "execution_count": 20,
      "outputs": [
        {
          "output_type": "stream",
          "text": [
            "Tensor(\"sp_decoder_lstm/while/Exit_2:0\", shape=(?, 512), dtype=float32)\n",
            "Tensor(\"decoder_input_h_1:0\", shape=(?, 512), dtype=float32)\n"
          ],
          "name": "stdout"
        }
      ]
    },
    {
      "cell_type": "code",
      "metadata": {
        "id": "oNMEJEKZ54lj",
        "colab_type": "code",
        "colab": {
          "base_uri": "https://localhost:8080/",
          "height": 586
        },
        "outputId": "978936e2-9fa4-46cb-e438-851c20d1f7ab"
      },
      "source": [
        "from IPython.display import SVG\n",
        "from tensorflow.keras.utils import model_to_dot, plot_model\n",
        "\n",
        "SVG(model_to_dot(model, show_shapes=False).create(prog='dot', format='svg'))\n",
        "\n",
        "plot_model(\n",
        "    model=model, show_shapes=False,\n",
        "    to_file='model_training.jpg'\n",
        ")\n",
        "\n",
        "model.summary()"
      ],
      "execution_count": 21,
      "outputs": [
        {
          "output_type": "stream",
          "text": [
            "Model: \"model_training\"\n",
            "__________________________________________________________________________________________________\n",
            "Layer (type)                    Output Shape         Param #     Connected to                     \n",
            "==================================================================================================\n",
            "encoder_input_fr (InputLayer)   [(None, None, 28)]   0                                            \n",
            "__________________________________________________________________________________________________\n",
            "encoder_input_sp (InputLayer)   [(None, None, 28)]   0                                            \n",
            "__________________________________________________________________________________________________\n",
            "decoder_input_fr (InputLayer)   [(None, None, 30)]   0                                            \n",
            "__________________________________________________________________________________________________\n",
            "encoder (Model)                 [(None, 512), (None, 583680      encoder_input_fr[0][0]           \n",
            "                                                                 encoder_input_sp[0][0]           \n",
            "__________________________________________________________________________________________________\n",
            "decoder_input_sp (InputLayer)   [(None, None, 30)]   0                                            \n",
            "__________________________________________________________________________________________________\n",
            "fr_decoder_lstm (LSTM)          [(None, None, 512),  1112064     decoder_input_fr[0][0]           \n",
            "                                                                 encoder[1][0]                    \n",
            "                                                                 encoder[1][1]                    \n",
            "__________________________________________________________________________________________________\n",
            "sp_decoder_lstm (LSTM)          [(None, None, 512),  1112064     decoder_input_sp[0][0]           \n",
            "                                                                 encoder[1][0]                    \n",
            "                                                                 encoder[1][1]                    \n",
            "__________________________________________________________________________________________________\n",
            "fr_decoder_dense (Dense)        (None, None, 30)     15390       fr_decoder_lstm[1][0]            \n",
            "__________________________________________________________________________________________________\n",
            "sp_decoder_dense (Dense)        (None, None, 30)     15390       sp_decoder_lstm[1][0]            \n",
            "==================================================================================================\n",
            "Total params: 2,838,588\n",
            "Trainable params: 2,838,588\n",
            "Non-trainable params: 0\n",
            "__________________________________________________________________________________________________\n"
          ],
          "name": "stdout"
        }
      ]
    },
    {
      "cell_type": "markdown",
      "metadata": {
        "id": "fslh7olF54lr",
        "colab_type": "text"
      },
      "source": [
        "### 3.5. Fit the model on the bilingual dataset\n",
        "\n",
        "- encoder_input_data: one-hot encode of the input language\n",
        "\n",
        "- decoder_input_data: one-hot encode of the input language\n",
        "\n",
        "- decoder_target_data: labels (left shift of decoder_input_data)\n",
        "\n",
        "- tune the hyper-parameters\n",
        "\n",
        "- stop when the validation loss stop decreasing."
      ]
    },
    {
      "cell_type": "code",
      "metadata": {
        "id": "O0I3lFQ254lv",
        "colab_type": "code",
        "colab": {
          "base_uri": "https://localhost:8080/",
          "height": 109
        },
        "outputId": "66a1c4da-8be3-4b83-c738-76cff81b59a8"
      },
      "source": [
        "print('shape of encoder_input_data' + str(encoder_input_data.shape))\n",
        "print('shape of fr_decoder_input_data' + str(fr_decoder_input_data.shape))\n",
        "print('shape of fr_decoder_target_data' + str(fr_decoder_target_data.shape))\n",
        "print('shape of sp_decoder_input_data' + str(sp_decoder_input_data.shape))\n",
        "print('shape of sp_decoder_target_data' + str(sp_decoder_target_data.shape))"
      ],
      "execution_count": 22,
      "outputs": [
        {
          "output_type": "stream",
          "text": [
            "shape of encoder_input_data(200000, 41, 28)\n",
            "shape of fr_decoder_input_data(100000, 72, 30)\n",
            "shape of fr_decoder_target_data(100000, 72, 30)\n",
            "shape of sp_decoder_input_data(100000, 75, 30)\n",
            "shape of sp_decoder_target_data(100000, 75, 30)\n"
          ],
          "name": "stdout"
        }
      ]
    },
    {
      "cell_type": "code",
      "metadata": {
        "id": "29nuA_g454l2",
        "colab_type": "code",
        "colab": {
          "base_uri": "https://localhost:8080/",
          "height": 1000
        },
        "outputId": "efa5e747-bb49-4018-b347-c60c67bf37b3"
      },
      "source": [
        "model.compile(optimizer='rmsprop', loss='categorical_crossentropy')\n",
        "\n",
        "model.fit([encoder_input_data[0:n_train], encoder_input_data[n_train:], fr_decoder_input_data, sp_decoder_input_data],  # training data\n",
        "          [fr_decoder_target_data, sp_decoder_target_data],                    # labels (left shift of the target sequences)\n",
        "          batch_size=64, epochs=50, validation_split=0.2)\n",
        "\n",
        "model.save('drive/My Drive/CS 583/seq2seq.h5')"
      ],
      "execution_count": 24,
      "outputs": [
        {
          "output_type": "stream",
          "text": [
            "Train on 80000 samples, validate on 20000 samples\n",
            "Epoch 1/50\n",
            "80000/80000 [==============================] - 440s 5ms/sample - loss: 1.3239 - fr_decoder_dense_loss: 0.6505 - sp_decoder_dense_loss: 0.6734 - val_loss: 1.5392 - val_fr_decoder_dense_loss: 0.6855 - val_sp_decoder_dense_loss: 0.8539\n",
            "Epoch 2/50\n",
            "80000/80000 [==============================] - 427s 5ms/sample - loss: 1.0766 - fr_decoder_dense_loss: 0.5096 - sp_decoder_dense_loss: 0.5671 - val_loss: 1.4066 - val_fr_decoder_dense_loss: 0.6135 - val_sp_decoder_dense_loss: 0.7931\n",
            "Epoch 3/50\n",
            "80000/80000 [==============================] - 421s 5ms/sample - loss: 0.9568 - fr_decoder_dense_loss: 0.4438 - sp_decoder_dense_loss: 0.5130 - val_loss: 1.2133 - val_fr_decoder_dense_loss: 0.5164 - val_sp_decoder_dense_loss: 0.6969\n",
            "Epoch 4/50\n",
            "80000/80000 [==============================] - 419s 5ms/sample - loss: 0.8818 - fr_decoder_dense_loss: 0.4008 - sp_decoder_dense_loss: 0.4810 - val_loss: 1.1386 - val_fr_decoder_dense_loss: 0.4760 - val_sp_decoder_dense_loss: 0.6626\n",
            "Epoch 5/50\n",
            "80000/80000 [==============================] - 417s 5ms/sample - loss: 0.8309 - fr_decoder_dense_loss: 0.3712 - sp_decoder_dense_loss: 0.4598 - val_loss: 1.0888 - val_fr_decoder_dense_loss: 0.4513 - val_sp_decoder_dense_loss: 0.6376\n",
            "Epoch 6/50\n",
            "80000/80000 [==============================] - 414s 5ms/sample - loss: 0.7942 - fr_decoder_dense_loss: 0.3497 - sp_decoder_dense_loss: 0.4445 - val_loss: 1.0511 - val_fr_decoder_dense_loss: 0.4296 - val_sp_decoder_dense_loss: 0.6214\n",
            "Epoch 7/50\n",
            "80000/80000 [==============================] - 419s 5ms/sample - loss: 0.7661 - fr_decoder_dense_loss: 0.3332 - sp_decoder_dense_loss: 0.4329 - val_loss: 1.0205 - val_fr_decoder_dense_loss: 0.4125 - val_sp_decoder_dense_loss: 0.6082\n",
            "Epoch 8/50\n",
            "80000/80000 [==============================] - 412s 5ms/sample - loss: 0.7438 - fr_decoder_dense_loss: 0.3197 - sp_decoder_dense_loss: 0.4241 - val_loss: 1.0013 - val_fr_decoder_dense_loss: 0.4023 - val_sp_decoder_dense_loss: 0.5991\n",
            "Epoch 9/50\n",
            "80000/80000 [==============================] - 408s 5ms/sample - loss: 0.7253 - fr_decoder_dense_loss: 0.3088 - sp_decoder_dense_loss: 0.4165 - val_loss: 0.9837 - val_fr_decoder_dense_loss: 0.3919 - val_sp_decoder_dense_loss: 0.5916\n",
            "Epoch 10/50\n",
            "80000/80000 [==============================] - 408s 5ms/sample - loss: 0.7088 - fr_decoder_dense_loss: 0.2988 - sp_decoder_dense_loss: 0.4100 - val_loss: 0.9734 - val_fr_decoder_dense_loss: 0.3854 - val_sp_decoder_dense_loss: 0.5880\n",
            "Epoch 11/50\n",
            "80000/80000 [==============================] - 407s 5ms/sample - loss: 0.6951 - fr_decoder_dense_loss: 0.2903 - sp_decoder_dense_loss: 0.4048 - val_loss: 0.9610 - val_fr_decoder_dense_loss: 0.3789 - val_sp_decoder_dense_loss: 0.5821\n",
            "Epoch 12/50\n",
            "80000/80000 [==============================] - 407s 5ms/sample - loss: 0.6831 - fr_decoder_dense_loss: 0.2829 - sp_decoder_dense_loss: 0.4001 - val_loss: 0.9493 - val_fr_decoder_dense_loss: 0.3732 - val_sp_decoder_dense_loss: 0.5761\n",
            "Epoch 13/50\n",
            "80000/80000 [==============================] - 407s 5ms/sample - loss: 0.6719 - fr_decoder_dense_loss: 0.2764 - sp_decoder_dense_loss: 0.3955 - val_loss: 0.9449 - val_fr_decoder_dense_loss: 0.3707 - val_sp_decoder_dense_loss: 0.5742\n",
            "Epoch 14/50\n",
            "80000/80000 [==============================] - 408s 5ms/sample - loss: 0.6620 - fr_decoder_dense_loss: 0.2704 - sp_decoder_dense_loss: 0.3917 - val_loss: 0.9411 - val_fr_decoder_dense_loss: 0.3697 - val_sp_decoder_dense_loss: 0.5717\n",
            "Epoch 15/50\n",
            "80000/80000 [==============================] - 407s 5ms/sample - loss: 0.6540 - fr_decoder_dense_loss: 0.2656 - sp_decoder_dense_loss: 0.3884 - val_loss: 0.9314 - val_fr_decoder_dense_loss: 0.3605 - val_sp_decoder_dense_loss: 0.5709\n",
            "Epoch 16/50\n",
            "80000/80000 [==============================] - 406s 5ms/sample - loss: 0.6460 - fr_decoder_dense_loss: 0.2607 - sp_decoder_dense_loss: 0.3853 - val_loss: 0.9246 - val_fr_decoder_dense_loss: 0.3573 - val_sp_decoder_dense_loss: 0.5673\n",
            "Epoch 17/50\n",
            "80000/80000 [==============================] - 406s 5ms/sample - loss: 0.6387 - fr_decoder_dense_loss: 0.2561 - sp_decoder_dense_loss: 0.3826 - val_loss: 0.9183 - val_fr_decoder_dense_loss: 0.3545 - val_sp_decoder_dense_loss: 0.5639\n",
            "Epoch 18/50\n",
            "80000/80000 [==============================] - 406s 5ms/sample - loss: 0.6313 - fr_decoder_dense_loss: 0.2517 - sp_decoder_dense_loss: 0.3795 - val_loss: 0.9167 - val_fr_decoder_dense_loss: 0.3522 - val_sp_decoder_dense_loss: 0.5643\n",
            "Epoch 19/50\n",
            "80000/80000 [==============================] - 405s 5ms/sample - loss: 0.6250 - fr_decoder_dense_loss: 0.2477 - sp_decoder_dense_loss: 0.3773 - val_loss: 0.9130 - val_fr_decoder_dense_loss: 0.3502 - val_sp_decoder_dense_loss: 0.5628\n",
            "Epoch 20/50\n",
            "80000/80000 [==============================] - 405s 5ms/sample - loss: 0.6196 - fr_decoder_dense_loss: 0.2442 - sp_decoder_dense_loss: 0.3754 - val_loss: 0.9074 - val_fr_decoder_dense_loss: 0.3458 - val_sp_decoder_dense_loss: 0.5616\n",
            "Epoch 21/50\n",
            "80000/80000 [==============================] - 405s 5ms/sample - loss: 0.6144 - fr_decoder_dense_loss: 0.2411 - sp_decoder_dense_loss: 0.3733 - val_loss: 0.9078 - val_fr_decoder_dense_loss: 0.3471 - val_sp_decoder_dense_loss: 0.5606\n",
            "Epoch 22/50\n",
            "80000/80000 [==============================] - 405s 5ms/sample - loss: 0.6093 - fr_decoder_dense_loss: 0.2380 - sp_decoder_dense_loss: 0.3713 - val_loss: 0.9030 - val_fr_decoder_dense_loss: 0.3433 - val_sp_decoder_dense_loss: 0.5597\n",
            "Epoch 23/50\n",
            "80000/80000 [==============================] - 405s 5ms/sample - loss: 0.6037 - fr_decoder_dense_loss: 0.2345 - sp_decoder_dense_loss: 0.3692 - val_loss: 0.9008 - val_fr_decoder_dense_loss: 0.3415 - val_sp_decoder_dense_loss: 0.5592\n",
            "Epoch 24/50\n",
            "80000/80000 [==============================] - 405s 5ms/sample - loss: 0.6009 - fr_decoder_dense_loss: 0.2330 - sp_decoder_dense_loss: 0.3678 - val_loss: 0.8980 - val_fr_decoder_dense_loss: 0.3400 - val_sp_decoder_dense_loss: 0.5581\n",
            "Epoch 25/50\n",
            "80000/80000 [==============================] - 406s 5ms/sample - loss: 0.5947 - fr_decoder_dense_loss: 0.2292 - sp_decoder_dense_loss: 0.3654 - val_loss: 0.9004 - val_fr_decoder_dense_loss: 0.3397 - val_sp_decoder_dense_loss: 0.5608\n",
            "Epoch 26/50\n",
            "80000/80000 [==============================] - 406s 5ms/sample - loss: 0.5907 - fr_decoder_dense_loss: 0.2265 - sp_decoder_dense_loss: 0.3642 - val_loss: 0.8977 - val_fr_decoder_dense_loss: 0.3401 - val_sp_decoder_dense_loss: 0.5577\n",
            "Epoch 27/50\n",
            "80000/80000 [==============================] - 405s 5ms/sample - loss: 0.5902 - fr_decoder_dense_loss: 0.2265 - sp_decoder_dense_loss: 0.3637 - val_loss: 0.8919 - val_fr_decoder_dense_loss: 0.3353 - val_sp_decoder_dense_loss: 0.5565\n",
            "Epoch 28/50\n",
            "80000/80000 [==============================] - 405s 5ms/sample - loss: 0.5831 - fr_decoder_dense_loss: 0.2224 - sp_decoder_dense_loss: 0.3607 - val_loss: 0.8931 - val_fr_decoder_dense_loss: 0.3363 - val_sp_decoder_dense_loss: 0.5569\n",
            "Epoch 29/50\n",
            "80000/80000 [==============================] - 405s 5ms/sample - loss: 0.5796 - fr_decoder_dense_loss: 0.2198 - sp_decoder_dense_loss: 0.3598 - val_loss: 0.8931 - val_fr_decoder_dense_loss: 0.3354 - val_sp_decoder_dense_loss: 0.5576\n",
            "Epoch 30/50\n",
            "80000/80000 [==============================] - 405s 5ms/sample - loss: 0.5762 - fr_decoder_dense_loss: 0.2178 - sp_decoder_dense_loss: 0.3585 - val_loss: 0.8913 - val_fr_decoder_dense_loss: 0.3351 - val_sp_decoder_dense_loss: 0.5563\n",
            "Epoch 31/50\n",
            "80000/80000 [==============================] - 404s 5ms/sample - loss: 0.5729 - fr_decoder_dense_loss: 0.2158 - sp_decoder_dense_loss: 0.3571 - val_loss: 0.8906 - val_fr_decoder_dense_loss: 0.3338 - val_sp_decoder_dense_loss: 0.5569\n",
            "Epoch 32/50\n",
            "80000/80000 [==============================] - 406s 5ms/sample - loss: 0.5693 - fr_decoder_dense_loss: 0.2136 - sp_decoder_dense_loss: 0.3557 - val_loss: 0.8898 - val_fr_decoder_dense_loss: 0.3340 - val_sp_decoder_dense_loss: 0.5561\n",
            "Epoch 33/50\n",
            "80000/80000 [==============================] - 406s 5ms/sample - loss: 0.5667 - fr_decoder_dense_loss: 0.2121 - sp_decoder_dense_loss: 0.3546 - val_loss: 0.8884 - val_fr_decoder_dense_loss: 0.3333 - val_sp_decoder_dense_loss: 0.5551\n",
            "Epoch 34/50\n",
            "80000/80000 [==============================] - 405s 5ms/sample - loss: 0.5635 - fr_decoder_dense_loss: 0.2103 - sp_decoder_dense_loss: 0.3532 - val_loss: 0.8863 - val_fr_decoder_dense_loss: 0.3309 - val_sp_decoder_dense_loss: 0.5554\n",
            "Epoch 35/50\n",
            "80000/80000 [==============================] - 405s 5ms/sample - loss: 0.5612 - fr_decoder_dense_loss: 0.2087 - sp_decoder_dense_loss: 0.3525 - val_loss: 0.8861 - val_fr_decoder_dense_loss: 0.3306 - val_sp_decoder_dense_loss: 0.5556\n",
            "Epoch 36/50\n",
            "80000/80000 [==============================] - 408s 5ms/sample - loss: 0.5581 - fr_decoder_dense_loss: 0.2069 - sp_decoder_dense_loss: 0.3512 - val_loss: 0.8898 - val_fr_decoder_dense_loss: 0.3315 - val_sp_decoder_dense_loss: 0.5582\n",
            "Epoch 37/50\n",
            "80000/80000 [==============================] - 407s 5ms/sample - loss: 0.5555 - fr_decoder_dense_loss: 0.2053 - sp_decoder_dense_loss: 0.3502 - val_loss: 0.8930 - val_fr_decoder_dense_loss: 0.3322 - val_sp_decoder_dense_loss: 0.5608\n",
            "Epoch 38/50\n",
            "80000/80000 [==============================] - 407s 5ms/sample - loss: 0.5529 - fr_decoder_dense_loss: 0.2034 - sp_decoder_dense_loss: 0.3495 - val_loss: 0.8901 - val_fr_decoder_dense_loss: 0.3318 - val_sp_decoder_dense_loss: 0.5582\n",
            "Epoch 39/50\n",
            "80000/80000 [==============================] - 408s 5ms/sample - loss: 0.5507 - fr_decoder_dense_loss: 0.2024 - sp_decoder_dense_loss: 0.3483 - val_loss: 0.8900 - val_fr_decoder_dense_loss: 0.3298 - val_sp_decoder_dense_loss: 0.5603\n",
            "Epoch 40/50\n",
            "80000/80000 [==============================] - 408s 5ms/sample - loss: 0.5482 - fr_decoder_dense_loss: 0.2010 - sp_decoder_dense_loss: 0.3473 - val_loss: 0.8905 - val_fr_decoder_dense_loss: 0.3311 - val_sp_decoder_dense_loss: 0.5594\n",
            "Epoch 41/50\n",
            "80000/80000 [==============================] - 408s 5ms/sample - loss: 0.5461 - fr_decoder_dense_loss: 0.1995 - sp_decoder_dense_loss: 0.3466 - val_loss: 0.8893 - val_fr_decoder_dense_loss: 0.3314 - val_sp_decoder_dense_loss: 0.5578\n",
            "Epoch 42/50\n",
            "80000/80000 [==============================] - 408s 5ms/sample - loss: 0.5438 - fr_decoder_dense_loss: 0.1982 - sp_decoder_dense_loss: 0.3456 - val_loss: 0.8860 - val_fr_decoder_dense_loss: 0.3276 - val_sp_decoder_dense_loss: 0.5582\n",
            "Epoch 43/50\n",
            "80000/80000 [==============================] - 408s 5ms/sample - loss: 0.5418 - fr_decoder_dense_loss: 0.1968 - sp_decoder_dense_loss: 0.3450 - val_loss: 0.8871 - val_fr_decoder_dense_loss: 0.3298 - val_sp_decoder_dense_loss: 0.5573\n",
            "Epoch 44/50\n",
            "80000/80000 [==============================] - 407s 5ms/sample - loss: 0.5391 - fr_decoder_dense_loss: 0.1953 - sp_decoder_dense_loss: 0.3438 - val_loss: 0.8881 - val_fr_decoder_dense_loss: 0.3303 - val_sp_decoder_dense_loss: 0.5580\n",
            "Epoch 45/50\n",
            "80000/80000 [==============================] - 406s 5ms/sample - loss: 0.5375 - fr_decoder_dense_loss: 0.1941 - sp_decoder_dense_loss: 0.3435 - val_loss: 0.8850 - val_fr_decoder_dense_loss: 0.3296 - val_sp_decoder_dense_loss: 0.5556\n",
            "Epoch 46/50\n",
            "80000/80000 [==============================] - 406s 5ms/sample - loss: 0.5355 - fr_decoder_dense_loss: 0.1935 - sp_decoder_dense_loss: 0.3419 - val_loss: 0.8928 - val_fr_decoder_dense_loss: 0.3360 - val_sp_decoder_dense_loss: 0.5568\n",
            "Epoch 47/50\n",
            "80000/80000 [==============================] - 406s 5ms/sample - loss: 0.5338 - fr_decoder_dense_loss: 0.1923 - sp_decoder_dense_loss: 0.3415 - val_loss: 0.8869 - val_fr_decoder_dense_loss: 0.3301 - val_sp_decoder_dense_loss: 0.5569\n",
            "Epoch 48/50\n",
            "80000/80000 [==============================] - 408s 5ms/sample - loss: 0.5321 - fr_decoder_dense_loss: 0.1912 - sp_decoder_dense_loss: 0.3409 - val_loss: 0.8884 - val_fr_decoder_dense_loss: 0.3290 - val_sp_decoder_dense_loss: 0.5594\n",
            "Epoch 49/50\n",
            "80000/80000 [==============================] - 406s 5ms/sample - loss: 0.5299 - fr_decoder_dense_loss: 0.1901 - sp_decoder_dense_loss: 0.3398 - val_loss: 0.8860 - val_fr_decoder_dense_loss: 0.3268 - val_sp_decoder_dense_loss: 0.5591\n",
            "Epoch 50/50\n",
            "80000/80000 [==============================] - 407s 5ms/sample - loss: 0.5277 - fr_decoder_dense_loss: 0.1887 - sp_decoder_dense_loss: 0.3390 - val_loss: 0.8894 - val_fr_decoder_dense_loss: 0.3295 - val_sp_decoder_dense_loss: 0.5599\n"
          ],
          "name": "stdout"
        }
      ]
    },
    {
      "cell_type": "markdown",
      "metadata": {
        "id": "PTD2utmB54l9",
        "colab_type": "text"
      },
      "source": [
        "## 4. Make predictions\n",
        "\n",
        "\n",
        "### 4.1. Translate English to French and Spanish\n",
        "\n",
        "1. Encoder read a sentence (source language) and output its final states, $h_t$ and $c_t$.\n",
        "2. Take the [star] sign \"\\t\" and the final state $h_t$ and $c_t$ as input and run the decoder.\n",
        "3. Get the new states and predicted probability distribution.\n",
        "4. sample a char from the predicted probability distribution\n",
        "5. take the sampled char and the new states as input and repeat the process (stop if reach the [stop] sign \"\\n\")."
      ]
    },
    {
      "cell_type": "code",
      "metadata": {
        "id": "IT5F6l6GwCWR",
        "colab_type": "code",
        "colab": {
          "base_uri": "https://localhost:8080/",
          "height": 362
        },
        "outputId": "195d8bd7-a02f-40d2-8fa2-2f86a5bf590a"
      },
      "source": [
        "from keras.models import load_model\n",
        "\n",
        "#Load previously trained model\n",
        "model = load_model('drive/My Drive/CS 583/seq2seq.h5')"
      ],
      "execution_count": 16,
      "outputs": [
        {
          "output_type": "error",
          "ename": "TypeError",
          "evalue": "ignored",
          "traceback": [
            "\u001b[0;31m---------------------------------------------------------------------------\u001b[0m",
            "\u001b[0;31mTypeError\u001b[0m                                 Traceback (most recent call last)",
            "\u001b[0;32m<ipython-input-16-cc81a7592209>\u001b[0m in \u001b[0;36m<module>\u001b[0;34m()\u001b[0m\n\u001b[1;32m      2\u001b[0m \u001b[0;34m\u001b[0m\u001b[0m\n\u001b[1;32m      3\u001b[0m \u001b[0;31m#Load previously trained model\u001b[0m\u001b[0;34m\u001b[0m\u001b[0;34m\u001b[0m\u001b[0;34m\u001b[0m\u001b[0m\n\u001b[0;32m----> 4\u001b[0;31m \u001b[0mmodel\u001b[0m \u001b[0;34m=\u001b[0m \u001b[0mload_model\u001b[0m\u001b[0;34m(\u001b[0m\u001b[0;34m'drive/My Drive/CS 583/seq2seq.h5'\u001b[0m\u001b[0;34m)\u001b[0m\u001b[0;34m\u001b[0m\u001b[0;34m\u001b[0m\u001b[0m\n\u001b[0m",
            "\u001b[0;32m/usr/local/lib/python3.6/dist-packages/keras/engine/saving.py\u001b[0m in \u001b[0;36mload_wrapper\u001b[0;34m(*args, **kwargs)\u001b[0m\n\u001b[1;32m    456\u001b[0m                 \u001b[0mos\u001b[0m\u001b[0;34m.\u001b[0m\u001b[0mremove\u001b[0m\u001b[0;34m(\u001b[0m\u001b[0mtmp_filepath\u001b[0m\u001b[0;34m)\u001b[0m\u001b[0;34m\u001b[0m\u001b[0;34m\u001b[0m\u001b[0m\n\u001b[1;32m    457\u001b[0m             \u001b[0;32mreturn\u001b[0m \u001b[0mres\u001b[0m\u001b[0;34m\u001b[0m\u001b[0;34m\u001b[0m\u001b[0m\n\u001b[0;32m--> 458\u001b[0;31m         \u001b[0;32mreturn\u001b[0m \u001b[0mload_function\u001b[0m\u001b[0;34m(\u001b[0m\u001b[0;34m*\u001b[0m\u001b[0margs\u001b[0m\u001b[0;34m,\u001b[0m \u001b[0;34m**\u001b[0m\u001b[0mkwargs\u001b[0m\u001b[0;34m)\u001b[0m\u001b[0;34m\u001b[0m\u001b[0;34m\u001b[0m\u001b[0m\n\u001b[0m\u001b[1;32m    459\u001b[0m \u001b[0;34m\u001b[0m\u001b[0m\n\u001b[1;32m    460\u001b[0m     \u001b[0;32mreturn\u001b[0m \u001b[0mload_wrapper\u001b[0m\u001b[0;34m\u001b[0m\u001b[0;34m\u001b[0m\u001b[0m\n",
            "\u001b[0;32m/usr/local/lib/python3.6/dist-packages/keras/engine/saving.py\u001b[0m in \u001b[0;36mload_model\u001b[0;34m(filepath, custom_objects, compile)\u001b[0m\n\u001b[1;32m    548\u001b[0m     \u001b[0;32mif\u001b[0m \u001b[0mH5Dict\u001b[0m\u001b[0;34m.\u001b[0m\u001b[0mis_supported_type\u001b[0m\u001b[0;34m(\u001b[0m\u001b[0mfilepath\u001b[0m\u001b[0;34m)\u001b[0m\u001b[0;34m:\u001b[0m\u001b[0;34m\u001b[0m\u001b[0;34m\u001b[0m\u001b[0m\n\u001b[1;32m    549\u001b[0m         \u001b[0;32mwith\u001b[0m \u001b[0mH5Dict\u001b[0m\u001b[0;34m(\u001b[0m\u001b[0mfilepath\u001b[0m\u001b[0;34m,\u001b[0m \u001b[0mmode\u001b[0m\u001b[0;34m=\u001b[0m\u001b[0;34m'r'\u001b[0m\u001b[0;34m)\u001b[0m \u001b[0;32mas\u001b[0m \u001b[0mh5dict\u001b[0m\u001b[0;34m:\u001b[0m\u001b[0;34m\u001b[0m\u001b[0;34m\u001b[0m\u001b[0m\n\u001b[0;32m--> 550\u001b[0;31m             \u001b[0mmodel\u001b[0m \u001b[0;34m=\u001b[0m \u001b[0m_deserialize_model\u001b[0m\u001b[0;34m(\u001b[0m\u001b[0mh5dict\u001b[0m\u001b[0;34m,\u001b[0m \u001b[0mcustom_objects\u001b[0m\u001b[0;34m,\u001b[0m \u001b[0mcompile\u001b[0m\u001b[0;34m)\u001b[0m\u001b[0;34m\u001b[0m\u001b[0;34m\u001b[0m\u001b[0m\n\u001b[0m\u001b[1;32m    551\u001b[0m     \u001b[0;32melif\u001b[0m \u001b[0mhasattr\u001b[0m\u001b[0;34m(\u001b[0m\u001b[0mfilepath\u001b[0m\u001b[0;34m,\u001b[0m \u001b[0;34m'write'\u001b[0m\u001b[0;34m)\u001b[0m \u001b[0;32mand\u001b[0m \u001b[0mcallable\u001b[0m\u001b[0;34m(\u001b[0m\u001b[0mfilepath\u001b[0m\u001b[0;34m.\u001b[0m\u001b[0mwrite\u001b[0m\u001b[0;34m)\u001b[0m\u001b[0;34m:\u001b[0m\u001b[0;34m\u001b[0m\u001b[0;34m\u001b[0m\u001b[0m\n\u001b[1;32m    552\u001b[0m         \u001b[0;32mdef\u001b[0m \u001b[0mload_function\u001b[0m\u001b[0;34m(\u001b[0m\u001b[0mh5file\u001b[0m\u001b[0;34m)\u001b[0m\u001b[0;34m:\u001b[0m\u001b[0;34m\u001b[0m\u001b[0;34m\u001b[0m\u001b[0m\n",
            "\u001b[0;32m/usr/local/lib/python3.6/dist-packages/keras/engine/saving.py\u001b[0m in \u001b[0;36m_deserialize_model\u001b[0;34m(h5dict, custom_objects, compile)\u001b[0m\n\u001b[1;32m    241\u001b[0m         \u001b[0;32mraise\u001b[0m \u001b[0mValueError\u001b[0m\u001b[0;34m(\u001b[0m\u001b[0;34m'No model found in config.'\u001b[0m\u001b[0;34m)\u001b[0m\u001b[0;34m\u001b[0m\u001b[0;34m\u001b[0m\u001b[0m\n\u001b[1;32m    242\u001b[0m     \u001b[0mmodel_config\u001b[0m \u001b[0;34m=\u001b[0m \u001b[0mjson\u001b[0m\u001b[0;34m.\u001b[0m\u001b[0mloads\u001b[0m\u001b[0;34m(\u001b[0m\u001b[0mmodel_config\u001b[0m\u001b[0;34m.\u001b[0m\u001b[0mdecode\u001b[0m\u001b[0;34m(\u001b[0m\u001b[0;34m'utf-8'\u001b[0m\u001b[0;34m)\u001b[0m\u001b[0;34m)\u001b[0m\u001b[0;34m\u001b[0m\u001b[0;34m\u001b[0m\u001b[0m\n\u001b[0;32m--> 243\u001b[0;31m     \u001b[0mmodel\u001b[0m \u001b[0;34m=\u001b[0m \u001b[0mmodel_from_config\u001b[0m\u001b[0;34m(\u001b[0m\u001b[0mmodel_config\u001b[0m\u001b[0;34m,\u001b[0m \u001b[0mcustom_objects\u001b[0m\u001b[0;34m=\u001b[0m\u001b[0mcustom_objects\u001b[0m\u001b[0;34m)\u001b[0m\u001b[0;34m\u001b[0m\u001b[0;34m\u001b[0m\u001b[0m\n\u001b[0m\u001b[1;32m    244\u001b[0m     \u001b[0mmodel_weights_group\u001b[0m \u001b[0;34m=\u001b[0m \u001b[0mh5dict\u001b[0m\u001b[0;34m[\u001b[0m\u001b[0;34m'model_weights'\u001b[0m\u001b[0;34m]\u001b[0m\u001b[0;34m\u001b[0m\u001b[0;34m\u001b[0m\u001b[0m\n\u001b[1;32m    245\u001b[0m \u001b[0;34m\u001b[0m\u001b[0m\n",
            "\u001b[0;32m/usr/local/lib/python3.6/dist-packages/keras/engine/saving.py\u001b[0m in \u001b[0;36mmodel_from_config\u001b[0;34m(config, custom_objects)\u001b[0m\n\u001b[1;32m    591\u001b[0m                         '`Sequential.from_config(config)`?')\n\u001b[1;32m    592\u001b[0m     \u001b[0;32mfrom\u001b[0m \u001b[0;34m.\u001b[0m\u001b[0;34m.\u001b[0m\u001b[0mlayers\u001b[0m \u001b[0;32mimport\u001b[0m \u001b[0mdeserialize\u001b[0m\u001b[0;34m\u001b[0m\u001b[0;34m\u001b[0m\u001b[0m\n\u001b[0;32m--> 593\u001b[0;31m     \u001b[0;32mreturn\u001b[0m \u001b[0mdeserialize\u001b[0m\u001b[0;34m(\u001b[0m\u001b[0mconfig\u001b[0m\u001b[0;34m,\u001b[0m \u001b[0mcustom_objects\u001b[0m\u001b[0;34m=\u001b[0m\u001b[0mcustom_objects\u001b[0m\u001b[0;34m)\u001b[0m\u001b[0;34m\u001b[0m\u001b[0;34m\u001b[0m\u001b[0m\n\u001b[0m\u001b[1;32m    594\u001b[0m \u001b[0;34m\u001b[0m\u001b[0m\n\u001b[1;32m    595\u001b[0m \u001b[0;34m\u001b[0m\u001b[0m\n",
            "\u001b[0;32m/usr/local/lib/python3.6/dist-packages/keras/layers/__init__.py\u001b[0m in \u001b[0;36mdeserialize\u001b[0;34m(config, custom_objects)\u001b[0m\n\u001b[1;32m    166\u001b[0m                                     \u001b[0mmodule_objects\u001b[0m\u001b[0;34m=\u001b[0m\u001b[0mglobs\u001b[0m\u001b[0;34m,\u001b[0m\u001b[0;34m\u001b[0m\u001b[0;34m\u001b[0m\u001b[0m\n\u001b[1;32m    167\u001b[0m                                     \u001b[0mcustom_objects\u001b[0m\u001b[0;34m=\u001b[0m\u001b[0mcustom_objects\u001b[0m\u001b[0;34m,\u001b[0m\u001b[0;34m\u001b[0m\u001b[0;34m\u001b[0m\u001b[0m\n\u001b[0;32m--> 168\u001b[0;31m                                     printable_module_name='layer')\n\u001b[0m",
            "\u001b[0;32m/usr/local/lib/python3.6/dist-packages/keras/utils/generic_utils.py\u001b[0m in \u001b[0;36mdeserialize_keras_object\u001b[0;34m(identifier, module_objects, custom_objects, printable_module_name)\u001b[0m\n\u001b[1;32m    145\u001b[0m                     \u001b[0mconfig\u001b[0m\u001b[0;34m[\u001b[0m\u001b[0;34m'config'\u001b[0m\u001b[0;34m]\u001b[0m\u001b[0;34m,\u001b[0m\u001b[0;34m\u001b[0m\u001b[0;34m\u001b[0m\u001b[0m\n\u001b[1;32m    146\u001b[0m                     custom_objects=dict(list(_GLOBAL_CUSTOM_OBJECTS.items()) +\n\u001b[0;32m--> 147\u001b[0;31m                                         list(custom_objects.items())))\n\u001b[0m\u001b[1;32m    148\u001b[0m             \u001b[0;32mwith\u001b[0m \u001b[0mCustomObjectScope\u001b[0m\u001b[0;34m(\u001b[0m\u001b[0mcustom_objects\u001b[0m\u001b[0;34m)\u001b[0m\u001b[0;34m:\u001b[0m\u001b[0;34m\u001b[0m\u001b[0;34m\u001b[0m\u001b[0m\n\u001b[1;32m    149\u001b[0m                 \u001b[0;32mreturn\u001b[0m \u001b[0mcls\u001b[0m\u001b[0;34m.\u001b[0m\u001b[0mfrom_config\u001b[0m\u001b[0;34m(\u001b[0m\u001b[0mconfig\u001b[0m\u001b[0;34m[\u001b[0m\u001b[0;34m'config'\u001b[0m\u001b[0;34m]\u001b[0m\u001b[0;34m)\u001b[0m\u001b[0;34m\u001b[0m\u001b[0;34m\u001b[0m\u001b[0m\n",
            "\u001b[0;32m/usr/local/lib/python3.6/dist-packages/keras/engine/network.py\u001b[0m in \u001b[0;36mfrom_config\u001b[0;34m(cls, config, custom_objects)\u001b[0m\n\u001b[1;32m   1041\u001b[0m         \u001b[0;31m# First, we create all layers and enqueue nodes to be processed\u001b[0m\u001b[0;34m\u001b[0m\u001b[0;34m\u001b[0m\u001b[0;34m\u001b[0m\u001b[0m\n\u001b[1;32m   1042\u001b[0m         \u001b[0;32mfor\u001b[0m \u001b[0mlayer_data\u001b[0m \u001b[0;32min\u001b[0m \u001b[0mconfig\u001b[0m\u001b[0;34m[\u001b[0m\u001b[0;34m'layers'\u001b[0m\u001b[0;34m]\u001b[0m\u001b[0;34m:\u001b[0m\u001b[0;34m\u001b[0m\u001b[0;34m\u001b[0m\u001b[0m\n\u001b[0;32m-> 1043\u001b[0;31m             \u001b[0mprocess_layer\u001b[0m\u001b[0;34m(\u001b[0m\u001b[0mlayer_data\u001b[0m\u001b[0;34m)\u001b[0m\u001b[0;34m\u001b[0m\u001b[0;34m\u001b[0m\u001b[0m\n\u001b[0m\u001b[1;32m   1044\u001b[0m \u001b[0;34m\u001b[0m\u001b[0m\n\u001b[1;32m   1045\u001b[0m         \u001b[0;31m# Then we process nodes in order of layer depth.\u001b[0m\u001b[0;34m\u001b[0m\u001b[0;34m\u001b[0m\u001b[0;34m\u001b[0m\u001b[0m\n",
            "\u001b[0;32m/usr/local/lib/python3.6/dist-packages/keras/engine/network.py\u001b[0m in \u001b[0;36mprocess_layer\u001b[0;34m(layer_data)\u001b[0m\n\u001b[1;32m   1027\u001b[0m \u001b[0;34m\u001b[0m\u001b[0m\n\u001b[1;32m   1028\u001b[0m             layer = deserialize_layer(layer_data,\n\u001b[0;32m-> 1029\u001b[0;31m                                       custom_objects=custom_objects)\n\u001b[0m\u001b[1;32m   1030\u001b[0m             \u001b[0mcreated_layers\u001b[0m\u001b[0;34m[\u001b[0m\u001b[0mlayer_name\u001b[0m\u001b[0;34m]\u001b[0m \u001b[0;34m=\u001b[0m \u001b[0mlayer\u001b[0m\u001b[0;34m\u001b[0m\u001b[0;34m\u001b[0m\u001b[0m\n\u001b[1;32m   1031\u001b[0m \u001b[0;34m\u001b[0m\u001b[0m\n",
            "\u001b[0;32m/usr/local/lib/python3.6/dist-packages/keras/layers/__init__.py\u001b[0m in \u001b[0;36mdeserialize\u001b[0;34m(config, custom_objects)\u001b[0m\n\u001b[1;32m    166\u001b[0m                                     \u001b[0mmodule_objects\u001b[0m\u001b[0;34m=\u001b[0m\u001b[0mglobs\u001b[0m\u001b[0;34m,\u001b[0m\u001b[0;34m\u001b[0m\u001b[0;34m\u001b[0m\u001b[0m\n\u001b[1;32m    167\u001b[0m                                     \u001b[0mcustom_objects\u001b[0m\u001b[0;34m=\u001b[0m\u001b[0mcustom_objects\u001b[0m\u001b[0;34m,\u001b[0m\u001b[0;34m\u001b[0m\u001b[0;34m\u001b[0m\u001b[0m\n\u001b[0;32m--> 168\u001b[0;31m                                     printable_module_name='layer')\n\u001b[0m",
            "\u001b[0;32m/usr/local/lib/python3.6/dist-packages/keras/utils/generic_utils.py\u001b[0m in \u001b[0;36mdeserialize_keras_object\u001b[0;34m(identifier, module_objects, custom_objects, printable_module_name)\u001b[0m\n\u001b[1;32m    147\u001b[0m                                         list(custom_objects.items())))\n\u001b[1;32m    148\u001b[0m             \u001b[0;32mwith\u001b[0m \u001b[0mCustomObjectScope\u001b[0m\u001b[0;34m(\u001b[0m\u001b[0mcustom_objects\u001b[0m\u001b[0;34m)\u001b[0m\u001b[0;34m:\u001b[0m\u001b[0;34m\u001b[0m\u001b[0;34m\u001b[0m\u001b[0m\n\u001b[0;32m--> 149\u001b[0;31m                 \u001b[0;32mreturn\u001b[0m \u001b[0mcls\u001b[0m\u001b[0;34m.\u001b[0m\u001b[0mfrom_config\u001b[0m\u001b[0;34m(\u001b[0m\u001b[0mconfig\u001b[0m\u001b[0;34m[\u001b[0m\u001b[0;34m'config'\u001b[0m\u001b[0;34m]\u001b[0m\u001b[0;34m)\u001b[0m\u001b[0;34m\u001b[0m\u001b[0;34m\u001b[0m\u001b[0m\n\u001b[0m\u001b[1;32m    150\u001b[0m         \u001b[0;32melse\u001b[0m\u001b[0;34m:\u001b[0m\u001b[0;34m\u001b[0m\u001b[0;34m\u001b[0m\u001b[0m\n\u001b[1;32m    151\u001b[0m             \u001b[0;31m# Then `cls` may be a function returning a class.\u001b[0m\u001b[0;34m\u001b[0m\u001b[0;34m\u001b[0m\u001b[0;34m\u001b[0m\u001b[0m\n",
            "\u001b[0;32m/usr/local/lib/python3.6/dist-packages/keras/engine/base_layer.py\u001b[0m in \u001b[0;36mfrom_config\u001b[0;34m(cls, config)\u001b[0m\n\u001b[1;32m   1101\u001b[0m             \u001b[0mA\u001b[0m \u001b[0mlayer\u001b[0m \u001b[0minstance\u001b[0m\u001b[0;34m.\u001b[0m\u001b[0;34m\u001b[0m\u001b[0;34m\u001b[0m\u001b[0m\n\u001b[1;32m   1102\u001b[0m         \"\"\"\n\u001b[0;32m-> 1103\u001b[0;31m         \u001b[0;32mreturn\u001b[0m \u001b[0mcls\u001b[0m\u001b[0;34m(\u001b[0m\u001b[0;34m**\u001b[0m\u001b[0mconfig\u001b[0m\u001b[0;34m)\u001b[0m\u001b[0;34m\u001b[0m\u001b[0;34m\u001b[0m\u001b[0m\n\u001b[0m\u001b[1;32m   1104\u001b[0m \u001b[0;34m\u001b[0m\u001b[0m\n\u001b[1;32m   1105\u001b[0m     \u001b[0;32mdef\u001b[0m \u001b[0mcount_params\u001b[0m\u001b[0;34m(\u001b[0m\u001b[0mself\u001b[0m\u001b[0;34m)\u001b[0m\u001b[0;34m:\u001b[0m\u001b[0;34m\u001b[0m\u001b[0;34m\u001b[0m\u001b[0m\n",
            "\u001b[0;32m/usr/local/lib/python3.6/dist-packages/keras/legacy/interfaces.py\u001b[0m in \u001b[0;36mwrapper\u001b[0;34m(*args, **kwargs)\u001b[0m\n\u001b[1;32m     89\u001b[0m                 warnings.warn('Update your `' + object_name + '` call to the ' +\n\u001b[1;32m     90\u001b[0m                               'Keras 2 API: ' + signature, stacklevel=2)\n\u001b[0;32m---> 91\u001b[0;31m             \u001b[0;32mreturn\u001b[0m \u001b[0mfunc\u001b[0m\u001b[0;34m(\u001b[0m\u001b[0;34m*\u001b[0m\u001b[0margs\u001b[0m\u001b[0;34m,\u001b[0m \u001b[0;34m**\u001b[0m\u001b[0mkwargs\u001b[0m\u001b[0;34m)\u001b[0m\u001b[0;34m\u001b[0m\u001b[0;34m\u001b[0m\u001b[0m\n\u001b[0m\u001b[1;32m     92\u001b[0m         \u001b[0mwrapper\u001b[0m\u001b[0;34m.\u001b[0m\u001b[0m_original_function\u001b[0m \u001b[0;34m=\u001b[0m \u001b[0mfunc\u001b[0m\u001b[0;34m\u001b[0m\u001b[0;34m\u001b[0m\u001b[0m\n\u001b[1;32m     93\u001b[0m         \u001b[0;32mreturn\u001b[0m \u001b[0mwrapper\u001b[0m\u001b[0;34m\u001b[0m\u001b[0;34m\u001b[0m\u001b[0m\n",
            "\u001b[0;31mTypeError\u001b[0m: __init__() got an unexpected keyword argument 'ragged'"
          ]
        }
      ]
    },
    {
      "cell_type": "code",
      "metadata": {
        "id": "uLYL5EPS54l_",
        "colab_type": "code",
        "colab": {}
      },
      "source": [
        "# Reverse-lookup token index to decode sequences back to something readable.\n",
        "reverse_input_char_index = dict((i, char) for char, i in input_token_index.items())\n",
        "reverse_fr_target_char_index = dict((i, char) for char, i in fr_target_token_index.items())\n",
        "reverse_sp_target_char_index = dict((i, char) for char, i in sp_target_token_index.items())"
      ],
      "execution_count": 0,
      "outputs": []
    },
    {
      "cell_type": "code",
      "metadata": {
        "id": "YSQqt1UE54mC",
        "colab_type": "code",
        "colab": {}
      },
      "source": [
        "def decode_french_sequence(input_seq):\n",
        "    states_value = encoder_model.predict(input_seq)\n",
        "\n",
        "    target_seq = numpy.zeros((1, 1, num_fr_decoder_tokens))\n",
        "    target_seq[0, 0, fr_target_token_index['\\t']] = 1.\n",
        "\n",
        "    stop_condition = False\n",
        "    decoded_sentence = ''\n",
        "    while not stop_condition:\n",
        "        output_tokens, h, c = fr_decoder_model.predict([target_seq] + states_value)\n",
        "\n",
        "        # this line of code is greedy selection\n",
        "        # try to use multinomial sampling instead (with temperature)\n",
        "        sampled_token_index = numpy.argmax(output_tokens[0, -1, :])\n",
        "        \n",
        "        sampled_char = reverse_fr_target_char_index[sampled_token_index]\n",
        "        decoded_sentence += sampled_char\n",
        "\n",
        "        if (sampled_char == '\\n' or\n",
        "           len(decoded_sentence) > max_fr_decoder_seq_length):\n",
        "            stop_condition = True\n",
        "\n",
        "        target_seq = numpy.zeros((1, 1, num_fr_decoder_tokens))\n",
        "        target_seq[0, 0, sampled_token_index] = 1.\n",
        "\n",
        "        states_value = [h, c]\n",
        "\n",
        "    return decoded_sentence"
      ],
      "execution_count": 0,
      "outputs": []
    },
    {
      "cell_type": "code",
      "metadata": {
        "id": "tidIZA-y54mH",
        "colab_type": "code",
        "colab": {}
      },
      "source": [
        "def decode_spanish_sequence(input_seq):\n",
        "    states_value = encoder_model.predict(input_seq)\n",
        "\n",
        "    target_seq = numpy.zeros((1, 1, num_sp_decoder_tokens))\n",
        "    target_seq[0, 0, sp_target_token_index['\\t']] = 1.\n",
        "\n",
        "    stop_condition = False\n",
        "    decoded_sentence = ''\n",
        "    while not stop_condition:\n",
        "        output_tokens, h, c = sp_decoder_model.predict([target_seq] + states_value)\n",
        "\n",
        "        # this line of code is greedy selection\n",
        "        # try to use multinomial sampling instead (with temperature)\n",
        "        sampled_token_index = numpy.argmax(output_tokens[0, -1, :])\n",
        "        \n",
        "        sampled_char = reverse_sp_target_char_index[sampled_token_index]\n",
        "        decoded_sentence += sampled_char\n",
        "\n",
        "        if (sampled_char == '\\n' or\n",
        "           len(decoded_sentence) > max_sp_decoder_seq_length):\n",
        "            stop_condition = True\n",
        "\n",
        "        target_seq = numpy.zeros((1, 1, num_sp_decoder_tokens))\n",
        "        target_seq[0, 0, sampled_token_index] = 1.\n",
        "\n",
        "        states_value = [h, c]\n",
        "\n",
        "    return decoded_sentence"
      ],
      "execution_count": 0,
      "outputs": []
    },
    {
      "cell_type": "code",
      "metadata": {
        "id": "vkC1ZhEP54mL",
        "colab_type": "code",
        "colab": {
          "base_uri": "https://localhost:8080/",
          "height": 246
        },
        "outputId": "bef38210-8939-4aeb-f99d-72f4efbf2c8d"
      },
      "source": [
        "for seq_index in range(2100, 2120):\n",
        "    # Take one sequence (part of the training set)\n",
        "    # for trying out decoding.\n",
        "    input_seq = encoder_input_data[seq_index: seq_index + 1]\n",
        "    decoded_sentence = decode_french_sequence(input_seq)\n",
        "    print('-')\n",
        "    print('English:       ', input_texts[seq_index])\n",
        "    print('French (true): ', french_target_texts[seq_index][1:-1])\n",
        "    print('French (pred): ', decoded_sentence[0:-1])\n",
        "    \n",
        "for seq_index in range(102100, 102120):\n",
        "    # Take one sequence (part of the training set)\n",
        "    # for trying out decoding.\n",
        "    input_seq = encoder_input_data[seq_index: seq_index + 1]\n",
        "    decoded_sentence = decode_spanish_sequence(input_seq)\n",
        "    print('-')\n",
        "    print('English:       ', input_texts[seq_index])\n",
        "    print('Spanish (true): ', spanish_target_texts[seq_index-100000][1:-1])\n",
        "    print('Spanish (pred): ', decoded_sentence[0:-1])"
      ],
      "execution_count": 15,
      "outputs": [
        {
          "output_type": "error",
          "ename": "NameError",
          "evalue": "ignored",
          "traceback": [
            "\u001b[0;31m---------------------------------------------------------------------------\u001b[0m",
            "\u001b[0;31mNameError\u001b[0m                                 Traceback (most recent call last)",
            "\u001b[0;32m<ipython-input-15-bb7fa8303a5f>\u001b[0m in \u001b[0;36m<module>\u001b[0;34m()\u001b[0m\n\u001b[1;32m      3\u001b[0m     \u001b[0;31m# for trying out decoding.\u001b[0m\u001b[0;34m\u001b[0m\u001b[0;34m\u001b[0m\u001b[0;34m\u001b[0m\u001b[0m\n\u001b[1;32m      4\u001b[0m     \u001b[0minput_seq\u001b[0m \u001b[0;34m=\u001b[0m \u001b[0mencoder_input_data\u001b[0m\u001b[0;34m[\u001b[0m\u001b[0mseq_index\u001b[0m\u001b[0;34m:\u001b[0m \u001b[0mseq_index\u001b[0m \u001b[0;34m+\u001b[0m \u001b[0;36m1\u001b[0m\u001b[0;34m]\u001b[0m\u001b[0;34m\u001b[0m\u001b[0;34m\u001b[0m\u001b[0m\n\u001b[0;32m----> 5\u001b[0;31m     \u001b[0mdecoded_sentence\u001b[0m \u001b[0;34m=\u001b[0m \u001b[0mdecode_french_sequence\u001b[0m\u001b[0;34m(\u001b[0m\u001b[0minput_seq\u001b[0m\u001b[0;34m)\u001b[0m\u001b[0;34m\u001b[0m\u001b[0;34m\u001b[0m\u001b[0m\n\u001b[0m\u001b[1;32m      6\u001b[0m     \u001b[0mprint\u001b[0m\u001b[0;34m(\u001b[0m\u001b[0;34m'-'\u001b[0m\u001b[0;34m)\u001b[0m\u001b[0;34m\u001b[0m\u001b[0;34m\u001b[0m\u001b[0m\n\u001b[1;32m      7\u001b[0m     \u001b[0mprint\u001b[0m\u001b[0;34m(\u001b[0m\u001b[0;34m'English:       '\u001b[0m\u001b[0;34m,\u001b[0m \u001b[0minput_texts\u001b[0m\u001b[0;34m[\u001b[0m\u001b[0mseq_index\u001b[0m\u001b[0;34m]\u001b[0m\u001b[0;34m)\u001b[0m\u001b[0;34m\u001b[0m\u001b[0;34m\u001b[0m\u001b[0m\n",
            "\u001b[0;31mNameError\u001b[0m: name 'decode_french_sequence' is not defined"
          ]
        }
      ]
    },
    {
      "cell_type": "markdown",
      "metadata": {
        "id": "lxgaBFux54mP",
        "colab_type": "text"
      },
      "source": [
        "### 4.2. Translate an English sentence to the target language\n",
        "\n",
        "1. Tokenization\n",
        "2. One-hot encode\n",
        "3. Translate"
      ]
    },
    {
      "cell_type": "code",
      "metadata": {
        "id": "_qyP9YSD54mQ",
        "colab_type": "code",
        "colab": {}
      },
      "source": [
        "input_sentence = 'why is that'\n",
        "\n",
        "#Tokenize to individual characters\n",
        "tokens = [char for char in input_sentence]\n",
        "#Convert tokens to integer indices based on input (English) word_index dictionary\n",
        "input_sequence = [input_token_index.get(token) for token in tokens]\n",
        "\n",
        "input_x = onehot_encode(input_sequence, max_encoder_seq_length, num_encoder_tokens)\n",
        "\n",
        "fr_translated_sentence = decode_french_sequence(input_x)\n",
        "sp_translated_sentence = decode_spanish_sequence(input_x)\n",
        "\n",
        "print('source sentence is: ' + input_sentence)\n",
        "print('French translated sentence is: ' + fr_translated_sentence)\n",
        "print('Spanish translated sentence is: ' + sp_translated_sentence)"
      ],
      "execution_count": 0,
      "outputs": []
    },
    {
      "cell_type": "markdown",
      "metadata": {
        "id": "SsxW0hww54mU",
        "colab_type": "text"
      },
      "source": [
        "## 5. Evaluate the translation using BLEU score\n",
        "\n",
        "Reference: \n",
        "- https://machinelearningmastery.com/calculate-bleu-score-for-text-python/\n",
        "- https://en.wikipedia.org/wiki/BLEU\n",
        "\n",
        "\n",
        "**Hint:** \n",
        "\n",
        "- Randomly partition the dataset to training, validation, and test. \n",
        "\n",
        "- Evaluate the BLEU score using the test set. Report the average.\n",
        "\n",
        "- A reasonable BLEU score should be 0.1 ~ 0.3."
      ]
    },
    {
      "cell_type": "code",
      "metadata": {
        "id": "KLYa_b3054mV",
        "colab_type": "code",
        "colab": {}
      },
      "source": [
        ""
      ],
      "execution_count": 0,
      "outputs": []
    }
  ]
}