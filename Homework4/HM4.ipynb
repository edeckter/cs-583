{
  "nbformat": 4,
  "nbformat_minor": 0,
  "metadata": {
    "accelerator": "GPU",
    "colab": {
      "name": "HM4.ipynb",
      "provenance": [],
      "toc_visible": true,
      "machine_shape": "hm"
    },
    "kernelspec": {
      "display_name": "Python 3",
      "language": "python",
      "name": "python3"
    },
    "language_info": {
      "codemirror_mode": {
        "name": "ipython",
        "version": 3
      },
      "file_extension": ".py",
      "mimetype": "text/x-python",
      "name": "python",
      "nbconvert_exporter": "python",
      "pygments_lexer": "ipython3",
      "version": "3.6.8"
    }
  },
  "cells": [
    {
      "cell_type": "markdown",
      "metadata": {
        "colab_type": "text",
        "id": "Dhk8_56n54h9"
      },
      "source": [
        "# Home 4: Build a seq2seq model for machine translation.\n",
        "\n",
        "### Name: Erika Deckter\n",
        "\n",
        "### Task: Translate English to French and Spanish"
      ]
    },
    {
      "cell_type": "markdown",
      "metadata": {
        "colab_type": "text",
        "id": "s18k5tCH54iE"
      },
      "source": [
        "## 0. You will do the following:\n",
        "\n",
        "1. Read and run my code.\n",
        "2. Complete the code in Section 1.1 and Section 4.2.\n",
        "\n",
        "    * Translation English to **German** is not acceptable!!! Try another language.\n",
        "    \n",
        "3. **Make improvements.** Directly modify the code in Section 3. Do at least one of the followings. By doing more, you will get up to 2 bonus scores to the total.\n",
        "\n",
        "    * Bi-LSTM instead of LSTM\n",
        "    \n",
        "    * Multi-task learning (e.g., both English to French and English to Spanish)\n",
        "    \n",
        "    * Attention\n",
        "    \n",
        "4. Evaluate the translation using the BLEU score. \n",
        "\n",
        "    * Optional. Up to 1 bonus scores to the total.\n",
        "    \n",
        "5. Convert the notebook to .HTML file. \n",
        "\n",
        "    * The HTML file must contain the code and the output after execution.\n",
        "\n",
        "6. Put the .HTML file in your own Github repo. \n",
        "\n",
        "7. Submit the link to the HTML file to Canvas.    \n"
      ]
    },
    {
      "cell_type": "code",
      "metadata": {
        "colab_type": "code",
        "id": "aC85hwO-6BRn",
        "outputId": "0cdc4dbb-080f-4ee7-8b7a-59fdc5c77abd",
        "colab": {
          "base_uri": "https://localhost:8080/",
          "height": 129
        }
      },
      "source": [
        "from google.colab import drive\n",
        "drive.mount('/content/drive')"
      ],
      "execution_count": 1,
      "outputs": [
        {
          "output_type": "stream",
          "text": [
            "Go to this URL in a browser: https://accounts.google.com/o/oauth2/auth?client_id=947318989803-6bn6qk8qdgf4n4g3pfee6491hc0brc4i.apps.googleusercontent.com&redirect_uri=urn%3Aietf%3Awg%3Aoauth%3A2.0%3Aoob&scope=email%20https%3A%2F%2Fwww.googleapis.com%2Fauth%2Fdocs.test%20https%3A%2F%2Fwww.googleapis.com%2Fauth%2Fdrive%20https%3A%2F%2Fwww.googleapis.com%2Fauth%2Fdrive.photos.readonly%20https%3A%2F%2Fwww.googleapis.com%2Fauth%2Fpeopleapi.readonly&response_type=code\n",
            "\n",
            "Enter your authorization code:\n",
            "··········\n",
            "Mounted at /content/drive\n"
          ],
          "name": "stdout"
        }
      ]
    },
    {
      "cell_type": "markdown",
      "metadata": {
        "colab_type": "text",
        "id": "mEJx_qQN54iM"
      },
      "source": [
        "### Hint: \n",
        "\n",
        "To implement ```Bi-LSTM```, you will need the following code to build the encoder; the decoder won't be much different."
      ]
    },
    {
      "cell_type": "code",
      "metadata": {
        "colab_type": "code",
        "id": "FpQuEFGy54iQ",
        "colab": {}
      },
      "source": [
        "from keras.layers import Bidirectional, Concatenate\n",
        "\n",
        "encoder_bilstm = Bidirectional(LSTM(latent_dim, return_state=True, \n",
        "                                  dropout=0.5, name='encoder_lstm'))\n",
        "_, forward_h, forward_c, backward_h, backward_c = encoder_bilstm(encoder_inputs)\n",
        "\n",
        "state_h = Concatenate()([forward_h, backward_h])\n",
        "state_c = Concatenate()([forward_c, backward_c])"
      ],
      "execution_count": 0,
      "outputs": []
    },
    {
      "cell_type": "markdown",
      "metadata": {
        "colab_type": "text",
        "id": "6UwjRD7P54ic"
      },
      "source": [
        "### Hint: \n",
        "\n",
        "To implement multi-task training, you can refer to ```Section 7.1.3 Multi-output models``` of the textbook, ```Deep Learning with Python```."
      ]
    },
    {
      "cell_type": "markdown",
      "metadata": {
        "colab_type": "text",
        "id": "OVn2ROaF54ii"
      },
      "source": [
        "## 1. Data preparation\n",
        "\n",
        "1. Download data (e.g., \"deu-eng.zip\") from http://www.manythings.org/anki/\n",
        "2. Unzip the .ZIP file.\n",
        "3. Put the .TXT file (e.g., \"deu.txt\") in the directory \"./Data/\"."
      ]
    },
    {
      "cell_type": "markdown",
      "metadata": {
        "colab_type": "text",
        "id": "lSj9VRUQ54im"
      },
      "source": [
        "### 1.1. Load and clean text\n"
      ]
    },
    {
      "cell_type": "code",
      "metadata": {
        "colab_type": "code",
        "id": "pISlJhlu54io",
        "colab": {}
      },
      "source": [
        "import re\n",
        "import string\n",
        "from unicodedata import normalize\n",
        "import numpy\n",
        "\n",
        "# load doc into memory\n",
        "def load_doc(filename):\n",
        "    # open the file as read only\n",
        "    file = open(filename, mode='rt', encoding='utf-8')\n",
        "    # read all text\n",
        "    text = file.read()\n",
        "    # close the file\n",
        "    file.close()\n",
        "    return text\n",
        "\n",
        "\n",
        "# split a loaded document into sentences\n",
        "def to_pairs(doc):\n",
        "    lines = doc.strip().split('\\n')\n",
        "    pairs = [line.split('\\t') for line in  lines]\n",
        "    return pairs\n",
        "\n",
        "def clean_data(lines):\n",
        "    cleaned = list()\n",
        "    # prepare regex for char filtering\n",
        "    re_print = re.compile('[^%s]' % re.escape(string.printable))\n",
        "    # prepare translation table for removing punctuation\n",
        "    table = str.maketrans('', '', string.punctuation)\n",
        "    for pair in lines:\n",
        "        clean_pair = list()\n",
        "        for line in pair:\n",
        "            # normalize unicode characters\n",
        "            line = normalize('NFD', line).encode('ascii', 'ignore')\n",
        "            line = line.decode('UTF-8')\n",
        "            # tokenize on white space\n",
        "            line = line.split()\n",
        "            # convert to lowercase\n",
        "            line = [word.lower() for word in line]\n",
        "            # remove punctuation from each token\n",
        "            line = [word.translate(table) for word in line]\n",
        "            # remove non-printable chars form each token\n",
        "            line = [re_print.sub('', w) for w in line]\n",
        "            # remove tokens with numbers in them\n",
        "            line = [word for word in line if word.isalpha()]\n",
        "            # store as string\n",
        "            clean_pair.append(' '.join(line))\n",
        "        cleaned.append(clean_pair)\n",
        "    return numpy.array(cleaned)"
      ],
      "execution_count": 0,
      "outputs": []
    },
    {
      "cell_type": "markdown",
      "metadata": {
        "colab_type": "text",
        "id": "Jogx43FJ54iy"
      },
      "source": [
        "#### Fill the following blanks:"
      ]
    },
    {
      "cell_type": "code",
      "metadata": {
        "colab_type": "code",
        "id": "WnoNpQnE54i2",
        "colab": {}
      },
      "source": [
        "# e.g., filename = 'Data/deu.txt'\n",
        "files = ['drive/My Drive/CS 583/data/fra.txt', 'drive/My Drive/CS 583/data/spa.txt']\n",
        "#files = ['data/fra.txt', 'data/spa.txt']\n",
        "\n",
        "# e.g., n_train = 20000\n",
        "n_train = 50000"
      ],
      "execution_count": 0,
      "outputs": []
    },
    {
      "cell_type": "code",
      "metadata": {
        "colab_type": "code",
        "id": "b-CpXbZ254jD",
        "colab": {}
      },
      "source": [
        "def get_sentence_pairs(filename):\n",
        "    # load dataset\n",
        "    doc = load_doc(filename)\n",
        "    # split into Language1-Language2 pairs\n",
        "    pairs = to_pairs(doc)\n",
        "    # clean sentences\n",
        "    #clean_pairs = clean_data(pairs)[0:n_train, :]\n",
        "    clean_pairs = clean_data(pairs)\n",
        "    \n",
        "    return clean_pairs\n",
        "\n",
        "#Get French and Spanish pairs\n",
        "french_pairs = get_sentence_pairs(files[0])[:,0:2]\n",
        "spanish_pairs = get_sentence_pairs(files[1])[:,0:2]"
      ],
      "execution_count": 0,
      "outputs": []
    },
    {
      "cell_type": "code",
      "metadata": {
        "id": "GpadNAuEfnpl",
        "colab_type": "code",
        "colab": {}
      },
      "source": [
        "#Join two datasets on English phrases\n",
        "import pandas as pd\n",
        "\n",
        "french = pd.DataFrame(french_pairs, columns=['English','French'])\n",
        "spanish = pd.DataFrame(spanish_pairs, columns=['English','Spanish'])\n",
        "spanish.set_index('English')\n",
        "\n",
        "#Combine on English words\n",
        "all_pairs = french.join(spanish.set_index('English'), on='English', how='inner').reset_index(drop=True)\n",
        "\n",
        "#Pick n_train random sentences to use for training data\n",
        "pairs = all_pairs.sample(n=n_train, random_state=42)\n",
        "#Designate remaining data as test dataset\n",
        "test_pairs = all_pairs.drop(pairs.index)\n",
        "\n",
        "#Convert training and test dataset to numpy arrays\n",
        "pairs = numpy.array(pairs)\n",
        "test_pairs = numpy.array(test_pairs)"
      ],
      "execution_count": 0,
      "outputs": []
    },
    {
      "cell_type": "code",
      "metadata": {
        "colab_type": "code",
        "id": "g-nGE5Xs54jM",
        "outputId": "4d7bbc12-6bcf-41fe-8d4d-1d9939ab0c13",
        "colab": {
          "base_uri": "https://localhost:8080/",
          "height": 439
        }
      },
      "source": [
        "#Print French pairs\n",
        "print('English => French')\n",
        "for i in range(3000, 3010):\n",
        "    print('[' + pairs[i, 0] + '] => [' + pairs[i, 1] + ']')\n",
        "#Print Spanish pairs\n",
        "print('\\nEnglish => Spanish')\n",
        "for i in range(3000, 3010):\n",
        "    print('[' + pairs[i, 0] + '] => [' + pairs[i, 2] + ']')"
      ],
      "execution_count": 181,
      "outputs": [
        {
          "output_type": "stream",
          "text": [
            "English => French\n",
            "[why dont you come visit us] => [pourquoi ne venezvous pas nous voir]\n",
            "[i cant say] => [je ne peux le dire]\n",
            "[help me] => [aidemoi]\n",
            "[remain seated please] => [veuillez rester assises]\n",
            "[i spent a lot of my time studying french] => [jai passe beaucoup de mon temps a etudier le francais]\n",
            "[is it raining now] => [pleutil maintenant]\n",
            "[people can turn to the law if they want to correct an injustice] => [les gens peuvent se tourner vers la loi sils veulent corriger une injustice]\n",
            "[this time ill try it] => [cette fois je vais essayer ca]\n",
            "[write your full name] => [ecrivez votre nom complet]\n",
            "[youre very brave] => [vous etes tres courageuses]\n",
            "\n",
            "English => Spanish\n",
            "[why dont you come visit us] => [por que no vienen a visitarnos]\n",
            "[i cant say] => [no puedo decir]\n",
            "[help me] => [ayudame]\n",
            "[remain seated please] => [quedense sentados por favor]\n",
            "[i spent a lot of my time studying french] => [paso mucho tiempo estudiando frances]\n",
            "[is it raining now] => [ahora esta lloviendo]\n",
            "[people can turn to the law if they want to correct an injustice] => [la gente puede acudir a la ley si quiere corregir una injusticia]\n",
            "[this time ill try it] => [esta vez lo intentare]\n",
            "[write your full name] => [escriba su nombre y apellidos]\n",
            "[youre very brave] => [sois muy valientes]\n"
          ],
          "name": "stdout"
        }
      ]
    },
    {
      "cell_type": "code",
      "metadata": {
        "colab_type": "code",
        "id": "LLiBflgh54jV",
        "outputId": "177251a4-446e-47e9-e559-713aa16e24f2",
        "colab": {
          "base_uri": "https://localhost:8080/",
          "height": 72
        }
      },
      "source": [
        "input_texts = pairs[:, 0]\n",
        "french_target_texts = ['\\t' + text + '\\n' for text in pairs[:, 1]]\n",
        "spanish_target_texts = ['\\t' + text + '\\n' for text in pairs[:, 2]]\n",
        "\n",
        "print('Length of input_texts: ' + str(input_texts.shape[0]))\n",
        "print('Length of french_target_texts: ' + str(len(french_target_texts)))\n",
        "print('Length of spanish_target_texts: ' + str(len(spanish_target_texts)))"
      ],
      "execution_count": 182,
      "outputs": [
        {
          "output_type": "stream",
          "text": [
            "Length of input_texts: 50000\n",
            "Length of french_target_texts: 50000\n",
            "Length of spanish_target_texts: 50000\n"
          ],
          "name": "stdout"
        }
      ]
    },
    {
      "cell_type": "code",
      "metadata": {
        "colab_type": "code",
        "id": "7xBg68C-54jf",
        "outputId": "f96d2b9e-8b8f-4036-fc0d-88c0772461ba",
        "colab": {
          "base_uri": "https://localhost:8080/",
          "height": 72
        }
      },
      "source": [
        "max_encoder_seq_length = max(len(line) for line in input_texts)\n",
        "max_fr_decoder_seq_length = max(len(line) for line in french_target_texts)\n",
        "max_sp_decoder_seq_length = max(len(line) for line in spanish_target_texts)\n",
        "\n",
        "print('max length of input sentences: %d' % (max_encoder_seq_length))\n",
        "print('max length of French target sentences: %d' % (max_fr_decoder_seq_length))\n",
        "print('max length of Spanish target sentences: %d' % (max_sp_decoder_seq_length))"
      ],
      "execution_count": 183,
      "outputs": [
        {
          "output_type": "stream",
          "text": [
            "max length of input sentences: 203\n",
            "max length of French target sentences: 226\n",
            "max length of Spanish target sentences: 240\n"
          ],
          "name": "stdout"
        }
      ]
    },
    {
      "cell_type": "markdown",
      "metadata": {
        "colab_type": "text",
        "id": "pyM50wbV54jm"
      },
      "source": [
        "**Remark:** To this end, you have two lists of sentences: input_texts and target_texts"
      ]
    },
    {
      "cell_type": "markdown",
      "metadata": {
        "colab_type": "text",
        "id": "2P_3IKfg54jp"
      },
      "source": [
        "## 2. Text processing\n",
        "\n",
        "### 2.1. Convert texts to sequences\n",
        "\n",
        "- Input: A list of $n$ sentences (with max length $t$).\n",
        "- It is represented by a $n\\times t$ matrix after the tokenization and zero-padding."
      ]
    },
    {
      "cell_type": "code",
      "metadata": {
        "colab_type": "code",
        "id": "6dxXPuVp54jt",
        "outputId": "a6e29559-1303-4796-e17d-cf9863eea60f",
        "colab": {
          "base_uri": "https://localhost:8080/",
          "height": 127
        }
      },
      "source": [
        "from keras.preprocessing.text import Tokenizer\n",
        "from keras.preprocessing.sequence import pad_sequences\n",
        "\n",
        "# encode and pad sequences\n",
        "def text2sequences(max_len, lines):\n",
        "    tokenizer = Tokenizer(char_level=True, filters='')\n",
        "    tokenizer.fit_on_texts(lines)\n",
        "    seqs = tokenizer.texts_to_sequences(lines)\n",
        "    seqs_pad = pad_sequences(seqs, maxlen=max_len, padding='post')\n",
        "    return seqs_pad, tokenizer.word_index\n",
        "\n",
        "\n",
        "encoder_input_seq, input_token_index = text2sequences(max_encoder_seq_length, \n",
        "                                                      input_texts)\n",
        "fr_decoder_input_seq, fr_target_token_index = text2sequences(max_fr_decoder_seq_length, \n",
        "                                                             french_target_texts)\n",
        "sp_decoder_input_seq, sp_target_token_index = text2sequences(max_sp_decoder_seq_length, \n",
        "                                                             spanish_target_texts)\n",
        "\n",
        "print('shape of encoder_input_seq: ' + str(encoder_input_seq.shape))\n",
        "print('shape of input_token_index: ' + str(len(input_token_index)))\n",
        "print('shape of fr_decoder_input_seq: ' + str(fr_decoder_input_seq.shape))\n",
        "print('shape of fr_target_token_index: ' + str(len(fr_target_token_index)))\n",
        "print('shape of sp_decoder_input_seq: ' + str(sp_decoder_input_seq.shape))\n",
        "print('shape of sp_target_token_index: ' + str(len(sp_target_token_index)))"
      ],
      "execution_count": 184,
      "outputs": [
        {
          "output_type": "stream",
          "text": [
            "shape of encoder_input_seq: (50000, 203)\n",
            "shape of input_token_index: 27\n",
            "shape of fr_decoder_input_seq: (50000, 226)\n",
            "shape of fr_target_token_index: 29\n",
            "shape of sp_decoder_input_seq: (50000, 240)\n",
            "shape of sp_target_token_index: 29\n"
          ],
          "name": "stdout"
        }
      ]
    },
    {
      "cell_type": "code",
      "metadata": {
        "colab_type": "code",
        "id": "5qfigRMD54j5",
        "outputId": "7c4b1a71-3176-4fdf-dd7c-001a16b35d36",
        "colab": {
          "base_uri": "https://localhost:8080/",
          "height": 72
        }
      },
      "source": [
        "num_encoder_tokens = len(input_token_index) + 1\n",
        "num_fr_decoder_tokens = len(fr_target_token_index) + 1\n",
        "num_sp_decoder_tokens = len(sp_target_token_index) + 1\n",
        "\n",
        "print('num_encoder_tokens: ' + str(num_encoder_tokens))\n",
        "print('num_fr_decoder_tokens: ' + str(num_fr_decoder_tokens))\n",
        "print('num_sp_decoder_tokens: ' + str(num_sp_decoder_tokens))"
      ],
      "execution_count": 185,
      "outputs": [
        {
          "output_type": "stream",
          "text": [
            "num_encoder_tokens: 28\n",
            "num_fr_decoder_tokens: 30\n",
            "num_sp_decoder_tokens: 30\n"
          ],
          "name": "stdout"
        }
      ]
    },
    {
      "cell_type": "markdown",
      "metadata": {
        "colab_type": "text",
        "id": "_JIZ58CV54j_"
      },
      "source": [
        "**Remark:** To this end, the input language and target language texts are converted to 2 matrices. \n",
        "\n",
        "- Their number of rows are both n_train.\n",
        "- Their number of columns are respective max_encoder_seq_length and max_decoder_seq_length."
      ]
    },
    {
      "cell_type": "markdown",
      "metadata": {
        "colab_type": "text",
        "id": "Lwg9j4G854kC"
      },
      "source": [
        "The followings print a sentence and its representation as a sequence."
      ]
    },
    {
      "cell_type": "code",
      "metadata": {
        "colab_type": "code",
        "id": "0nKIIQWO54kD",
        "outputId": "3d17431f-2b90-4689-b5f9-e3b34fad54f5",
        "colab": {
          "base_uri": "https://localhost:8080/",
          "height": 54
        }
      },
      "source": [
        "print('French Target Text: ',repr(french_target_texts[100]))\n",
        "print('Spanish Target Text: ',repr(spanish_target_texts[100]))"
      ],
      "execution_count": 186,
      "outputs": [
        {
          "output_type": "stream",
          "text": [
            "French Target Text:  '\\tveuxtu diner avec moi\\n'\n",
            "Spanish Target Text:  '\\tte gustaria cenar conmigo\\n'\n"
          ],
          "name": "stdout"
        }
      ]
    },
    {
      "cell_type": "code",
      "metadata": {
        "colab_type": "code",
        "id": "bbpSLAMl54kN",
        "outputId": "77711ae2-2ff1-4cd7-c3ba-7cde53fdccf0",
        "colab": {
          "base_uri": "https://localhost:8080/",
          "height": 421
        }
      },
      "source": [
        "print('French Decoder Sequence')\n",
        "print(fr_decoder_input_seq[100, :])\n",
        "print('Spanish Decoder Sequence')\n",
        "print(sp_decoder_input_seq[100, :])"
      ],
      "execution_count": 187,
      "outputs": [
        {
          "output_type": "stream",
          "text": [
            "French Decoder Sequence\n",
            "[12 18  2  6 26  7  6  1 16  5  8  2  9  1  4 18  2 17  1 15 10  5 13  0\n",
            "  0  0  0  0  0  0  0  0  0  0  0  0  0  0  0  0  0  0  0  0  0  0  0  0\n",
            "  0  0  0  0  0  0  0  0  0  0  0  0  0  0  0  0  0  0  0  0  0  0  0  0\n",
            "  0  0  0  0  0  0  0  0  0  0  0  0  0  0  0  0  0  0  0  0  0  0  0  0\n",
            "  0  0  0  0  0  0  0  0  0  0  0  0  0  0  0  0  0  0  0  0  0  0  0  0\n",
            "  0  0  0  0  0  0  0  0  0  0  0  0  0  0  0  0  0  0  0  0  0  0  0  0\n",
            "  0  0  0  0  0  0  0  0  0  0  0  0  0  0  0  0  0  0  0  0  0  0  0  0\n",
            "  0  0  0  0  0  0  0  0  0  0  0  0  0  0  0  0  0  0  0  0  0  0  0  0\n",
            "  0  0  0  0  0  0  0  0  0  0  0  0  0  0  0  0  0  0  0  0  0  0  0  0\n",
            "  0  0  0  0  0  0  0  0  0  0]\n",
            "Spanish Decoder Sequence\n",
            "[12  9  2  1 22 11  5  9  3  7  8  3  1 15  2  6  3  7  1 15  4  6 16  8\n",
            " 22  4 13  0  0  0  0  0  0  0  0  0  0  0  0  0  0  0  0  0  0  0  0  0\n",
            "  0  0  0  0  0  0  0  0  0  0  0  0  0  0  0  0  0  0  0  0  0  0  0  0\n",
            "  0  0  0  0  0  0  0  0  0  0  0  0  0  0  0  0  0  0  0  0  0  0  0  0\n",
            "  0  0  0  0  0  0  0  0  0  0  0  0  0  0  0  0  0  0  0  0  0  0  0  0\n",
            "  0  0  0  0  0  0  0  0  0  0  0  0  0  0  0  0  0  0  0  0  0  0  0  0\n",
            "  0  0  0  0  0  0  0  0  0  0  0  0  0  0  0  0  0  0  0  0  0  0  0  0\n",
            "  0  0  0  0  0  0  0  0  0  0  0  0  0  0  0  0  0  0  0  0  0  0  0  0\n",
            "  0  0  0  0  0  0  0  0  0  0  0  0  0  0  0  0  0  0  0  0  0  0  0  0\n",
            "  0  0  0  0  0  0  0  0  0  0  0  0  0  0  0  0  0  0  0  0  0  0  0  0]\n"
          ],
          "name": "stdout"
        }
      ]
    },
    {
      "cell_type": "markdown",
      "metadata": {
        "colab_type": "text",
        "id": "UryinXJl54kV"
      },
      "source": [
        "## 2.2. One-hot encode\n",
        "\n",
        "- Input: A list of $n$ sentences (with max length $t$).\n",
        "- It is represented by a $n\\times t$ matrix after the tokenization and zero-padding.\n",
        "- It is represented by a $n\\times t \\times v$ tensor ($t$ is the number of unique chars) after the one-hot encoding."
      ]
    },
    {
      "cell_type": "code",
      "metadata": {
        "colab_type": "code",
        "id": "GVOVLG_H54kY",
        "outputId": "7e93edc5-a7cf-441c-f34e-bc3f115ae2f0",
        "colab": {
          "base_uri": "https://localhost:8080/",
          "height": 72
        }
      },
      "source": [
        "from keras.utils import to_categorical\n",
        "\n",
        "# one hot encode target sequence\n",
        "def onehot_encode(sequences, max_len, vocab_size):\n",
        "    n = len(sequences)\n",
        "    data = numpy.zeros((n, max_len, vocab_size))\n",
        "    for i in range(n):\n",
        "        data[i, :, :] = to_categorical(sequences[i], num_classes=vocab_size)\n",
        "    return data\n",
        "\n",
        "encoder_input_data = onehot_encode(encoder_input_seq, max_encoder_seq_length, num_encoder_tokens)\n",
        "fr_decoder_input_data = onehot_encode(fr_decoder_input_seq, max_fr_decoder_seq_length, num_fr_decoder_tokens)\n",
        "sp_decoder_input_data = onehot_encode(sp_decoder_input_seq, max_sp_decoder_seq_length, num_sp_decoder_tokens)\n",
        "\n",
        "fr_decoder_target_seq = numpy.zeros(fr_decoder_input_seq.shape)\n",
        "fr_decoder_target_seq[:, 0:-1] = fr_decoder_input_seq[:, 1:]\n",
        "fr_decoder_target_data = onehot_encode(fr_decoder_target_seq, \n",
        "                                       max_fr_decoder_seq_length, \n",
        "                                       num_fr_decoder_tokens)\n",
        "sp_decoder_target_seq = numpy.zeros(sp_decoder_input_seq.shape)\n",
        "sp_decoder_target_seq[:, 0:-1] = sp_decoder_input_seq[:, 1:]\n",
        "sp_decoder_target_data = onehot_encode(sp_decoder_target_seq, \n",
        "                                       max_sp_decoder_seq_length, \n",
        "                                       num_sp_decoder_tokens)\n",
        "\n",
        "print(encoder_input_data.shape)\n",
        "print(fr_decoder_input_data.shape)\n",
        "print(sp_decoder_input_data.shape)"
      ],
      "execution_count": 188,
      "outputs": [
        {
          "output_type": "stream",
          "text": [
            "(50000, 203, 28)\n",
            "(50000, 226, 30)\n",
            "(50000, 240, 30)\n"
          ],
          "name": "stdout"
        }
      ]
    },
    {
      "cell_type": "markdown",
      "metadata": {
        "colab_type": "text",
        "id": "5ozLZZzV54kd"
      },
      "source": [
        "## 3. Build the networks (for training)\n",
        "\n",
        "- Build encoder, decoder, and connect the two modules to get \"model\". \n",
        "\n",
        "- Fit the model on the bilingual data to train the parameters in the encoder and decoder."
      ]
    },
    {
      "cell_type": "markdown",
      "metadata": {
        "colab_type": "text",
        "id": "ECHI92ri54kg"
      },
      "source": [
        "### 3.1. Encoder network\n",
        "\n",
        "- Input:  one-hot encode of the input language\n",
        "\n",
        "- Return: \n",
        "\n",
        "    -- output (all the hidden states   $h_1, \\cdots , h_t$) are always discarded\n",
        "    \n",
        "    -- the final hidden state  $h_t$\n",
        "    \n",
        "    -- the final conveyor belt $c_t$"
      ]
    },
    {
      "cell_type": "code",
      "metadata": {
        "colab_type": "code",
        "id": "9mjH5cCq54kk",
        "colab": {}
      },
      "source": [
        "from tensorflow.keras.layers import Input, LSTM, Bidirectional, Concatenate\n",
        "from tensorflow.keras.models import Model\n",
        "\n",
        "latent_dim = 256\n",
        "\n",
        "# inputs of the encoder network\n",
        "encoder_inputs = Input(shape=(None, num_encoder_tokens), \n",
        "                       name='encoder_inputs')\n",
        "\n",
        "# set the LSTM layer\n",
        "encoder_bilstm = Bidirectional(LSTM(latent_dim, return_state=True, \n",
        "                    dropout=0.5, name='encoder_bilstm'))\n",
        "_, forward_h, forward_c, backward_h, backward_c = encoder_bilstm(encoder_inputs)\n",
        "\n",
        "#Concatenate forward and backward states\n",
        "state_h = Concatenate()([forward_h, backward_h])\n",
        "state_c = Concatenate()([forward_c, backward_c])\n",
        "\n",
        "# build the encoder network model\n",
        "encoder_model = Model(inputs=encoder_inputs, \n",
        "                      outputs=[state_h, state_c],\n",
        "                      name='encoder')"
      ],
      "execution_count": 0,
      "outputs": []
    },
    {
      "cell_type": "markdown",
      "metadata": {
        "colab_type": "text",
        "id": "pf3azOVs54kq"
      },
      "source": [
        "Print a summary and save the encoder network structure to \"./encoder.jpg\"   \n",
        "Note: I changed file extension to .jpg (from .pdf) because the pdf was causing an error in Jupyter."
      ]
    },
    {
      "cell_type": "code",
      "metadata": {
        "colab_type": "code",
        "id": "2R00s-sq54kt",
        "outputId": "ad53d41e-2ece-492f-f6a2-56390b9da132",
        "colab": {
          "base_uri": "https://localhost:8080/",
          "height": 348
        }
      },
      "source": [
        "from IPython.display import SVG\n",
        "#from keras.utils.vis_utils import model_to_dot, plot_model\n",
        "from tensorflow.keras.utils import model_to_dot, plot_model\n",
        "\n",
        "SVG(model_to_dot(encoder_model, show_shapes=False).create(prog='dot', format='svg'))\n",
        "\n",
        "plot_model(\n",
        "    model=encoder_model, show_shapes=False,\n",
        "    to_file='encoder.jpg' #Changed file extension to .jpg (from .pdf) because the pdf was causing an error in Jupyter\n",
        ")\n",
        "\n",
        "encoder_model.summary()"
      ],
      "execution_count": 190,
      "outputs": [
        {
          "output_type": "stream",
          "text": [
            "Model: \"encoder\"\n",
            "__________________________________________________________________________________________________\n",
            "Layer (type)                    Output Shape         Param #     Connected to                     \n",
            "==================================================================================================\n",
            "encoder_inputs (InputLayer)     [(None, None, 28)]   0                                            \n",
            "__________________________________________________________________________________________________\n",
            "bidirectional_1 (Bidirectional) [(None, 512), (None, 583680      encoder_inputs[0][0]             \n",
            "__________________________________________________________________________________________________\n",
            "concatenate_2 (Concatenate)     (None, 512)          0           bidirectional_1[0][1]            \n",
            "                                                                 bidirectional_1[0][3]            \n",
            "__________________________________________________________________________________________________\n",
            "concatenate_3 (Concatenate)     (None, 512)          0           bidirectional_1[0][2]            \n",
            "                                                                 bidirectional_1[0][4]            \n",
            "==================================================================================================\n",
            "Total params: 583,680\n",
            "Trainable params: 583,680\n",
            "Non-trainable params: 0\n",
            "__________________________________________________________________________________________________\n"
          ],
          "name": "stdout"
        }
      ]
    },
    {
      "cell_type": "markdown",
      "metadata": {
        "colab_type": "text",
        "id": "glHWBP-e54k0"
      },
      "source": [
        "### 3.2. Decoder network\n",
        "\n",
        "- Inputs:  \n",
        "\n",
        "    -- one-hot encode of the target language\n",
        "    \n",
        "    -- The initial hidden state $h_t$ \n",
        "    \n",
        "    -- The initial conveyor belt $c_t$ \n",
        "\n",
        "- Return: \n",
        "\n",
        "    -- output (all the hidden states) $h_1, \\cdots , h_t$\n",
        "\n",
        "    -- the final hidden state  $h_t$ (discarded in the training and used in the prediction)\n",
        "    \n",
        "    -- the final conveyor belt $c_t$ (discarded in the training and used in the prediction)"
      ]
    },
    {
      "cell_type": "code",
      "metadata": {
        "colab_type": "code",
        "id": "ZvMITkMq54k1",
        "colab": {}
      },
      "source": [
        "#French Decoder\n",
        "from tensorflow.keras.layers import Input, LSTM, Dense, Bidirectional, Concatenate\n",
        "from tensorflow.keras.models import Model\n",
        "\n",
        "# inputs of the decoder network\n",
        "decoder_input_h = Input(shape=(2*latent_dim,), name='decoder_input_h')\n",
        "decoder_input_c = Input(shape=(2*latent_dim,), name='decoder_input_c')\n",
        "decoder_input_fr = Input(shape=(None, num_fr_decoder_tokens), name='decoder_input_fr')\n",
        "\n",
        "# set the LSTM layer\n",
        "fr_decoder_lstm = LSTM(2*latent_dim, return_sequences=True, \n",
        "                    return_state=True, dropout=0.5, name='fr_decoder_lstm')\n",
        "fr_decoder_lstm_outputs, state_h, state_c = fr_decoder_lstm(decoder_input_fr, \n",
        "                                                      initial_state=[decoder_input_h, decoder_input_c])\n",
        "#fr_decoder_bilstm = Bidirectional(LSTM(2*latent_dim, return_sequences=True, \n",
        "#                                  return_state=True, dropout=0.5, name='fr_decoder_bilstm'))\n",
        "#fr_decoder_bilstm_outputs, forward_h, forward_c, backward_h, backward_c = fr_decoder_bilstm(decoder_input_fr, \n",
        "#                                                     initial_state=[decoder_input_h, decoder_input_c])\n",
        "\n",
        "#Concatenate forward and backward states\n",
        "#state_h = Concatenate()([forward_h, backward_h])\n",
        "#state_c = Concatenate()([forward_c, backward_c])\n",
        "\n",
        "# set the dense layer\n",
        "fr_decoder_dense = Dense(num_fr_decoder_tokens, activation='softmax', name='fr_decoder_dense')\n",
        "fr_decoder_outputs = fr_decoder_dense(fr_decoder_lstm_outputs)\n",
        "\n",
        "# build the decoder network model\n",
        "fr_decoder_model = Model(inputs=[decoder_input_fr, decoder_input_h, decoder_input_c],\n",
        "                      outputs=[fr_decoder_outputs, state_h, state_c],\n",
        "                      name='fr_decoder')"
      ],
      "execution_count": 0,
      "outputs": []
    },
    {
      "cell_type": "markdown",
      "metadata": {
        "colab_type": "text",
        "id": "6ct641mw54k9"
      },
      "source": [
        "Print a summary and save the encoder network structure to \"./decoder.jpg\""
      ]
    },
    {
      "cell_type": "code",
      "metadata": {
        "colab_type": "code",
        "id": "H89HdpXE54lA",
        "outputId": "24561d25-24a5-425f-f6fc-45bff3843b95",
        "colab": {
          "base_uri": "https://localhost:8080/",
          "height": 384
        }
      },
      "source": [
        "from IPython.display import SVG\n",
        "from tensorflow.keras.utils import model_to_dot, plot_model\n",
        "\n",
        "SVG(model_to_dot(fr_decoder_model, show_shapes=False).create(prog='dot', format='svg'))\n",
        "\n",
        "plot_model(\n",
        "    model=fr_decoder_model, show_shapes=False,\n",
        "    to_file='fr_decoder.jpg'\n",
        ")\n",
        "\n",
        "fr_decoder_model.summary()"
      ],
      "execution_count": 192,
      "outputs": [
        {
          "output_type": "stream",
          "text": [
            "Model: \"fr_decoder\"\n",
            "__________________________________________________________________________________________________\n",
            "Layer (type)                    Output Shape         Param #     Connected to                     \n",
            "==================================================================================================\n",
            "decoder_input_fr (InputLayer)   [(None, None, 30)]   0                                            \n",
            "__________________________________________________________________________________________________\n",
            "decoder_input_h (InputLayer)    [(None, 512)]        0                                            \n",
            "__________________________________________________________________________________________________\n",
            "decoder_input_c (InputLayer)    [(None, 512)]        0                                            \n",
            "__________________________________________________________________________________________________\n",
            "fr_decoder_lstm (LSTM)          [(None, None, 512),  1112064     decoder_input_fr[0][0]           \n",
            "                                                                 decoder_input_h[0][0]            \n",
            "                                                                 decoder_input_c[0][0]            \n",
            "__________________________________________________________________________________________________\n",
            "fr_decoder_dense (Dense)        (None, None, 30)     15390       fr_decoder_lstm[0][0]            \n",
            "==================================================================================================\n",
            "Total params: 1,127,454\n",
            "Trainable params: 1,127,454\n",
            "Non-trainable params: 0\n",
            "__________________________________________________________________________________________________\n"
          ],
          "name": "stdout"
        }
      ]
    },
    {
      "cell_type": "code",
      "metadata": {
        "colab_type": "code",
        "id": "7UICdEn754lL",
        "colab": {}
      },
      "source": [
        "#Spanish Decoder\n",
        "from tensorflow.keras.layers import Input, LSTM, Dense, Bidirectional, Concatenate\n",
        "from tensorflow.keras.models import Model\n",
        "\n",
        "# inputs of the decoder network\n",
        "decoder_input_h = Input(shape=(2*latent_dim,), name='decoder_input_h')\n",
        "decoder_input_c = Input(shape=(2*latent_dim,), name='decoder_input_c')\n",
        "decoder_input_sp = Input(shape=(None, num_sp_decoder_tokens), name='decoder_input_sp')\n",
        "\n",
        "# set the LSTM layer\n",
        "sp_decoder_lstm = LSTM(2*latent_dim, return_sequences=True, \n",
        "                    return_state=True, dropout=0.5, name='sp_decoder_lstm')\n",
        "sp_decoder_lstm_outputs, state_h, state_c = sp_decoder_lstm(decoder_input_sp, \n",
        "                                                      initial_state=[decoder_input_h, decoder_input_c])\n",
        "#decoder_bilstm = Bidirectional(LSTM(latent_dim, return_sequences=True, \n",
        "#                    return_state=True, dropout=0.5, name='decoder_bilstm'))\n",
        "#decoder_bilstm_outputs, forward_h, forward_c, backward_h, backward_c = decoder_bilstm(decoder_input_x, \n",
        "#                                                      initial_state=[decoder_input_h, decoder_input_c])\n",
        "\n",
        "#Concatenate forward and backward states\n",
        "#state_h = Concatenate()([forward_h, backward_h])\n",
        "#state_c = Concatenate()([forward_c, backward_c])\n",
        "\n",
        "# set the dense layer\n",
        "sp_decoder_dense = Dense(num_sp_decoder_tokens, activation='softmax', name='sp_decoder_dense')\n",
        "sp_decoder_outputs = sp_decoder_dense(sp_decoder_lstm_outputs)\n",
        "\n",
        "# build the decoder network model\n",
        "sp_decoder_model = Model(inputs=[decoder_input_sp, decoder_input_h, decoder_input_c],\n",
        "                      outputs=[sp_decoder_outputs, state_h, state_c],\n",
        "                      name='sp_decoder')"
      ],
      "execution_count": 0,
      "outputs": []
    },
    {
      "cell_type": "markdown",
      "metadata": {
        "colab_type": "text",
        "id": "StrIV-Bx54lR"
      },
      "source": [
        "Print a summary and save the encoder network structure to \"./decoder.jpg\""
      ]
    },
    {
      "cell_type": "code",
      "metadata": {
        "colab_type": "code",
        "id": "kK6twmIM54lT",
        "outputId": "bf9d0779-13f8-4a91-fa77-c31697556cc5",
        "colab": {
          "base_uri": "https://localhost:8080/",
          "height": 384
        }
      },
      "source": [
        "from IPython.display import SVG\n",
        "from tensorflow.keras.utils import model_to_dot, plot_model\n",
        "\n",
        "SVG(model_to_dot(sp_decoder_model, show_shapes=False).create(prog='dot', format='svg'))\n",
        "\n",
        "plot_model(\n",
        "    model=sp_decoder_model, show_shapes=False,\n",
        "    to_file='sp_decoder.jpg'\n",
        ")\n",
        "\n",
        "sp_decoder_model.summary()"
      ],
      "execution_count": 194,
      "outputs": [
        {
          "output_type": "stream",
          "text": [
            "Model: \"sp_decoder\"\n",
            "__________________________________________________________________________________________________\n",
            "Layer (type)                    Output Shape         Param #     Connected to                     \n",
            "==================================================================================================\n",
            "decoder_input_sp (InputLayer)   [(None, None, 30)]   0                                            \n",
            "__________________________________________________________________________________________________\n",
            "decoder_input_h (InputLayer)    [(None, 512)]        0                                            \n",
            "__________________________________________________________________________________________________\n",
            "decoder_input_c (InputLayer)    [(None, 512)]        0                                            \n",
            "__________________________________________________________________________________________________\n",
            "sp_decoder_lstm (LSTM)          [(None, None, 512),  1112064     decoder_input_sp[0][0]           \n",
            "                                                                 decoder_input_h[0][0]            \n",
            "                                                                 decoder_input_c[0][0]            \n",
            "__________________________________________________________________________________________________\n",
            "sp_decoder_dense (Dense)        (None, None, 30)     15390       sp_decoder_lstm[0][0]            \n",
            "==================================================================================================\n",
            "Total params: 1,127,454\n",
            "Trainable params: 1,127,454\n",
            "Non-trainable params: 0\n",
            "__________________________________________________________________________________________________\n"
          ],
          "name": "stdout"
        }
      ]
    },
    {
      "cell_type": "markdown",
      "metadata": {
        "colab_type": "text",
        "id": "6UNAi8XB54lZ"
      },
      "source": [
        "### 3.3. Connect the encoder and decoder"
      ]
    },
    {
      "cell_type": "code",
      "metadata": {
        "colab_type": "code",
        "id": "Vj-7-QWk54la",
        "colab": {}
      },
      "source": [
        "# input layers\n",
        "encoder_input_x = Input(shape=(None, num_encoder_tokens), name='encoder_input_x')\n",
        "decoder_input_fr = Input(shape=(None, num_fr_decoder_tokens), name='decoder_input_fr')\n",
        "decoder_input_sp = Input(shape=(None, num_sp_decoder_tokens), name='decoder_input_sp')\n",
        "\n",
        "# connect encoder to decoder\n",
        "encoder_final_states = encoder_model(encoder_input_x)\n",
        "fr_decoder_lstm_output, _, _ = fr_decoder_lstm(decoder_input_fr, initial_state=encoder_final_states)\n",
        "fr_decoder_pred = fr_decoder_dense(fr_decoder_lstm_output)\n",
        "sp_decoder_lstm_output, _, _ = sp_decoder_lstm(decoder_input_sp, initial_state=encoder_final_states)\n",
        "sp_decoder_pred = sp_decoder_dense(sp_decoder_lstm_output)\n",
        "\n",
        "model = Model(inputs=[encoder_input_x, decoder_input_fr, decoder_input_sp], \n",
        "              outputs=[fr_decoder_pred, sp_decoder_pred], \n",
        "              name='model_training')"
      ],
      "execution_count": 0,
      "outputs": []
    },
    {
      "cell_type": "code",
      "metadata": {
        "colab_type": "code",
        "id": "_D6dsS5_54le",
        "outputId": "a4742f7b-4c6d-4046-97e8-5d5fe13ef2f6",
        "colab": {
          "base_uri": "https://localhost:8080/",
          "height": 54
        }
      },
      "source": [
        "print(state_h)\n",
        "print(decoder_input_h)"
      ],
      "execution_count": 196,
      "outputs": [
        {
          "output_type": "stream",
          "text": [
            "Tensor(\"sp_decoder_lstm_4/while/Exit_2:0\", shape=(?, 512), dtype=float32)\n",
            "Tensor(\"decoder_input_h_4:0\", shape=(?, 512), dtype=float32)\n"
          ],
          "name": "stdout"
        }
      ]
    },
    {
      "cell_type": "code",
      "metadata": {
        "colab_type": "code",
        "id": "oNMEJEKZ54lj",
        "outputId": "8eacdae1-2824-4002-9db8-5365d4097f67",
        "colab": {
          "base_uri": "https://localhost:8080/",
          "height": 531
        }
      },
      "source": [
        "from IPython.display import SVG\n",
        "from tensorflow.keras.utils import model_to_dot, plot_model\n",
        "\n",
        "SVG(model_to_dot(model, show_shapes=False).create(prog='dot', format='svg'))\n",
        "\n",
        "plot_model(\n",
        "    model=model, show_shapes=False,\n",
        "    to_file='model_training.jpg'\n",
        ")\n",
        "\n",
        "model.summary()"
      ],
      "execution_count": 197,
      "outputs": [
        {
          "output_type": "stream",
          "text": [
            "Model: \"model_training\"\n",
            "__________________________________________________________________________________________________\n",
            "Layer (type)                    Output Shape         Param #     Connected to                     \n",
            "==================================================================================================\n",
            "encoder_input_x (InputLayer)    [(None, None, 28)]   0                                            \n",
            "__________________________________________________________________________________________________\n",
            "decoder_input_fr (InputLayer)   [(None, None, 30)]   0                                            \n",
            "__________________________________________________________________________________________________\n",
            "encoder (Model)                 [(None, 512), (None, 583680      encoder_input_x[0][0]            \n",
            "__________________________________________________________________________________________________\n",
            "decoder_input_sp (InputLayer)   [(None, None, 30)]   0                                            \n",
            "__________________________________________________________________________________________________\n",
            "fr_decoder_lstm (LSTM)          [(None, None, 512),  1112064     decoder_input_fr[0][0]           \n",
            "                                                                 encoder[1][0]                    \n",
            "                                                                 encoder[1][1]                    \n",
            "__________________________________________________________________________________________________\n",
            "sp_decoder_lstm (LSTM)          [(None, None, 512),  1112064     decoder_input_sp[0][0]           \n",
            "                                                                 encoder[1][0]                    \n",
            "                                                                 encoder[1][1]                    \n",
            "__________________________________________________________________________________________________\n",
            "fr_decoder_dense (Dense)        (None, None, 30)     15390       fr_decoder_lstm[1][0]            \n",
            "__________________________________________________________________________________________________\n",
            "sp_decoder_dense (Dense)        (None, None, 30)     15390       sp_decoder_lstm[1][0]            \n",
            "==================================================================================================\n",
            "Total params: 2,838,588\n",
            "Trainable params: 2,838,588\n",
            "Non-trainable params: 0\n",
            "__________________________________________________________________________________________________\n"
          ],
          "name": "stdout"
        }
      ]
    },
    {
      "cell_type": "markdown",
      "metadata": {
        "colab_type": "text",
        "id": "fslh7olF54lr"
      },
      "source": [
        "### 3.5. Fit the model on the bilingual dataset\n",
        "\n",
        "- encoder_input_data: one-hot encode of the input language\n",
        "\n",
        "- decoder_input_data: one-hot encode of the input language\n",
        "\n",
        "- decoder_target_data: labels (left shift of decoder_input_data)\n",
        "\n",
        "- tune the hyper-parameters\n",
        "\n",
        "- stop when the validation loss stop decreasing."
      ]
    },
    {
      "cell_type": "code",
      "metadata": {
        "colab_type": "code",
        "id": "O0I3lFQ254lv",
        "outputId": "532dc7d1-2bf1-48f9-ee37-fbac1c81b0bf",
        "colab": {
          "base_uri": "https://localhost:8080/",
          "height": 109
        }
      },
      "source": [
        "print('shape of encoder_input_data' + str(encoder_input_data.shape))\n",
        "print('shape of fr_decoder_input_data' + str(fr_decoder_input_data.shape))\n",
        "print('shape of fr_decoder_target_data' + str(fr_decoder_target_data.shape))\n",
        "print('shape of sp_decoder_input_data' + str(sp_decoder_input_data.shape))\n",
        "print('shape of sp_decoder_target_data' + str(sp_decoder_target_data.shape))"
      ],
      "execution_count": 198,
      "outputs": [
        {
          "output_type": "stream",
          "text": [
            "shape of encoder_input_data(50000, 203, 28)\n",
            "shape of fr_decoder_input_data(50000, 226, 30)\n",
            "shape of fr_decoder_target_data(50000, 226, 30)\n",
            "shape of sp_decoder_input_data(50000, 240, 30)\n",
            "shape of sp_decoder_target_data(50000, 240, 30)\n"
          ],
          "name": "stdout"
        }
      ]
    },
    {
      "cell_type": "code",
      "metadata": {
        "colab_type": "code",
        "id": "29nuA_g454l2",
        "outputId": "709f0605-624e-449c-de26-8accfdb299ac",
        "colab": {
          "base_uri": "https://localhost:8080/",
          "height": 453
        }
      },
      "source": [
        "model.compile(optimizer='rmsprop', loss='categorical_crossentropy')\n",
        "\n",
        "model.fit([encoder_input_data, fr_decoder_input_data, sp_decoder_input_data],  # training data\n",
        "          [fr_decoder_target_data, sp_decoder_target_data],                    # labels (left shift of the target sequences)\n",
        "          batch_size=64, epochs=50, validation_split=0.2)\n",
        "\n",
        "model.save('drive/My Drive/CS 583/seq2seq.h5')"
      ],
      "execution_count": 199,
      "outputs": [
        {
          "output_type": "stream",
          "text": [
            "Train on 40000 samples, validate on 10000 samples\n",
            "Epoch 1/50\n",
            " 7104/40000 [====>.........................] - ETA: 13:14 - loss: 1.2476 - fr_decoder_dense_loss: 0.6590 - sp_decoder_dense_loss: 0.5886"
          ],
          "name": "stdout"
        },
        {
          "output_type": "error",
          "ename": "KeyboardInterrupt",
          "evalue": "ignored",
          "traceback": [
            "\u001b[0;31m---------------------------------------------------------------------------\u001b[0m",
            "\u001b[0;31mKeyboardInterrupt\u001b[0m                         Traceback (most recent call last)",
            "\u001b[0;32m<ipython-input-199-c577341d3990>\u001b[0m in \u001b[0;36m<module>\u001b[0;34m()\u001b[0m\n\u001b[1;32m      3\u001b[0m model.fit([encoder_input_data, fr_decoder_input_data, sp_decoder_input_data],  # training data\n\u001b[1;32m      4\u001b[0m           \u001b[0;34m[\u001b[0m\u001b[0mfr_decoder_target_data\u001b[0m\u001b[0;34m,\u001b[0m \u001b[0msp_decoder_target_data\u001b[0m\u001b[0;34m]\u001b[0m\u001b[0;34m,\u001b[0m                    \u001b[0;31m# labels (left shift of the target sequences)\u001b[0m\u001b[0;34m\u001b[0m\u001b[0;34m\u001b[0m\u001b[0m\n\u001b[0;32m----> 5\u001b[0;31m           batch_size=64, epochs=50, validation_split=0.2)\n\u001b[0m\u001b[1;32m      6\u001b[0m \u001b[0;34m\u001b[0m\u001b[0m\n\u001b[1;32m      7\u001b[0m \u001b[0mmodel\u001b[0m\u001b[0;34m.\u001b[0m\u001b[0msave\u001b[0m\u001b[0;34m(\u001b[0m\u001b[0;34m'drive/My Drive/CS 583/seq2seq.h5'\u001b[0m\u001b[0;34m)\u001b[0m\u001b[0;34m\u001b[0m\u001b[0;34m\u001b[0m\u001b[0m\n",
            "\u001b[0;32m/usr/local/lib/python3.6/dist-packages/tensorflow_core/python/keras/engine/training.py\u001b[0m in \u001b[0;36mfit\u001b[0;34m(self, x, y, batch_size, epochs, verbose, callbacks, validation_split, validation_data, shuffle, class_weight, sample_weight, initial_epoch, steps_per_epoch, validation_steps, validation_freq, max_queue_size, workers, use_multiprocessing, **kwargs)\u001b[0m\n\u001b[1;32m    725\u001b[0m         \u001b[0mmax_queue_size\u001b[0m\u001b[0;34m=\u001b[0m\u001b[0mmax_queue_size\u001b[0m\u001b[0;34m,\u001b[0m\u001b[0;34m\u001b[0m\u001b[0;34m\u001b[0m\u001b[0m\n\u001b[1;32m    726\u001b[0m         \u001b[0mworkers\u001b[0m\u001b[0;34m=\u001b[0m\u001b[0mworkers\u001b[0m\u001b[0;34m,\u001b[0m\u001b[0;34m\u001b[0m\u001b[0;34m\u001b[0m\u001b[0m\n\u001b[0;32m--> 727\u001b[0;31m         use_multiprocessing=use_multiprocessing)\n\u001b[0m\u001b[1;32m    728\u001b[0m \u001b[0;34m\u001b[0m\u001b[0m\n\u001b[1;32m    729\u001b[0m   def evaluate(self,\n",
            "\u001b[0;32m/usr/local/lib/python3.6/dist-packages/tensorflow_core/python/keras/engine/training_arrays.py\u001b[0m in \u001b[0;36mfit\u001b[0;34m(self, model, x, y, batch_size, epochs, verbose, callbacks, validation_split, validation_data, shuffle, class_weight, sample_weight, initial_epoch, steps_per_epoch, validation_steps, validation_freq, **kwargs)\u001b[0m\n\u001b[1;32m    673\u001b[0m         \u001b[0mvalidation_steps\u001b[0m\u001b[0;34m=\u001b[0m\u001b[0mvalidation_steps\u001b[0m\u001b[0;34m,\u001b[0m\u001b[0;34m\u001b[0m\u001b[0;34m\u001b[0m\u001b[0m\n\u001b[1;32m    674\u001b[0m         \u001b[0mvalidation_freq\u001b[0m\u001b[0;34m=\u001b[0m\u001b[0mvalidation_freq\u001b[0m\u001b[0;34m,\u001b[0m\u001b[0;34m\u001b[0m\u001b[0;34m\u001b[0m\u001b[0m\n\u001b[0;32m--> 675\u001b[0;31m         steps_name='steps_per_epoch')\n\u001b[0m\u001b[1;32m    676\u001b[0m \u001b[0;34m\u001b[0m\u001b[0m\n\u001b[1;32m    677\u001b[0m   def evaluate(self,\n",
            "\u001b[0;32m/usr/local/lib/python3.6/dist-packages/tensorflow_core/python/keras/engine/training_arrays.py\u001b[0m in \u001b[0;36mmodel_iteration\u001b[0;34m(model, inputs, targets, sample_weights, batch_size, epochs, verbose, callbacks, val_inputs, val_targets, val_sample_weights, shuffle, initial_epoch, steps_per_epoch, validation_steps, validation_freq, mode, validation_in_fit, prepared_feed_values_from_dataset, steps_name, **kwargs)\u001b[0m\n\u001b[1;32m    392\u001b[0m \u001b[0;34m\u001b[0m\u001b[0m\n\u001b[1;32m    393\u001b[0m         \u001b[0;31m# Get outputs.\u001b[0m\u001b[0;34m\u001b[0m\u001b[0;34m\u001b[0m\u001b[0;34m\u001b[0m\u001b[0m\n\u001b[0;32m--> 394\u001b[0;31m         \u001b[0mbatch_outs\u001b[0m \u001b[0;34m=\u001b[0m \u001b[0mf\u001b[0m\u001b[0;34m(\u001b[0m\u001b[0mins_batch\u001b[0m\u001b[0;34m)\u001b[0m\u001b[0;34m\u001b[0m\u001b[0;34m\u001b[0m\u001b[0m\n\u001b[0m\u001b[1;32m    395\u001b[0m         \u001b[0;32mif\u001b[0m \u001b[0;32mnot\u001b[0m \u001b[0misinstance\u001b[0m\u001b[0;34m(\u001b[0m\u001b[0mbatch_outs\u001b[0m\u001b[0;34m,\u001b[0m \u001b[0mlist\u001b[0m\u001b[0;34m)\u001b[0m\u001b[0;34m:\u001b[0m\u001b[0;34m\u001b[0m\u001b[0;34m\u001b[0m\u001b[0m\n\u001b[1;32m    396\u001b[0m           \u001b[0mbatch_outs\u001b[0m \u001b[0;34m=\u001b[0m \u001b[0;34m[\u001b[0m\u001b[0mbatch_outs\u001b[0m\u001b[0;34m]\u001b[0m\u001b[0;34m\u001b[0m\u001b[0;34m\u001b[0m\u001b[0m\n",
            "\u001b[0;32m/usr/local/lib/python3.6/dist-packages/tensorflow_core/python/keras/backend.py\u001b[0m in \u001b[0;36m__call__\u001b[0;34m(self, inputs)\u001b[0m\n\u001b[1;32m   3474\u001b[0m \u001b[0;34m\u001b[0m\u001b[0m\n\u001b[1;32m   3475\u001b[0m     fetched = self._callable_fn(*array_vals,\n\u001b[0;32m-> 3476\u001b[0;31m                                 run_metadata=self.run_metadata)\n\u001b[0m\u001b[1;32m   3477\u001b[0m     \u001b[0mself\u001b[0m\u001b[0;34m.\u001b[0m\u001b[0m_call_fetch_callbacks\u001b[0m\u001b[0;34m(\u001b[0m\u001b[0mfetched\u001b[0m\u001b[0;34m[\u001b[0m\u001b[0;34m-\u001b[0m\u001b[0mlen\u001b[0m\u001b[0;34m(\u001b[0m\u001b[0mself\u001b[0m\u001b[0;34m.\u001b[0m\u001b[0m_fetches\u001b[0m\u001b[0;34m)\u001b[0m\u001b[0;34m:\u001b[0m\u001b[0;34m]\u001b[0m\u001b[0;34m)\u001b[0m\u001b[0;34m\u001b[0m\u001b[0;34m\u001b[0m\u001b[0m\n\u001b[1;32m   3478\u001b[0m     output_structure = nest.pack_sequence_as(\n",
            "\u001b[0;32m/usr/local/lib/python3.6/dist-packages/tensorflow_core/python/client/session.py\u001b[0m in \u001b[0;36m__call__\u001b[0;34m(self, *args, **kwargs)\u001b[0m\n\u001b[1;32m   1470\u001b[0m         ret = tf_session.TF_SessionRunCallable(self._session._session,\n\u001b[1;32m   1471\u001b[0m                                                \u001b[0mself\u001b[0m\u001b[0;34m.\u001b[0m\u001b[0m_handle\u001b[0m\u001b[0;34m,\u001b[0m \u001b[0margs\u001b[0m\u001b[0;34m,\u001b[0m\u001b[0;34m\u001b[0m\u001b[0;34m\u001b[0m\u001b[0m\n\u001b[0;32m-> 1472\u001b[0;31m                                                run_metadata_ptr)\n\u001b[0m\u001b[1;32m   1473\u001b[0m         \u001b[0;32mif\u001b[0m \u001b[0mrun_metadata\u001b[0m\u001b[0;34m:\u001b[0m\u001b[0;34m\u001b[0m\u001b[0;34m\u001b[0m\u001b[0m\n\u001b[1;32m   1474\u001b[0m           \u001b[0mproto_data\u001b[0m \u001b[0;34m=\u001b[0m \u001b[0mtf_session\u001b[0m\u001b[0;34m.\u001b[0m\u001b[0mTF_GetBuffer\u001b[0m\u001b[0;34m(\u001b[0m\u001b[0mrun_metadata_ptr\u001b[0m\u001b[0;34m)\u001b[0m\u001b[0;34m\u001b[0m\u001b[0;34m\u001b[0m\u001b[0m\n",
            "\u001b[0;31mKeyboardInterrupt\u001b[0m: "
          ]
        }
      ]
    },
    {
      "cell_type": "markdown",
      "metadata": {
        "colab_type": "text",
        "id": "PTD2utmB54l9"
      },
      "source": [
        "## 4. Make predictions\n",
        "\n",
        "\n",
        "### 4.1. Translate English to French and Spanish\n",
        "\n",
        "1. Encoder read a sentence (source language) and output its final states, $h_t$ and $c_t$.\n",
        "2. Take the [star] sign \"\\t\" and the final state $h_t$ and $c_t$ as input and run the decoder.\n",
        "3. Get the new states and predicted probability distribution.\n",
        "4. sample a char from the predicted probability distribution\n",
        "5. take the sampled char and the new states as input and repeat the process (stop if reach the [stop] sign \"\\n\")."
      ]
    },
    {
      "cell_type": "code",
      "metadata": {
        "colab_type": "code",
        "id": "uLYL5EPS54l_",
        "colab": {}
      },
      "source": [
        "# Reverse-lookup token index to decode sequences back to something readable.\n",
        "reverse_input_char_index = dict((i, char) for char, i in input_token_index.items())\n",
        "reverse_fr_target_char_index = dict((i, char) for char, i in fr_target_token_index.items())\n",
        "reverse_sp_target_char_index = dict((i, char) for char, i in sp_target_token_index.items())"
      ],
      "execution_count": 0,
      "outputs": []
    },
    {
      "cell_type": "code",
      "metadata": {
        "colab_type": "code",
        "id": "YSQqt1UE54mC",
        "colab": {}
      },
      "source": [
        "def decode_french_sequence(input_seq):\n",
        "    states_value = encoder_model.predict(input_seq)\n",
        "\n",
        "    target_seq = numpy.zeros((1, 1, num_fr_decoder_tokens))\n",
        "    target_seq[0, 0, fr_target_token_index['\\t']] = 1.\n",
        "\n",
        "    stop_condition = False\n",
        "    decoded_sentence = ''\n",
        "    while not stop_condition:\n",
        "        output_tokens, h, c = fr_decoder_model.predict([target_seq] + states_value)\n",
        "\n",
        "        # this line of code is greedy selection\n",
        "        # try to use multinomial sampling instead (with temperature)\n",
        "        sampled_token_index = numpy.argmax(output_tokens[0, -1, :])\n",
        "        \n",
        "        sampled_char = reverse_fr_target_char_index[sampled_token_index]\n",
        "        decoded_sentence += sampled_char\n",
        "\n",
        "        if (sampled_char == '\\n' or\n",
        "           len(decoded_sentence) > max_fr_decoder_seq_length):\n",
        "            stop_condition = True\n",
        "\n",
        "        target_seq = numpy.zeros((1, 1, num_fr_decoder_tokens))\n",
        "        target_seq[0, 0, sampled_token_index] = 1.\n",
        "\n",
        "        states_value = [h, c]\n",
        "\n",
        "    return decoded_sentence"
      ],
      "execution_count": 0,
      "outputs": []
    },
    {
      "cell_type": "code",
      "metadata": {
        "colab_type": "code",
        "id": "tidIZA-y54mH",
        "colab": {}
      },
      "source": [
        "def decode_spanish_sequence(input_seq):\n",
        "    states_value = encoder_model.predict(input_seq)\n",
        "\n",
        "    target_seq = numpy.zeros((1, 1, num_sp_decoder_tokens))\n",
        "    target_seq[0, 0, fr_target_token_index['\\t']] = 1.\n",
        "\n",
        "    stop_condition = False\n",
        "    decoded_sentence = ''\n",
        "    while not stop_condition:\n",
        "        output_tokens, h, c = sp_decoder_model.predict([target_seq] + states_value)\n",
        "\n",
        "        # this line of code is greedy selection\n",
        "        # try to use multinomial sampling instead (with temperature)\n",
        "        sampled_token_index = numpy.argmax(output_tokens[0, -1, :])\n",
        "\n",
        "        sampled_char = reverse_sp_target_char_index.get(sampled_token_index)\n",
        "        decoded_sentence += sampled_char\n",
        "\n",
        "        if (sampled_char == '\\n' or\n",
        "          len(decoded_sentence) > max_sp_decoder_seq_length):\n",
        "          stop_condition = True\n",
        "\n",
        "        target_seq = numpy.zeros((1, 1, num_sp_decoder_tokens))\n",
        "        target_seq[0, 0, sampled_token_index] = 1.\n",
        "\n",
        "        states_value = [h, c]\n",
        "\n",
        "    return decoded_sentence"
      ],
      "execution_count": 0,
      "outputs": []
    },
    {
      "cell_type": "code",
      "metadata": {
        "colab_type": "code",
        "id": "vkC1ZhEP54mL",
        "colab": {}
      },
      "source": [
        "for seq_index in range(2100, 2120):\n",
        "    # Take one sequence (part of the training set)\n",
        "    # for trying out decoding.\n",
        "    input_seq = encoder_input_data[seq_index: seq_index + 1]\n",
        "    \n",
        "    french_decoded_sentence = decode_french_sequence(input_seq)\n",
        "    spanish_decoded_sentence = decode_spanish_sequence(input_seq)\n",
        "    print('-')\n",
        "    print('English:       ', input_texts[seq_index])\n",
        "    print('French (true): ', french_target_texts[seq_index][1:-1])\n",
        "    print('French (pred): ', french_decoded_sentence[0:-1])\n",
        "    print('Spanish (true): ', spanish_target_texts[seq_index][1:-1])\n",
        "    print('Spanish (pred): ', spanish_decoded_sentence[0:-1])"
      ],
      "execution_count": 0,
      "outputs": []
    },
    {
      "cell_type": "markdown",
      "metadata": {
        "colab_type": "text",
        "id": "lxgaBFux54mP"
      },
      "source": [
        "### 4.2. Translate an English sentence to the target language\n",
        "\n",
        "1. Tokenization\n",
        "2. One-hot encode\n",
        "3. Translate"
      ]
    },
    {
      "cell_type": "code",
      "metadata": {
        "colab_type": "code",
        "id": "_qyP9YSD54mQ",
        "colab": {}
      },
      "source": [
        "input_sentence = 'why is that'\n",
        "\n",
        "#Tokenize to individual characters\n",
        "tokens = [char for char in input_sentence]\n",
        "#Convert tokens to integer indices based on input (English) word_index dictionary\n",
        "input_sequence = [input_token_index.get(token) for token in tokens]\n",
        "#Convert to numpy array and reshape\n",
        "input_sequence = numpy.array(input_sequence).reshape((1,len(input_sequence)))\n",
        "#Pad sequence with zeroes\n",
        "seqs_pad = pad_sequences(input_sequence, maxlen=max_encoder_seq_length, padding='post')\n",
        "#Do one-hot encoding\n",
        "input_x = onehot_encode(seqs_pad, max_encoder_seq_length, num_encoder_tokens)\n",
        "\n",
        "#Translate English sentence\n",
        "fr_translated_sentence = decode_french_sequence(input_x)\n",
        "sp_translated_sentence = decode_spanish_sequence(input_x)\n",
        "\n",
        "#Print original sentence and translations\n",
        "print('source sentence is: ' + input_sentence)\n",
        "print('French translated sentence is: ' + fr_translated_sentence[:-1])\n",
        "print('Spanish translated sentence is: ' + sp_translated_sentence[:-1])"
      ],
      "execution_count": 0,
      "outputs": []
    },
    {
      "cell_type": "markdown",
      "metadata": {
        "colab_type": "text",
        "id": "SsxW0hww54mU"
      },
      "source": [
        "## 5. Evaluate the translation using BLEU score\n",
        "\n",
        "Reference: \n",
        "- https://machinelearningmastery.com/calculate-bleu-score-for-text-python/\n",
        "- https://en.wikipedia.org/wiki/BLEU\n",
        "\n",
        "\n",
        "**Hint:** \n",
        "\n",
        "- Randomly partition the dataset to training, validation, and test. \n",
        "\n",
        "- Evaluate the BLEU score using the test set. Report the average.\n",
        "\n",
        "- A reasonable BLEU score should be 0.1 ~ 0.3."
      ]
    },
    {
      "cell_type": "code",
      "metadata": {
        "colab_type": "code",
        "id": "KLYa_b3054mV",
        "colab": {}
      },
      "source": [
        "##Calculate average BLEU score on test pairs\n",
        "from nltk.translate.bleu_score import sentence_bleu\n",
        "#BLEU score for French and Spanish translations\n",
        "\n",
        "scores = numpy.array((None,2))\n",
        "print('Show Translations and BLEU Scores Every 1,000 Sentence Pairs')\n",
        "for i, test_pair in enumerate(test_pairs):\n",
        "  #Get reference sentence from test set\n",
        "  french_reference = test_pair[1].split(' ') #Actual French sentence\n",
        "  spanish_reference = test_pair[2].split(' ') #Actual Spanish sentence\n",
        "\n",
        "  #Predict translation from English sentence\n",
        "  input_sentence = test_pair[0]\n",
        "  #Tokenize to individual characters\n",
        "  tokens = [char for char in input_sentence]\n",
        "  #Convert tokens to integer indices based on input (English) word_index dictionary\n",
        "  input_sequence = [input_token_index.get(token) for token in tokens]\n",
        "  #Convert to numpy array and reshape\n",
        "  input_sequence = numpy.array(input_sequence).reshape((1,len(input_sequence)))\n",
        "  #Pad sequence with zeroes\n",
        "  seqs_pad = pad_sequences(input_sequence, maxlen=max_encoder_seq_length, padding='post')\n",
        "  #Do one-hot encoding\n",
        "  input_x = onehot_encode(seqs_pad, max_encoder_seq_length, num_encoder_tokens)\n",
        "  #Translate to French and Spanish\n",
        "  french_translation = decode_french_sequence(input_x)[:-1]\n",
        "  french_candidate = french_translation.split(' ') \n",
        "  spanish_translation = decode_spanish_sequence(input_x)[:-1]\n",
        "  spanish_candidate = spanish_translation.split(' ') \n",
        "\n",
        "  #Calculate BLEU scores\n",
        "  french_bleu = sentence_bleu(french_reference, french_candidate)\n",
        "  spanish_bleu = sentence_bleu(spanish_reference, spanish_candidate)\n",
        "  \n",
        "  #Print every 1000th sentence and BLEU score\n",
        "  if i%1000==0:\n",
        "    print('English Sentence: {}'.format(input_sentence))\n",
        "    print('French Reference: {}; French Translation: {}'.format(test_pair[1], french_translation))\n",
        "    print('Spanish Reference: {}; Spanish Translation: {}'.format(test_pair[2], spanish_translation))\n",
        "    print('French BLEU Score: {:.2f}; Spanish BLEU Score: {:.2f}\\n'.format(french_bleu, spanish_bleu))\n",
        "  \n",
        "  numpy.append(scores,[french_bleu, spanish_bleu])\n",
        "\n",
        "#Calculate average BLEU score by language\n",
        "mean_scores = numpy.mean(scores, axis=0)\n",
        "print('Average French  Translation BLEU Score: {:.2f}'.format(mean_scores[0]))\n",
        "print('Average Spanish Translation BLEU Score: {:.2f}'.format(mean_scores[1]))"
      ],
      "execution_count": 0,
      "outputs": []
    }
  ]
}