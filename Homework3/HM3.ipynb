{
  "nbformat": 4,
  "nbformat_minor": 0,
  "metadata": {
    "kernelspec": {
      "name": "python3",
      "display_name": "Python 3"
    },
    "language_info": {
      "codemirror_mode": {
        "name": "ipython",
        "version": 3
      },
      "file_extension": ".py",
      "mimetype": "text/x-python",
      "name": "python",
      "nbconvert_exporter": "python",
      "pygments_lexer": "ipython3",
      "version": "3.6.8"
    },
    "colab": {
      "name": "HM3.ipynb",
      "provenance": []
    },
    "accelerator": "GPU"
  },
  "cells": [
    {
      "cell_type": "markdown",
      "metadata": {
        "id": "wGIZycSOfL_C",
        "colab_type": "text"
      },
      "source": [
        "# Home 3: Build a CNN for image recognition.\n",
        "\n",
        "### Name: Erika Deckter\n"
      ]
    },
    {
      "cell_type": "markdown",
      "metadata": {
        "id": "PkrNWvMvfMAA",
        "colab_type": "text"
      },
      "source": [
        "## 0. You will do the following:\n",
        "\n",
        "1. Read, complete, and run the code.\n",
        "\n",
        "2. **Make substantial improvements** to maximize the accurcy.\n",
        "    \n",
        "3. Convert the .IPYNB file to .HTML file.\n",
        "\n",
        "    * The HTML file must contain the code and the output after execution.\n",
        "    \n",
        "    \n",
        "4. Upload this .HTML file to your Github repo.\n",
        "\n",
        "4. Submit the link to this .HTML file to Canvas.\n",
        "\n",
        "    * Example: https://github.com/wangshusen/CS583-2019F/blob/master/homework/HM3/HM3.html\n",
        "\n",
        "\n",
        "## Requirements:\n",
        "\n",
        "1. You can use whatever CNN architecture, including VGG, Inception, and ResNet. However, you must build the networks layer by layer. You must NOT import the archetectures from ```keras.applications```.\n",
        "\n",
        "2. Make sure ```BatchNormalization``` is between a ```Conv```/```Dense``` layer and an ```activation``` layer.\n",
        "\n",
        "3. If you want to regularize a ```Conv```/```Dense``` layer, you should place a ```Dropout``` layer **before** the ```Conv```/```Dense``` layer.\n",
        "\n",
        "4. An accuracy above 70% is considered reasonable. An accuracy above 80% is considered good. Without data augmentation, achieving 80% accuracy is difficult.\n",
        "\n",
        "\n",
        "## Google Colab\n",
        "\n",
        "- If you do not have GPU, the training of a CNN can be slow. Google Colab is a good option.\n",
        "\n",
        "- Keep in mind that you must download it as an IPYNB file and then use IPython Notebook to convert it to HTML.\n",
        "\n",
        "- Also keep in mind that the IPYNB and HTML files must contain the outputs. (Otherwise, the instructor will not be able to know the correctness and performance.) Do the followings to keep the outputs.\n",
        "\n",
        "- In Colab, go to ```Runtime``` --> ```Change runtime type``` --> Do NOT check ```Omit code cell output when saving this notebook```. In this way, the downloaded IPYNB file contains the outputs."
      ]
    },
    {
      "cell_type": "markdown",
      "metadata": {
        "id": "S2qKcaZUfMAZ",
        "colab_type": "text"
      },
      "source": [
        "## 1. Data preparation"
      ]
    },
    {
      "cell_type": "markdown",
      "metadata": {
        "id": "SmvJpYJZfMBB",
        "colab_type": "text"
      },
      "source": [
        "### 1.1. Load data\n"
      ]
    },
    {
      "cell_type": "code",
      "metadata": {
        "id": "7istnJMefMBY",
        "colab_type": "code",
        "colab": {
          "base_uri": "https://localhost:8080/",
          "height": 164
        },
        "outputId": "a67908df-3bef-4c01-c83b-c155a062e06b"
      },
      "source": [
        "from keras.datasets import cifar10\n",
        "import numpy\n",
        "\n",
        "(x_train, y_train), (x_test, y_test) = cifar10.load_data()\n",
        "\n",
        "print('shape of x_train: ' + str(x_train.shape))\n",
        "print('shape of y_train: ' + str(y_train.shape))\n",
        "print('shape of x_test: ' + str(x_test.shape))\n",
        "print('shape of y_test: ' + str(y_test.shape))\n",
        "print('number of classes: ' + str(numpy.max(y_train) - numpy.min(y_train) + 1))"
      ],
      "execution_count": 2,
      "outputs": [
        {
          "output_type": "stream",
          "text": [
            "Using TensorFlow backend.\n"
          ],
          "name": "stderr"
        },
        {
          "output_type": "stream",
          "text": [
            "Downloading data from https://www.cs.toronto.edu/~kriz/cifar-10-python.tar.gz\n",
            "170500096/170498071 [==============================] - 12s 0us/step\n",
            "shape of x_train: (50000, 32, 32, 3)\n",
            "shape of y_train: (50000, 1)\n",
            "shape of x_test: (10000, 32, 32, 3)\n",
            "shape of y_test: (10000, 1)\n",
            "number of classes: 10\n"
          ],
          "name": "stdout"
        }
      ]
    },
    {
      "cell_type": "markdown",
      "metadata": {
        "id": "XUCSXZcAfMDO",
        "colab_type": "text"
      },
      "source": [
        "### 1.2. One-hot encode the labels\n",
        "\n",
        "In the input, a label is a scalar in $\\{0, 1, \\cdots , 9\\}$. One-hot encode transform such a scalar to a $10$-dim vector. E.g., a scalar ```y_train[j]=3``` is transformed to the vector ```y_train_vec[j]=[0, 0, 0, 1, 0, 0, 0, 0, 0, 0]```.\n",
        "\n",
        "1. Define a function ```to_one_hot``` that transforms an $n\\times 1$ array to a $n\\times 10$ matrix.\n",
        "\n",
        "2. Apply the function to ```y_train``` and ```y_test```."
      ]
    },
    {
      "cell_type": "code",
      "metadata": {
        "id": "huvjsb7zfMDT",
        "colab_type": "code",
        "colab": {
          "base_uri": "https://localhost:8080/",
          "height": 90
        },
        "outputId": "bd434bbd-9b22-4d76-ecf7-d456afc707ca"
      },
      "source": [
        "def to_one_hot(y, num_class=10):\n",
        "    #Define number of rows in y\n",
        "    rows = y.shape[0]\n",
        "    #Define vector of all zeroes with dimension number of examples in y x number of classes\n",
        "    one_hot = numpy.zeros((rows, num_class))\n",
        "    #Update each row with a 1 for the column that corresponds to the label\n",
        "    for row in range(rows):\n",
        "        label = y[row]\n",
        "        one_hot[row,label] = 1\n",
        "    \n",
        "    return one_hot\n",
        "\n",
        "y_train_vec = to_one_hot(y_train)\n",
        "y_test_vec = to_one_hot(y_test)\n",
        "\n",
        "print('Shape of y_train_vec: ' + str(y_train_vec.shape))\n",
        "print('Shape of y_test_vec: ' + str(y_test_vec.shape))\n",
        "\n",
        "print(y_train[0])\n",
        "print(y_train_vec[0])"
      ],
      "execution_count": 3,
      "outputs": [
        {
          "output_type": "stream",
          "text": [
            "Shape of y_train_vec: (50000, 10)\n",
            "Shape of y_test_vec: (10000, 10)\n",
            "[6]\n",
            "[0. 0. 0. 0. 0. 0. 1. 0. 0. 0.]\n"
          ],
          "name": "stdout"
        }
      ]
    },
    {
      "cell_type": "markdown",
      "metadata": {
        "id": "vrwGOqwKfMDf",
        "colab_type": "text"
      },
      "source": [
        "#### Remark: the outputs should be\n",
        "* Shape of y_train_vec: (50000, 10)\n",
        "* Shape of y_test_vec: (10000, 10)\n",
        "* [6]\n",
        "* [0. 0. 0. 0. 0. 0. 1. 0. 0. 0.]"
      ]
    },
    {
      "cell_type": "markdown",
      "metadata": {
        "id": "kU79NxgdfMDi",
        "colab_type": "text"
      },
      "source": [
        "### 1.3. Randomly partition the training set to training and validation sets\n",
        "\n",
        "Randomly partition the 50K training samples to 2 sets:\n",
        "* a training set containing 40K samples\n",
        "* a validation set containing 10K samples\n"
      ]
    },
    {
      "cell_type": "code",
      "metadata": {
        "id": "JuwxhZJRfMDm",
        "colab_type": "code",
        "colab": {
          "base_uri": "https://localhost:8080/",
          "height": 90
        },
        "outputId": "c2d9e6c3-d945-4f7c-c6b3-47bc1b0e8ebd"
      },
      "source": [
        "rand_indices = numpy.random.permutation(50000)\n",
        "train_indices = rand_indices[0:40000]\n",
        "valid_indices = rand_indices[40000:50000]\n",
        "\n",
        "x_val = x_train[valid_indices, :]\n",
        "y_val = y_train_vec[valid_indices, :]\n",
        "\n",
        "x_tr = x_train[train_indices, :]\n",
        "y_tr = y_train_vec[train_indices, :]\n",
        "\n",
        "print('Shape of x_tr: ' + str(x_tr.shape))\n",
        "print('Shape of y_tr: ' + str(y_tr.shape))\n",
        "print('Shape of x_val: ' + str(x_val.shape))\n",
        "print('Shape of y_val: ' + str(y_val.shape))"
      ],
      "execution_count": 4,
      "outputs": [
        {
          "output_type": "stream",
          "text": [
            "Shape of x_tr: (40000, 32, 32, 3)\n",
            "Shape of y_tr: (40000, 10)\n",
            "Shape of x_val: (10000, 32, 32, 3)\n",
            "Shape of y_val: (10000, 10)\n"
          ],
          "name": "stdout"
        }
      ]
    },
    {
      "cell_type": "markdown",
      "metadata": {
        "id": "LvjC9bsJfMD-",
        "colab_type": "text"
      },
      "source": [
        "## 2. Build a CNN and tune its hyper-parameters\n",
        "\n",
        "1. Build a convolutional neural network model\n",
        "2. Use the validation data to tune the hyper-parameters (e.g., network structure, and optimization algorithm)\n",
        "    * Do NOT use test data for hyper-parameter tuning!!!\n",
        "3. Try to achieve a validation accuracy as high as possible."
      ]
    },
    {
      "cell_type": "markdown",
      "metadata": {
        "id": "Zjrg00b2fMEF",
        "colab_type": "text"
      },
      "source": [
        "### Remark: \n",
        "\n",
        "The following CNN is just an example. You are supposed to make **substantial improvements** such as:\n",
        "* Add more layers.\n",
        "* Use regularizations, e.g., dropout.\n",
        "* Use batch normalization."
      ]
    },
    {
      "cell_type": "code",
      "metadata": {
        "id": "Zrl7J5eofMEI",
        "colab_type": "code",
        "colab": {
          "base_uri": "https://localhost:8080/",
          "height": 558
        },
        "outputId": "3a256211-d517-42ef-d22c-5228f46d1bdf"
      },
      "source": [
        "#This code performs data augmentation on the training images\n",
        "from keras.preprocessing.image import ImageDataGenerator\n",
        "\n",
        "#Create data generator function for training data that performs data augmentation\n",
        "training_datagen = ImageDataGenerator(rotation_range=40,\n",
        "                                     width_shift_range=0.2,\n",
        "                                     height_shift_range=0.2,\n",
        "                                     shear_range=0.2,\n",
        "                                     zoom_range=0.2,\n",
        "                                     horizontal_flip=True)\n",
        "#Training data generator for batches of 100 images from the training dataset\n",
        "training_generator = training_datagen.flow(x_tr, y_tr, batch_size=50)\n",
        "\n",
        "#Create data generator function for validation data (don't augment the validation data)\n",
        "validation_datagen = ImageDataGenerator()\n",
        "#Validation data generator for a single batch of all the validation data\n",
        "validation_generator = validation_datagen.flow(x_val, y_val, batch_size=50)\n",
        "\n",
        "#Show sample augmented training image\n",
        "from keras.preprocessing import image\n",
        "import matplotlib.pyplot as plt\n",
        "\n",
        "#Select image to display\n",
        "example = x_tr[1000]\n",
        "#Show original image\n",
        "print('Original Image')\n",
        "plt.imshow(image.array_to_img(example))\n",
        "plt.show()\n",
        "\n",
        "#Show grid of four random augmentations of image\n",
        "i = 1\n",
        "test_image = example.reshape((1,) + example.shape)\n",
        "fig = plt.figure()\n",
        "for sample in training_datagen.flow(test_image, batch_size=1):\n",
        "    fig.add_subplot(2,2,i)\n",
        "    plt.imshow(image.array_to_img(sample[0]))\n",
        "    i += 1\n",
        "    if i % 5 == 0:\n",
        "        break\n",
        "print('Random Augmentation of Image')\n",
        "plt.show()"
      ],
      "execution_count": 5,
      "outputs": [
        {
          "output_type": "stream",
          "text": [
            "Original Image\n"
          ],
          "name": "stdout"
        },
        {
          "output_type": "display_data",
          "data": {
            "image/png": "[encoded data removed]",
            "text/plain": [
              "<Figure size 432x288 with 1 Axes>"
            ]
          },
          "metadata": {
            "tags": []
          }
        },
        {
          "output_type": "stream",
          "text": [
            "Random Augmentation of Image\n"
          ],
          "name": "stdout"
        },
        {
          "output_type": "display_data",
          "data": {
            "image/png": "[encoded data removed]",
            "text/plain": [
              "<Figure size 432x288 with 4 Axes>"
            ]
          },
          "metadata": {
            "tags": []
          }
        }
      ]
    },
    {
      "cell_type": "code",
      "metadata": {
        "id": "W4Ws_HvIwFg8",
        "colab_type": "code",
        "colab": {
          "base_uri": "https://localhost:8080/",
          "height": 1000
        },
        "outputId": "00b77817-597f-4208-ec45-0a88e263aed4"
      },
      "source": [
        "#Build CNN using Keras\n",
        "#Model based on the Inception module architecture\n",
        "#as described in the paper \"Going deeper with convolutions\"\n",
        "#https://arxiv.org/pdf/1409.4842.pdf\n",
        "\n",
        "import tensorflow.keras.layers as layers\n",
        "import tensorflow.keras.models as models\n",
        "from tensorflow.keras import optimizers\n",
        "\n",
        "#Define shape of input\n",
        "image_shape = x_tr.shape[1:]\n",
        "input_shape = layers.Input(shape = image_shape)\n",
        "\n",
        "def inception_module(dimensions, module_input):\n",
        "  x1 = layers.Conv2D(dimensions, (1,1), padding='same')(module_input)\n",
        "  x1 = layers.BatchNormalization()(x1)\n",
        "  x1 = layers.Activation('relu')(x1)\n",
        "  x1 = layers.Conv2D(dimensions, (5,5), padding='same')(x1)\n",
        "  x1 = layers.BatchNormalization()(x1)\n",
        "  x1 = layers.Activation('relu')(x1)\n",
        "  \n",
        "  x2 = layers.Conv2D(dimensions, (1,1), padding='same')(module_input)\n",
        "  x2 = layers.BatchNormalization()(x2)\n",
        "  x2 = layers.Activation('relu')(x2)\n",
        "  x2 = layers.Conv2D(dimensions, (3,3), padding='same')(x2)\n",
        "  x2 = layers.BatchNormalization()(x2)\n",
        "  x2 = layers.Activation('relu')(x2)\n",
        "  \n",
        "  x3 = layers.MaxPooling2D(3,3)(input_shape)\n",
        "  x3 = layers.Conv2D(dimensions, (1,1), padding='same')(module_input)\n",
        "  x3 = layers.BatchNormalization()(x3)\n",
        "  x3 = layers.Activation('relu')(x3)\n",
        "  \n",
        "  x4 = layers.Conv2D(dimensions, (1,1), padding='same')(module_input)\n",
        "  x4 = layers.BatchNormalization()(x4)\n",
        "  x4 = layers.Activation('relu')(x4)\n",
        "  \n",
        "  module_output = layers.concatenate([x1, x2, x3, x4], axis=-1)\n",
        "  \n",
        "  return module_output\n",
        "\n",
        "def build_model():\n",
        "  conv_base = inception_module(64, input_shape)\n",
        "  conv_base = inception_module(64, conv_base)\n",
        "  conv_base = inception_module(64, conv_base)\n",
        "  conv_base = inception_module(64, conv_base)\n",
        "  conv_base = layers.MaxPooling2D(3,3)(conv_base)\n",
        "  conv_base = inception_module(128, conv_base)\n",
        "  conv_base = inception_module(128, conv_base)\n",
        "  conv_base = inception_module(128, conv_base)\n",
        "  conv_base = inception_module(128, conv_base)\n",
        "  conv_base = layers.AveragePooling2D(3,3)(conv_base)\n",
        "\n",
        "  #Add dense layers\n",
        "  output = layers.Flatten()(conv_base)\n",
        "  output = layers.Dropout(0.5)(output)\n",
        "  output = layers.Dense(4096)(output)\n",
        "  output = layers.BatchNormalization()(output)\n",
        "  output = layers.Activation('relu')(output)\n",
        "  output = layers.Dropout(0.5)(output)\n",
        "  output = layers.Dense(10)(output)\n",
        "  output = layers.BatchNormalization()(output)\n",
        "  output = layers.Activation('softmax')(output)\n",
        "\n",
        "  model = models.Model(inputs = input_shape, outputs = output)\n",
        "  \n",
        "  return model\n",
        "\n",
        "#Show model architecture summary\n",
        "build_model().summary()"
      ],
      "execution_count": 6,
      "outputs": [
        {
          "output_type": "stream",
          "text": [
            "WARNING:tensorflow:From /usr/local/lib/python3.6/dist-packages/tensorflow_core/python/ops/resource_variable_ops.py:1630: calling BaseResourceVariable.__init__ (from tensorflow.python.ops.resource_variable_ops) with constraint is deprecated and will be removed in a future version.\n",
            "Instructions for updating:\n",
            "If using Keras pass *_constraint arguments to layers.\n",
            "Model: \"model\"\n",
            "__________________________________________________________________________________________________\n",
            "Layer (type)                    Output Shape         Param #     Connected to                     \n",
            "==================================================================================================\n",
            "input_1 (InputLayer)            [(None, 32, 32, 3)]  0                                            \n",
            "__________________________________________________________________________________________________\n",
            "conv2d (Conv2D)                 (None, 32, 32, 64)   256         input_1[0][0]                    \n",
            "__________________________________________________________________________________________________\n",
            "conv2d_2 (Conv2D)               (None, 32, 32, 64)   256         input_1[0][0]                    \n",
            "__________________________________________________________________________________________________\n",
            "batch_normalization (BatchNorma (None, 32, 32, 64)   256         conv2d[0][0]                     \n",
            "__________________________________________________________________________________________________\n",
            "batch_normalization_2 (BatchNor (None, 32, 32, 64)   256         conv2d_2[0][0]                   \n",
            "__________________________________________________________________________________________________\n",
            "activation (Activation)         (None, 32, 32, 64)   0           batch_normalization[0][0]        \n",
            "__________________________________________________________________________________________________\n",
            "activation_2 (Activation)       (None, 32, 32, 64)   0           batch_normalization_2[0][0]      \n",
            "__________________________________________________________________________________________________\n",
            "conv2d_1 (Conv2D)               (None, 32, 32, 64)   102464      activation[0][0]                 \n",
            "__________________________________________________________________________________________________\n",
            "conv2d_3 (Conv2D)               (None, 32, 32, 64)   36928       activation_2[0][0]               \n",
            "__________________________________________________________________________________________________\n",
            "conv2d_4 (Conv2D)               (None, 32, 32, 64)   256         input_1[0][0]                    \n",
            "__________________________________________________________________________________________________\n",
            "conv2d_5 (Conv2D)               (None, 32, 32, 64)   256         input_1[0][0]                    \n",
            "__________________________________________________________________________________________________\n",
            "batch_normalization_1 (BatchNor (None, 32, 32, 64)   256         conv2d_1[0][0]                   \n",
            "__________________________________________________________________________________________________\n",
            "batch_normalization_3 (BatchNor (None, 32, 32, 64)   256         conv2d_3[0][0]                   \n",
            "__________________________________________________________________________________________________\n",
            "batch_normalization_4 (BatchNor (None, 32, 32, 64)   256         conv2d_4[0][0]                   \n",
            "__________________________________________________________________________________________________\n",
            "batch_normalization_5 (BatchNor (None, 32, 32, 64)   256         conv2d_5[0][0]                   \n",
            "__________________________________________________________________________________________________\n",
            "activation_1 (Activation)       (None, 32, 32, 64)   0           batch_normalization_1[0][0]      \n",
            "__________________________________________________________________________________________________\n",
            "activation_3 (Activation)       (None, 32, 32, 64)   0           batch_normalization_3[0][0]      \n",
            "__________________________________________________________________________________________________\n",
            "activation_4 (Activation)       (None, 32, 32, 64)   0           batch_normalization_4[0][0]      \n",
            "__________________________________________________________________________________________________\n",
            "activation_5 (Activation)       (None, 32, 32, 64)   0           batch_normalization_5[0][0]      \n",
            "__________________________________________________________________________________________________\n",
            "concatenate (Concatenate)       (None, 32, 32, 256)  0           activation_1[0][0]               \n",
            "                                                                 activation_3[0][0]               \n",
            "                                                                 activation_4[0][0]               \n",
            "                                                                 activation_5[0][0]               \n",
            "__________________________________________________________________________________________________\n",
            "conv2d_6 (Conv2D)               (None, 32, 32, 64)   16448       concatenate[0][0]                \n",
            "__________________________________________________________________________________________________\n",
            "conv2d_8 (Conv2D)               (None, 32, 32, 64)   16448       concatenate[0][0]                \n",
            "__________________________________________________________________________________________________\n",
            "batch_normalization_6 (BatchNor (None, 32, 32, 64)   256         conv2d_6[0][0]                   \n",
            "__________________________________________________________________________________________________\n",
            "batch_normalization_8 (BatchNor (None, 32, 32, 64)   256         conv2d_8[0][0]                   \n",
            "__________________________________________________________________________________________________\n",
            "activation_6 (Activation)       (None, 32, 32, 64)   0           batch_normalization_6[0][0]      \n",
            "__________________________________________________________________________________________________\n",
            "activation_8 (Activation)       (None, 32, 32, 64)   0           batch_normalization_8[0][0]      \n",
            "__________________________________________________________________________________________________\n",
            "conv2d_7 (Conv2D)               (None, 32, 32, 64)   102464      activation_6[0][0]               \n",
            "__________________________________________________________________________________________________\n",
            "conv2d_9 (Conv2D)               (None, 32, 32, 64)   36928       activation_8[0][0]               \n",
            "__________________________________________________________________________________________________\n",
            "conv2d_10 (Conv2D)              (None, 32, 32, 64)   16448       concatenate[0][0]                \n",
            "__________________________________________________________________________________________________\n",
            "conv2d_11 (Conv2D)              (None, 32, 32, 64)   16448       concatenate[0][0]                \n",
            "__________________________________________________________________________________________________\n",
            "batch_normalization_7 (BatchNor (None, 32, 32, 64)   256         conv2d_7[0][0]                   \n",
            "__________________________________________________________________________________________________\n",
            "batch_normalization_9 (BatchNor (None, 32, 32, 64)   256         conv2d_9[0][0]                   \n",
            "__________________________________________________________________________________________________\n",
            "batch_normalization_10 (BatchNo (None, 32, 32, 64)   256         conv2d_10[0][0]                  \n",
            "__________________________________________________________________________________________________\n",
            "batch_normalization_11 (BatchNo (None, 32, 32, 64)   256         conv2d_11[0][0]                  \n",
            "__________________________________________________________________________________________________\n",
            "activation_7 (Activation)       (None, 32, 32, 64)   0           batch_normalization_7[0][0]      \n",
            "__________________________________________________________________________________________________\n",
            "activation_9 (Activation)       (None, 32, 32, 64)   0           batch_normalization_9[0][0]      \n",
            "__________________________________________________________________________________________________\n",
            "activation_10 (Activation)      (None, 32, 32, 64)   0           batch_normalization_10[0][0]     \n",
            "__________________________________________________________________________________________________\n",
            "activation_11 (Activation)      (None, 32, 32, 64)   0           batch_normalization_11[0][0]     \n",
            "__________________________________________________________________________________________________\n",
            "concatenate_1 (Concatenate)     (None, 32, 32, 256)  0           activation_7[0][0]               \n",
            "                                                                 activation_9[0][0]               \n",
            "                                                                 activation_10[0][0]              \n",
            "                                                                 activation_11[0][0]              \n",
            "__________________________________________________________________________________________________\n",
            "conv2d_12 (Conv2D)              (None, 32, 32, 64)   16448       concatenate_1[0][0]              \n",
            "__________________________________________________________________________________________________\n",
            "conv2d_14 (Conv2D)              (None, 32, 32, 64)   16448       concatenate_1[0][0]              \n",
            "__________________________________________________________________________________________________\n",
            "batch_normalization_12 (BatchNo (None, 32, 32, 64)   256         conv2d_12[0][0]                  \n",
            "__________________________________________________________________________________________________\n",
            "batch_normalization_14 (BatchNo (None, 32, 32, 64)   256         conv2d_14[0][0]                  \n",
            "__________________________________________________________________________________________________\n",
            "activation_12 (Activation)      (None, 32, 32, 64)   0           batch_normalization_12[0][0]     \n",
            "__________________________________________________________________________________________________\n",
            "activation_14 (Activation)      (None, 32, 32, 64)   0           batch_normalization_14[0][0]     \n",
            "__________________________________________________________________________________________________\n",
            "conv2d_13 (Conv2D)              (None, 32, 32, 64)   102464      activation_12[0][0]              \n",
            "__________________________________________________________________________________________________\n",
            "conv2d_15 (Conv2D)              (None, 32, 32, 64)   36928       activation_14[0][0]              \n",
            "__________________________________________________________________________________________________\n",
            "conv2d_16 (Conv2D)              (None, 32, 32, 64)   16448       concatenate_1[0][0]              \n",
            "__________________________________________________________________________________________________\n",
            "conv2d_17 (Conv2D)              (None, 32, 32, 64)   16448       concatenate_1[0][0]              \n",
            "__________________________________________________________________________________________________\n",
            "batch_normalization_13 (BatchNo (None, 32, 32, 64)   256         conv2d_13[0][0]                  \n",
            "__________________________________________________________________________________________________\n",
            "batch_normalization_15 (BatchNo (None, 32, 32, 64)   256         conv2d_15[0][0]                  \n",
            "__________________________________________________________________________________________________\n",
            "batch_normalization_16 (BatchNo (None, 32, 32, 64)   256         conv2d_16[0][0]                  \n",
            "__________________________________________________________________________________________________\n",
            "batch_normalization_17 (BatchNo (None, 32, 32, 64)   256         conv2d_17[0][0]                  \n",
            "__________________________________________________________________________________________________\n",
            "activation_13 (Activation)      (None, 32, 32, 64)   0           batch_normalization_13[0][0]     \n",
            "__________________________________________________________________________________________________\n",
            "activation_15 (Activation)      (None, 32, 32, 64)   0           batch_normalization_15[0][0]     \n",
            "__________________________________________________________________________________________________\n",
            "activation_16 (Activation)      (None, 32, 32, 64)   0           batch_normalization_16[0][0]     \n",
            "__________________________________________________________________________________________________\n",
            "activation_17 (Activation)      (None, 32, 32, 64)   0           batch_normalization_17[0][0]     \n",
            "__________________________________________________________________________________________________\n",
            "concatenate_2 (Concatenate)     (None, 32, 32, 256)  0           activation_13[0][0]              \n",
            "                                                                 activation_15[0][0]              \n",
            "                                                                 activation_16[0][0]              \n",
            "                                                                 activation_17[0][0]              \n",
            "__________________________________________________________________________________________________\n",
            "conv2d_18 (Conv2D)              (None, 32, 32, 64)   16448       concatenate_2[0][0]              \n",
            "__________________________________________________________________________________________________\n",
            "conv2d_20 (Conv2D)              (None, 32, 32, 64)   16448       concatenate_2[0][0]              \n",
            "__________________________________________________________________________________________________\n",
            "batch_normalization_18 (BatchNo (None, 32, 32, 64)   256         conv2d_18[0][0]                  \n",
            "__________________________________________________________________________________________________\n",
            "batch_normalization_20 (BatchNo (None, 32, 32, 64)   256         conv2d_20[0][0]                  \n",
            "__________________________________________________________________________________________________\n",
            "activation_18 (Activation)      (None, 32, 32, 64)   0           batch_normalization_18[0][0]     \n",
            "__________________________________________________________________________________________________\n",
            "activation_20 (Activation)      (None, 32, 32, 64)   0           batch_normalization_20[0][0]     \n",
            "__________________________________________________________________________________________________\n",
            "conv2d_19 (Conv2D)              (None, 32, 32, 64)   102464      activation_18[0][0]              \n",
            "__________________________________________________________________________________________________\n",
            "conv2d_21 (Conv2D)              (None, 32, 32, 64)   36928       activation_20[0][0]              \n",
            "__________________________________________________________________________________________________\n",
            "conv2d_22 (Conv2D)              (None, 32, 32, 64)   16448       concatenate_2[0][0]              \n",
            "__________________________________________________________________________________________________\n",
            "conv2d_23 (Conv2D)              (None, 32, 32, 64)   16448       concatenate_2[0][0]              \n",
            "__________________________________________________________________________________________________\n",
            "batch_normalization_19 (BatchNo (None, 32, 32, 64)   256         conv2d_19[0][0]                  \n",
            "__________________________________________________________________________________________________\n",
            "batch_normalization_21 (BatchNo (None, 32, 32, 64)   256         conv2d_21[0][0]                  \n",
            "__________________________________________________________________________________________________\n",
            "batch_normalization_22 (BatchNo (None, 32, 32, 64)   256         conv2d_22[0][0]                  \n",
            "__________________________________________________________________________________________________\n",
            "batch_normalization_23 (BatchNo (None, 32, 32, 64)   256         conv2d_23[0][0]                  \n",
            "__________________________________________________________________________________________________\n",
            "activation_19 (Activation)      (None, 32, 32, 64)   0           batch_normalization_19[0][0]     \n",
            "__________________________________________________________________________________________________\n",
            "activation_21 (Activation)      (None, 32, 32, 64)   0           batch_normalization_21[0][0]     \n",
            "__________________________________________________________________________________________________\n",
            "activation_22 (Activation)      (None, 32, 32, 64)   0           batch_normalization_22[0][0]     \n",
            "__________________________________________________________________________________________________\n",
            "activation_23 (Activation)      (None, 32, 32, 64)   0           batch_normalization_23[0][0]     \n",
            "__________________________________________________________________________________________________\n",
            "concatenate_3 (Concatenate)     (None, 32, 32, 256)  0           activation_19[0][0]              \n",
            "                                                                 activation_21[0][0]              \n",
            "                                                                 activation_22[0][0]              \n",
            "                                                                 activation_23[0][0]              \n",
            "__________________________________________________________________________________________________\n",
            "max_pooling2d_4 (MaxPooling2D)  (None, 10, 10, 256)  0           concatenate_3[0][0]              \n",
            "__________________________________________________________________________________________________\n",
            "conv2d_24 (Conv2D)              (None, 10, 10, 128)  32896       max_pooling2d_4[0][0]            \n",
            "__________________________________________________________________________________________________\n",
            "conv2d_26 (Conv2D)              (None, 10, 10, 128)  32896       max_pooling2d_4[0][0]            \n",
            "__________________________________________________________________________________________________\n",
            "batch_normalization_24 (BatchNo (None, 10, 10, 128)  512         conv2d_24[0][0]                  \n",
            "__________________________________________________________________________________________________\n",
            "batch_normalization_26 (BatchNo (None, 10, 10, 128)  512         conv2d_26[0][0]                  \n",
            "__________________________________________________________________________________________________\n",
            "activation_24 (Activation)      (None, 10, 10, 128)  0           batch_normalization_24[0][0]     \n",
            "__________________________________________________________________________________________________\n",
            "activation_26 (Activation)      (None, 10, 10, 128)  0           batch_normalization_26[0][0]     \n",
            "__________________________________________________________________________________________________\n",
            "conv2d_25 (Conv2D)              (None, 10, 10, 128)  409728      activation_24[0][0]              \n",
            "__________________________________________________________________________________________________\n",
            "conv2d_27 (Conv2D)              (None, 10, 10, 128)  147584      activation_26[0][0]              \n",
            "__________________________________________________________________________________________________\n",
            "conv2d_28 (Conv2D)              (None, 10, 10, 128)  32896       max_pooling2d_4[0][0]            \n",
            "__________________________________________________________________________________________________\n",
            "conv2d_29 (Conv2D)              (None, 10, 10, 128)  32896       max_pooling2d_4[0][0]            \n",
            "__________________________________________________________________________________________________\n",
            "batch_normalization_25 (BatchNo (None, 10, 10, 128)  512         conv2d_25[0][0]                  \n",
            "__________________________________________________________________________________________________\n",
            "batch_normalization_27 (BatchNo (None, 10, 10, 128)  512         conv2d_27[0][0]                  \n",
            "__________________________________________________________________________________________________\n",
            "batch_normalization_28 (BatchNo (None, 10, 10, 128)  512         conv2d_28[0][0]                  \n",
            "__________________________________________________________________________________________________\n",
            "batch_normalization_29 (BatchNo (None, 10, 10, 128)  512         conv2d_29[0][0]                  \n",
            "__________________________________________________________________________________________________\n",
            "activation_25 (Activation)      (None, 10, 10, 128)  0           batch_normalization_25[0][0]     \n",
            "__________________________________________________________________________________________________\n",
            "activation_27 (Activation)      (None, 10, 10, 128)  0           batch_normalization_27[0][0]     \n",
            "__________________________________________________________________________________________________\n",
            "activation_28 (Activation)      (None, 10, 10, 128)  0           batch_normalization_28[0][0]     \n",
            "__________________________________________________________________________________________________\n",
            "activation_29 (Activation)      (None, 10, 10, 128)  0           batch_normalization_29[0][0]     \n",
            "__________________________________________________________________________________________________\n",
            "concatenate_4 (Concatenate)     (None, 10, 10, 512)  0           activation_25[0][0]              \n",
            "                                                                 activation_27[0][0]              \n",
            "                                                                 activation_28[0][0]              \n",
            "                                                                 activation_29[0][0]              \n",
            "__________________________________________________________________________________________________\n",
            "conv2d_30 (Conv2D)              (None, 10, 10, 128)  65664       concatenate_4[0][0]              \n",
            "__________________________________________________________________________________________________\n",
            "conv2d_32 (Conv2D)              (None, 10, 10, 128)  65664       concatenate_4[0][0]              \n",
            "__________________________________________________________________________________________________\n",
            "batch_normalization_30 (BatchNo (None, 10, 10, 128)  512         conv2d_30[0][0]                  \n",
            "__________________________________________________________________________________________________\n",
            "batch_normalization_32 (BatchNo (None, 10, 10, 128)  512         conv2d_32[0][0]                  \n",
            "__________________________________________________________________________________________________\n",
            "activation_30 (Activation)      (None, 10, 10, 128)  0           batch_normalization_30[0][0]     \n",
            "__________________________________________________________________________________________________\n",
            "activation_32 (Activation)      (None, 10, 10, 128)  0           batch_normalization_32[0][0]     \n",
            "__________________________________________________________________________________________________\n",
            "conv2d_31 (Conv2D)              (None, 10, 10, 128)  409728      activation_30[0][0]              \n",
            "__________________________________________________________________________________________________\n",
            "conv2d_33 (Conv2D)              (None, 10, 10, 128)  147584      activation_32[0][0]              \n",
            "__________________________________________________________________________________________________\n",
            "conv2d_34 (Conv2D)              (None, 10, 10, 128)  65664       concatenate_4[0][0]              \n",
            "__________________________________________________________________________________________________\n",
            "conv2d_35 (Conv2D)              (None, 10, 10, 128)  65664       concatenate_4[0][0]              \n",
            "__________________________________________________________________________________________________\n",
            "batch_normalization_31 (BatchNo (None, 10, 10, 128)  512         conv2d_31[0][0]                  \n",
            "__________________________________________________________________________________________________\n",
            "batch_normalization_33 (BatchNo (None, 10, 10, 128)  512         conv2d_33[0][0]                  \n",
            "__________________________________________________________________________________________________\n",
            "batch_normalization_34 (BatchNo (None, 10, 10, 128)  512         conv2d_34[0][0]                  \n",
            "__________________________________________________________________________________________________\n",
            "batch_normalization_35 (BatchNo (None, 10, 10, 128)  512         conv2d_35[0][0]                  \n",
            "__________________________________________________________________________________________________\n",
            "activation_31 (Activation)      (None, 10, 10, 128)  0           batch_normalization_31[0][0]     \n",
            "__________________________________________________________________________________________________\n",
            "activation_33 (Activation)      (None, 10, 10, 128)  0           batch_normalization_33[0][0]     \n",
            "__________________________________________________________________________________________________\n",
            "activation_34 (Activation)      (None, 10, 10, 128)  0           batch_normalization_34[0][0]     \n",
            "__________________________________________________________________________________________________\n",
            "activation_35 (Activation)      (None, 10, 10, 128)  0           batch_normalization_35[0][0]     \n",
            "__________________________________________________________________________________________________\n",
            "concatenate_5 (Concatenate)     (None, 10, 10, 512)  0           activation_31[0][0]              \n",
            "                                                                 activation_33[0][0]              \n",
            "                                                                 activation_34[0][0]              \n",
            "                                                                 activation_35[0][0]              \n",
            "__________________________________________________________________________________________________\n",
            "conv2d_36 (Conv2D)              (None, 10, 10, 128)  65664       concatenate_5[0][0]              \n",
            "__________________________________________________________________________________________________\n",
            "conv2d_38 (Conv2D)              (None, 10, 10, 128)  65664       concatenate_5[0][0]              \n",
            "__________________________________________________________________________________________________\n",
            "batch_normalization_36 (BatchNo (None, 10, 10, 128)  512         conv2d_36[0][0]                  \n",
            "__________________________________________________________________________________________________\n",
            "batch_normalization_38 (BatchNo (None, 10, 10, 128)  512         conv2d_38[0][0]                  \n",
            "__________________________________________________________________________________________________\n",
            "activation_36 (Activation)      (None, 10, 10, 128)  0           batch_normalization_36[0][0]     \n",
            "__________________________________________________________________________________________________\n",
            "activation_38 (Activation)      (None, 10, 10, 128)  0           batch_normalization_38[0][0]     \n",
            "__________________________________________________________________________________________________\n",
            "conv2d_37 (Conv2D)              (None, 10, 10, 128)  409728      activation_36[0][0]              \n",
            "__________________________________________________________________________________________________\n",
            "conv2d_39 (Conv2D)              (None, 10, 10, 128)  147584      activation_38[0][0]              \n",
            "__________________________________________________________________________________________________\n",
            "conv2d_40 (Conv2D)              (None, 10, 10, 128)  65664       concatenate_5[0][0]              \n",
            "__________________________________________________________________________________________________\n",
            "conv2d_41 (Conv2D)              (None, 10, 10, 128)  65664       concatenate_5[0][0]              \n",
            "__________________________________________________________________________________________________\n",
            "batch_normalization_37 (BatchNo (None, 10, 10, 128)  512         conv2d_37[0][0]                  \n",
            "__________________________________________________________________________________________________\n",
            "batch_normalization_39 (BatchNo (None, 10, 10, 128)  512         conv2d_39[0][0]                  \n",
            "__________________________________________________________________________________________________\n",
            "batch_normalization_40 (BatchNo (None, 10, 10, 128)  512         conv2d_40[0][0]                  \n",
            "__________________________________________________________________________________________________\n",
            "batch_normalization_41 (BatchNo (None, 10, 10, 128)  512         conv2d_41[0][0]                  \n",
            "__________________________________________________________________________________________________\n",
            "activation_37 (Activation)      (None, 10, 10, 128)  0           batch_normalization_37[0][0]     \n",
            "__________________________________________________________________________________________________\n",
            "activation_39 (Activation)      (None, 10, 10, 128)  0           batch_normalization_39[0][0]     \n",
            "__________________________________________________________________________________________________\n",
            "activation_40 (Activation)      (None, 10, 10, 128)  0           batch_normalization_40[0][0]     \n",
            "__________________________________________________________________________________________________\n",
            "activation_41 (Activation)      (None, 10, 10, 128)  0           batch_normalization_41[0][0]     \n",
            "__________________________________________________________________________________________________\n",
            "concatenate_6 (Concatenate)     (None, 10, 10, 512)  0           activation_37[0][0]              \n",
            "                                                                 activation_39[0][0]              \n",
            "                                                                 activation_40[0][0]              \n",
            "                                                                 activation_41[0][0]              \n",
            "__________________________________________________________________________________________________\n",
            "conv2d_42 (Conv2D)              (None, 10, 10, 128)  65664       concatenate_6[0][0]              \n",
            "__________________________________________________________________________________________________\n",
            "conv2d_44 (Conv2D)              (None, 10, 10, 128)  65664       concatenate_6[0][0]              \n",
            "__________________________________________________________________________________________________\n",
            "batch_normalization_42 (BatchNo (None, 10, 10, 128)  512         conv2d_42[0][0]                  \n",
            "__________________________________________________________________________________________________\n",
            "batch_normalization_44 (BatchNo (None, 10, 10, 128)  512         conv2d_44[0][0]                  \n",
            "__________________________________________________________________________________________________\n",
            "activation_42 (Activation)      (None, 10, 10, 128)  0           batch_normalization_42[0][0]     \n",
            "__________________________________________________________________________________________________\n",
            "activation_44 (Activation)      (None, 10, 10, 128)  0           batch_normalization_44[0][0]     \n",
            "__________________________________________________________________________________________________\n",
            "conv2d_43 (Conv2D)              (None, 10, 10, 128)  409728      activation_42[0][0]              \n",
            "__________________________________________________________________________________________________\n",
            "conv2d_45 (Conv2D)              (None, 10, 10, 128)  147584      activation_44[0][0]              \n",
            "__________________________________________________________________________________________________\n",
            "conv2d_46 (Conv2D)              (None, 10, 10, 128)  65664       concatenate_6[0][0]              \n",
            "__________________________________________________________________________________________________\n",
            "conv2d_47 (Conv2D)              (None, 10, 10, 128)  65664       concatenate_6[0][0]              \n",
            "__________________________________________________________________________________________________\n",
            "batch_normalization_43 (BatchNo (None, 10, 10, 128)  512         conv2d_43[0][0]                  \n",
            "__________________________________________________________________________________________________\n",
            "batch_normalization_45 (BatchNo (None, 10, 10, 128)  512         conv2d_45[0][0]                  \n",
            "__________________________________________________________________________________________________\n",
            "batch_normalization_46 (BatchNo (None, 10, 10, 128)  512         conv2d_46[0][0]                  \n",
            "__________________________________________________________________________________________________\n",
            "batch_normalization_47 (BatchNo (None, 10, 10, 128)  512         conv2d_47[0][0]                  \n",
            "__________________________________________________________________________________________________\n",
            "activation_43 (Activation)      (None, 10, 10, 128)  0           batch_normalization_43[0][0]     \n",
            "__________________________________________________________________________________________________\n",
            "activation_45 (Activation)      (None, 10, 10, 128)  0           batch_normalization_45[0][0]     \n",
            "__________________________________________________________________________________________________\n",
            "activation_46 (Activation)      (None, 10, 10, 128)  0           batch_normalization_46[0][0]     \n",
            "__________________________________________________________________________________________________\n",
            "activation_47 (Activation)      (None, 10, 10, 128)  0           batch_normalization_47[0][0]     \n",
            "__________________________________________________________________________________________________\n",
            "concatenate_7 (Concatenate)     (None, 10, 10, 512)  0           activation_43[0][0]              \n",
            "                                                                 activation_45[0][0]              \n",
            "                                                                 activation_46[0][0]              \n",
            "                                                                 activation_47[0][0]              \n",
            "__________________________________________________________________________________________________\n",
            "average_pooling2d (AveragePooli (None, 3, 3, 512)    0           concatenate_7[0][0]              \n",
            "__________________________________________________________________________________________________\n",
            "flatten (Flatten)               (None, 4608)         0           average_pooling2d[0][0]          \n",
            "__________________________________________________________________________________________________\n",
            "dropout (Dropout)               (None, 4608)         0           flatten[0][0]                    \n",
            "__________________________________________________________________________________________________\n",
            "dense (Dense)                   (None, 4096)         18878464    dropout[0][0]                    \n",
            "__________________________________________________________________________________________________\n",
            "batch_normalization_48 (BatchNo (None, 4096)         16384       dense[0][0]                      \n",
            "__________________________________________________________________________________________________\n",
            "activation_48 (Activation)      (None, 4096)         0           batch_normalization_48[0][0]     \n",
            "__________________________________________________________________________________________________\n",
            "dropout_1 (Dropout)             (None, 4096)         0           activation_48[0][0]              \n",
            "__________________________________________________________________________________________________\n",
            "dense_1 (Dense)                 (None, 10)           40970       dropout_1[0][0]                  \n",
            "__________________________________________________________________________________________________\n",
            "batch_normalization_49 (BatchNo (None, 10)           40          dense_1[0][0]                    \n",
            "__________________________________________________________________________________________________\n",
            "activation_49 (Activation)      (None, 10)           0           batch_normalization_49[0][0]     \n",
            "==================================================================================================\n",
            "Total params: 22,859,058\n",
            "Trainable params: 22,841,630\n",
            "Non-trainable params: 17,428\n",
            "__________________________________________________________________________________________________\n"
          ],
          "name": "stdout"
        }
      ]
    },
    {
      "cell_type": "code",
      "metadata": {
        "id": "UlC_mt-PfMEv",
        "colab_type": "code",
        "colab": {
          "base_uri": "https://localhost:8080/",
          "height": 1000
        },
        "outputId": "16c3f0c1-fb27-4ba0-faf5-d89b81d81cf0"
      },
      "source": [
        "#Import matplotlib for plotting\n",
        "import matplotlib.pyplot as plt\n",
        "%matplotlib inline\n",
        "\n",
        "#Build new model and summarize\n",
        "learning_rates = [0.0001, 0.001, 0.01, 0.1]\n",
        "\n",
        "for learning_rate in learning_rates:\n",
        "  print('Learning Rate: {0:f}'.format(learning_rate))\n",
        "  #Create new model\n",
        "  cnn = build_model()\n",
        "  \n",
        "  #Compile with current learning rate\n",
        "  cnn.compile(loss='categorical_crossentropy',\n",
        "              optimizer=optimizers.RMSprop(lr=learning_rate),\n",
        "              metrics=['acc'])\n",
        "  \n",
        "  #Fit model using current learning rate\n",
        "  history = cnn.fit_generator(training_generator,\n",
        "                              steps_per_epoch = 800, \n",
        "                              epochs = 10, \n",
        "                              validation_data = validation_generator,\n",
        "                              validation_steps = 200)\n",
        "  \n",
        "  #Plot training and validation accuracy\n",
        "  acc = history.history['acc']\n",
        "  val_acc = history.history['val_acc']\n",
        "\n",
        "  epochs = range(1,len(acc)+1)\n",
        "\n",
        "  plt.plot(epochs, acc, 'bo', label='Training acc')\n",
        "  plt.plot(epochs, val_acc, 'r', label='Validation acc')\n",
        "  plt.xlabel('Epochs')\n",
        "  plt.ylabel('Accuracy')\n",
        "  plt.title('Learning Rate: '+str(learning_rate))\n",
        "  plt.legend()\n",
        "  plt.show()  "
      ],
      "execution_count": 7,
      "outputs": [
        {
          "output_type": "stream",
          "text": [
            "Learning Rate: 0.000100\n",
            "Epoch 1/10\n",
            "799/800 [============================>.] - ETA: 0s - loss: 1.6973 - acc: 0.3920Epoch 1/10\n",
            "800/800 [==============================] - 366s 458ms/step - loss: 1.6972 - acc: 0.3921 - val_loss: 1.3382 - val_acc: 0.5380\n",
            "Epoch 2/10\n",
            "799/800 [============================>.] - ETA: 0s - loss: 1.4421 - acc: 0.5055Epoch 1/10\n",
            "800/800 [==============================] - 348s 434ms/step - loss: 1.4421 - acc: 0.5055 - val_loss: 1.1934 - val_acc: 0.5891\n",
            "Epoch 3/10\n",
            "799/800 [============================>.] - ETA: 0s - loss: 1.3122 - acc: 0.5594Epoch 1/10\n",
            "800/800 [==============================] - 347s 434ms/step - loss: 1.3120 - acc: 0.5594 - val_loss: 1.1501 - val_acc: 0.6124\n",
            "Epoch 4/10\n",
            "799/800 [============================>.] - ETA: 0s - loss: 1.2150 - acc: 0.5985Epoch 1/10\n",
            "800/800 [==============================] - 347s 434ms/step - loss: 1.2147 - acc: 0.5986 - val_loss: 1.0312 - val_acc: 0.6606\n",
            "Epoch 5/10\n",
            "799/800 [============================>.] - ETA: 0s - loss: 1.1400 - acc: 0.6302Epoch 1/10\n",
            "800/800 [==============================] - 347s 434ms/step - loss: 1.1398 - acc: 0.6302 - val_loss: 1.0004 - val_acc: 0.6677\n",
            "Epoch 6/10\n",
            "799/800 [============================>.] - ETA: 0s - loss: 1.0723 - acc: 0.6541Epoch 1/10\n",
            "800/800 [==============================] - 346s 433ms/step - loss: 1.0722 - acc: 0.6542 - val_loss: 0.9110 - val_acc: 0.7064\n",
            "Epoch 7/10\n",
            "799/800 [============================>.] - ETA: 0s - loss: 1.0093 - acc: 0.6790Epoch 1/10\n",
            "800/800 [==============================] - 346s 433ms/step - loss: 1.0092 - acc: 0.6790 - val_loss: 1.0718 - val_acc: 0.6448\n",
            "Epoch 8/10\n",
            "799/800 [============================>.] - ETA: 0s - loss: 0.9631 - acc: 0.6940Epoch 1/10\n",
            "800/800 [==============================] - 347s 433ms/step - loss: 0.9632 - acc: 0.6940 - val_loss: 0.8923 - val_acc: 0.7170\n",
            "Epoch 9/10\n",
            "799/800 [============================>.] - ETA: 0s - loss: 0.9151 - acc: 0.7100Epoch 1/10\n",
            "800/800 [==============================] - 346s 433ms/step - loss: 0.9150 - acc: 0.7099 - val_loss: 0.8111 - val_acc: 0.7383\n",
            "Epoch 10/10\n",
            "799/800 [============================>.] - ETA: 0s - loss: 0.8735 - acc: 0.7254Epoch 1/10\n",
            "800/800 [==============================] - 346s 433ms/step - loss: 0.8735 - acc: 0.7254 - val_loss: 1.0142 - val_acc: 0.6698\n"
          ],
          "name": "stdout"
        },
        {
          "output_type": "display_data",
          "data": {
            "image/png": "[encoded data removed]",
            "text/plain": [
              "<Figure size 432x288 with 1 Axes>"
            ]
          },
          "metadata": {
            "tags": []
          }
        },
        {
          "output_type": "stream",
          "text": [
            "Learning Rate: 0.001000\n",
            "Epoch 1/10\n",
            "799/800 [============================>.] - ETA: 0s - loss: 1.6265 - acc: 0.4155Epoch 1/10\n",
            "800/800 [==============================] - 365s 456ms/step - loss: 1.6263 - acc: 0.4156 - val_loss: 2.1014 - val_acc: 0.3888\n",
            "Epoch 2/10\n",
            "799/800 [============================>.] - ETA: 0s - loss: 1.2552 - acc: 0.5667Epoch 1/10\n",
            "800/800 [==============================] - 347s 433ms/step - loss: 1.2552 - acc: 0.5666 - val_loss: 1.3554 - val_acc: 0.5612\n",
            "Epoch 3/10\n",
            "799/800 [============================>.] - ETA: 0s - loss: 1.0840 - acc: 0.6293Epoch 1/10\n",
            "800/800 [==============================] - 347s 434ms/step - loss: 1.0838 - acc: 0.6292 - val_loss: 1.0667 - val_acc: 0.6505\n",
            "Epoch 4/10\n",
            "799/800 [============================>.] - ETA: 0s - loss: 0.9763 - acc: 0.6664Epoch 1/10\n",
            "800/800 [==============================] - 347s 434ms/step - loss: 0.9762 - acc: 0.6665 - val_loss: 1.0886 - val_acc: 0.6381\n",
            "Epoch 5/10\n",
            "799/800 [============================>.] - ETA: 0s - loss: 0.8840 - acc: 0.7025Epoch 1/10\n",
            "800/800 [==============================] - 346s 433ms/step - loss: 0.8842 - acc: 0.7023 - val_loss: 1.0398 - val_acc: 0.6794\n",
            "Epoch 6/10\n",
            "799/800 [============================>.] - ETA: 0s - loss: 0.8239 - acc: 0.7203Epoch 1/10\n",
            "800/800 [==============================] - 346s 433ms/step - loss: 0.8236 - acc: 0.7204 - val_loss: 0.7216 - val_acc: 0.7623\n",
            "Epoch 7/10\n",
            "799/800 [============================>.] - ETA: 0s - loss: 0.7638 - acc: 0.7428Epoch 1/10\n",
            "800/800 [==============================] - 346s 433ms/step - loss: 0.7637 - acc: 0.7429 - val_loss: 0.9732 - val_acc: 0.6934\n",
            "Epoch 8/10\n",
            "799/800 [============================>.] - ETA: 0s - loss: 0.7229 - acc: 0.7580Epoch 1/10\n",
            "800/800 [==============================] - 347s 434ms/step - loss: 0.7227 - acc: 0.7581 - val_loss: 0.6948 - val_acc: 0.7692\n",
            "Epoch 9/10\n",
            "799/800 [============================>.] - ETA: 0s - loss: 0.6887 - acc: 0.7686Epoch 1/10\n",
            "800/800 [==============================] - 347s 433ms/step - loss: 0.6887 - acc: 0.7686 - val_loss: 0.6092 - val_acc: 0.8002\n",
            "Epoch 10/10\n",
            "799/800 [============================>.] - ETA: 0s - loss: 0.6530 - acc: 0.7808Epoch 1/10\n",
            "800/800 [==============================] - 346s 432ms/step - loss: 0.6530 - acc: 0.7808 - val_loss: 0.6008 - val_acc: 0.8031\n"
          ],
          "name": "stdout"
        },
        {
          "output_type": "display_data",
          "data": {
            "image/png": "[encoded data removed]",
            "text/plain": [
              "<Figure size 432x288 with 1 Axes>"
            ]
          },
          "metadata": {
            "tags": []
          }
        },
        {
          "output_type": "stream",
          "text": [
            "Learning Rate: 0.010000\n",
            "Epoch 1/10\n",
            "799/800 [============================>.] - ETA: 0s - loss: 1.7852 - acc: 0.3395Epoch 1/10\n",
            "800/800 [==============================] - 367s 458ms/step - loss: 1.7851 - acc: 0.3396 - val_loss: 3.1774 - val_acc: 0.2970\n",
            "Epoch 2/10\n",
            "799/800 [============================>.] - ETA: 0s - loss: 1.4595 - acc: 0.4700Epoch 1/10\n",
            "800/800 [==============================] - 346s 433ms/step - loss: 1.4594 - acc: 0.4700 - val_loss: 2.0801 - val_acc: 0.4070\n",
            "Epoch 3/10\n",
            "799/800 [============================>.] - ETA: 0s - loss: 1.2901 - acc: 0.5372Epoch 1/10\n",
            "800/800 [==============================] - 347s 434ms/step - loss: 1.2901 - acc: 0.5372 - val_loss: 1.2667 - val_acc: 0.5768\n",
            "Epoch 4/10\n",
            "799/800 [============================>.] - ETA: 0s - loss: 1.1641 - acc: 0.5894Epoch 1/10\n",
            "800/800 [==============================] - 348s 434ms/step - loss: 1.1639 - acc: 0.5894 - val_loss: 1.1558 - val_acc: 0.6183\n",
            "Epoch 5/10\n",
            "799/800 [============================>.] - ETA: 0s - loss: 1.0706 - acc: 0.6249Epoch 1/10\n",
            "800/800 [==============================] - 347s 434ms/step - loss: 1.0706 - acc: 0.6249 - val_loss: 1.2217 - val_acc: 0.6086\n",
            "Epoch 6/10\n",
            "799/800 [============================>.] - ETA: 0s - loss: 1.0037 - acc: 0.6503Epoch 1/10\n",
            "800/800 [==============================] - 349s 436ms/step - loss: 1.0039 - acc: 0.6503 - val_loss: 1.0377 - val_acc: 0.6491\n",
            "Epoch 7/10\n",
            "799/800 [============================>.] - ETA: 0s - loss: 0.9422 - acc: 0.6750Epoch 1/10\n",
            "800/800 [==============================] - 348s 435ms/step - loss: 0.9422 - acc: 0.6750 - val_loss: 0.9139 - val_acc: 0.6991\n",
            "Epoch 8/10\n",
            "799/800 [============================>.] - ETA: 0s - loss: 0.8972 - acc: 0.6904Epoch 1/10\n",
            "800/800 [==============================] - 347s 434ms/step - loss: 0.8972 - acc: 0.6905 - val_loss: 1.2600 - val_acc: 0.6425\n",
            "Epoch 9/10\n",
            "799/800 [============================>.] - ETA: 0s - loss: 0.8505 - acc: 0.7068Epoch 1/10\n",
            "800/800 [==============================] - 349s 436ms/step - loss: 0.8505 - acc: 0.7067 - val_loss: 0.7643 - val_acc: 0.7332\n",
            "Epoch 10/10\n",
            "799/800 [============================>.] - ETA: 0s - loss: 0.8137 - acc: 0.7214Epoch 1/10\n",
            "800/800 [==============================] - 349s 436ms/step - loss: 0.8134 - acc: 0.7214 - val_loss: 0.7118 - val_acc: 0.7581\n"
          ],
          "name": "stdout"
        },
        {
          "output_type": "display_data",
          "data": {
            "image/png": "[encoded data removed]",
            "text/plain": [
              "<Figure size 432x288 with 1 Axes>"
            ]
          },
          "metadata": {
            "tags": []
          }
        },
        {
          "output_type": "stream",
          "text": [
            "Learning Rate: 0.100000\n",
            "Epoch 1/10\n",
            "799/800 [============================>.] - ETA: 0s - loss: 1.8744 - acc: 0.2990Epoch 1/10\n",
            "800/800 [==============================] - 374s 467ms/step - loss: 1.8740 - acc: 0.2991 - val_loss: 1.9062 - val_acc: 0.4148\n",
            "Epoch 2/10\n",
            "799/800 [============================>.] - ETA: 0s - loss: 1.5458 - acc: 0.4322Epoch 1/10\n",
            "800/800 [==============================] - 348s 435ms/step - loss: 1.5456 - acc: 0.4322 - val_loss: 1.8136 - val_acc: 0.4372\n",
            "Epoch 3/10\n",
            "799/800 [============================>.] - ETA: 0s - loss: 1.3980 - acc: 0.4936Epoch 1/10\n",
            "800/800 [==============================] - 348s 435ms/step - loss: 1.3976 - acc: 0.4937 - val_loss: 1.8510 - val_acc: 0.4655\n",
            "Epoch 4/10\n",
            "799/800 [============================>.] - ETA: 0s - loss: 1.2970 - acc: 0.5346Epoch 1/10\n",
            "800/800 [==============================] - 348s 435ms/step - loss: 1.2969 - acc: 0.5347 - val_loss: 1.6017 - val_acc: 0.4928\n",
            "Epoch 5/10\n",
            "799/800 [============================>.] - ETA: 0s - loss: 1.2124 - acc: 0.5685Epoch 1/10\n",
            "800/800 [==============================] - 348s 435ms/step - loss: 1.2122 - acc: 0.5685 - val_loss: 1.3612 - val_acc: 0.5641\n",
            "Epoch 6/10\n",
            "799/800 [============================>.] - ETA: 0s - loss: 1.1486 - acc: 0.5937Epoch 1/10\n",
            "800/800 [==============================] - 348s 435ms/step - loss: 1.1491 - acc: 0.5936 - val_loss: 1.2808 - val_acc: 0.5804\n",
            "Epoch 7/10\n",
            "799/800 [============================>.] - ETA: 0s - loss: 1.1019 - acc: 0.6121Epoch 1/10\n",
            "800/800 [==============================] - 348s 435ms/step - loss: 1.1018 - acc: 0.6122 - val_loss: 1.2071 - val_acc: 0.6188\n",
            "Epoch 8/10\n",
            "799/800 [============================>.] - ETA: 0s - loss: 1.0607 - acc: 0.6269Epoch 1/10\n",
            "800/800 [==============================] - 347s 434ms/step - loss: 1.0602 - acc: 0.6272 - val_loss: 1.3725 - val_acc: 0.5897\n",
            "Epoch 9/10\n",
            "799/800 [============================>.] - ETA: 0s - loss: 1.0205 - acc: 0.6447Epoch 1/10\n",
            "800/800 [==============================] - 348s 435ms/step - loss: 1.0202 - acc: 0.6447 - val_loss: 1.3340 - val_acc: 0.5773\n",
            "Epoch 10/10\n",
            "799/800 [============================>.] - ETA: 0s - loss: 0.9799 - acc: 0.6584Epoch 1/10\n",
            "800/800 [==============================] - 347s 434ms/step - loss: 0.9797 - acc: 0.6586 - val_loss: 0.9137 - val_acc: 0.7008\n"
          ],
          "name": "stdout"
        },
        {
          "output_type": "display_data",
          "data": {
            "image/png": "[encoded data removed]",
            "text/plain": [
              "<Figure size 432x288 with 1 Axes>"
            ]
          },
          "metadata": {
            "tags": []
          }
        }
      ]
    },
    {
      "cell_type": "markdown",
      "metadata": {
        "id": "WFHT3HpFfMGq",
        "colab_type": "text"
      },
      "source": [
        "## 3. Train (again) and evaluate the model\n",
        "\n",
        "- To this end, you have found the \"best\" hyper-parameters. \n",
        "- Now, fix the hyper-parameters and train the network on the entire training set (all the 50K training samples)\n",
        "- Evaluate your model on the test set."
      ]
    },
    {
      "cell_type": "markdown",
      "metadata": {
        "id": "K1QUJVMpfMG5",
        "colab_type": "text"
      },
      "source": [
        "### 3.1. Train the model on the entire training set\n",
        "\n",
        "Why? Previously, you used 40K samples for training; you wasted 10K samples for the sake of hyper-parameter tuning. Now you already know the hyper-parameters, so why not using all the 50K samples for training?"
      ]
    },
    {
      "cell_type": "code",
      "metadata": {
        "id": "EaxhR-9pfMHO",
        "colab_type": "code",
        "colab": {}
      },
      "source": [
        "#Build and compile a final version of the model using the best learning rate\n",
        "learning_rate=0.01\n",
        "\n",
        "final_model = build_model()\n",
        "final_model.compile(loss='categorical_crossentropy',\n",
        "                    optimizer=optimizers.RMSprop(lr=learning_rate),\n",
        "                    metrics=['acc'])"
      ],
      "execution_count": 0,
      "outputs": []
    },
    {
      "cell_type": "code",
      "metadata": {
        "id": "SqrYri9OfMII",
        "colab_type": "code",
        "colab": {}
      },
      "source": [
        "#Train final model using full training dataset\n",
        "final_model.fit_generator(training_datagen.flow(x_train, y_train_vec, batch_size=50),\n",
        "                          steps_per_epoch=1000,\n",
        "                          epochs=10)"
      ],
      "execution_count": 0,
      "outputs": []
    },
    {
      "cell_type": "markdown",
      "metadata": {
        "id": "I2TgF7q1fMJP",
        "colab_type": "text"
      },
      "source": [
        "### 3.2. Evaluate the model on the test set\n",
        "\n",
        "Do NOT use the test set until now. Make sure that your model parameters and hyper-parameters are independent of the test set."
      ]
    },
    {
      "cell_type": "code",
      "metadata": {
        "id": "HCOi6dvJfMJc",
        "colab_type": "code",
        "colab": {}
      },
      "source": [
        "loss_and_acc = final_model.evaluate(x_test, y_test_vec)\n",
        "print('loss = ' + str(loss_and_acc[0]))\n",
        "print('accuracy = ' + str(loss_and_acc[1]))"
      ],
      "execution_count": 0,
      "outputs": []
    }
  ]
}